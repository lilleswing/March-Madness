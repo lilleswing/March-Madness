{
 "cells": [
  {
   "cell_type": "code",
   "execution_count": 1,
   "id": "9e9020ca-6816-4d7d-9e4a-9364133aec07",
   "metadata": {},
   "outputs": [],
   "source": [
    "import json"
   ]
  },
  {
   "cell_type": "code",
   "execution_count": 3,
   "id": "364e59fb-19f7-4ad3-96f3-6731e9904852",
   "metadata": {},
   "outputs": [],
   "source": [
    "prob_preds = json.loads(open('model_results/results_probs_2022.json').read())"
   ]
  },
  {
   "cell_type": "code",
   "execution_count": 8,
   "id": "29504454-8da9-458e-b87d-06826bc4981a",
   "metadata": {},
   "outputs": [
    {
     "name": "stdout",
     "output_type": "stream",
     "text": [
      "Arizona&y=2022\n",
      "Baylor&y=2022\n",
      "Texas+Tech&y=2022\n"
     ]
    }
   ],
   "source": [
    "l = []\n",
    "for k, v in prob_preds.items():\n",
    "    t1, t2 = k.split(':')\n",
    "    if t1.find(\"Gonzaga\") != -1:\n",
    "        l.append(v)\n",
    "        if v < 0.5:\n",
    "            print(t2)"
   ]
  },
  {
   "cell_type": "code",
   "execution_count": 10,
   "id": "7adcdb18-4943-4397-967c-81f5e59ad6f1",
   "metadata": {},
   "outputs": [
    {
     "name": "stdout",
     "output_type": "stream",
     "text": [
      "Baylor&y=2022\n",
      "Villanova&y=2022\n"
     ]
    }
   ],
   "source": [
    "l = []\n",
    "for k, v in prob_preds.items():\n",
    "    t1, t2 = k.split(':')\n",
    "    if t1.find(\"Texas+Tech&y=2022\") != -1:\n",
    "        l.append(v)\n",
    "        if v < 0.5:\n",
    "            print(t2)"
   ]
  },
  {
   "cell_type": "code",
   "execution_count": 7,
   "id": "971a855b-95ec-4e8b-9db0-bcc912bf56e7",
   "metadata": {},
   "outputs": [
    {
     "data": {
      "text/plain": [
       "(array([  3.,   2.,   0.,   0.,   6.,   0.,  18.,   0.,  29., 298.]),\n",
       " array([0.42635403, 0.48337367, 0.5403933 , 0.59741294, 0.65443258,\n",
       "        0.71145222, 0.76847185, 0.82549149, 0.88251113, 0.93953077,\n",
       "        0.9965504 ]),\n",
       " <BarContainer object of 10 artists>)"
      ]
     },
     "execution_count": 7,
     "metadata": {},
     "output_type": "execute_result"
    },
    {
     "data": {
      "image/png": "[encoded data removed]",
      "text/plain": [
       "<Figure size 432x288 with 1 Axes>"
      ]
     },
     "metadata": {
      "needs_background": "light"
     },
     "output_type": "display_data"
    }
   ],
   "source": [
    "import matplotlib.pyplot as plt\n",
    "%matplotlib inline\n",
    "plt.hist(l)"
   ]
  },
  {
   "cell_type": "code",
   "execution_count": null,
   "id": "4eec4896-27e3-4524-8ad3-149cad6d0745",
   "metadata": {},
   "outputs": [],
   "source": []
  }
 ],
 "metadata": {
  "kernelspec": {
   "display_name": "Python 3 (ipykernel)",
   "language": "python",
   "name": "python3"
  },
  "language_info": {
   "codemirror_mode": {
    "name": "ipython",
    "version": 3
   },
   "file_extension": ".py",
   "mimetype": "text/x-python",
   "name": "python",
   "nbconvert_exporter": "python",
   "pygments_lexer": "ipython3",
   "version": "3.8.12"
  }
 },
 "nbformat": 4,
 "nbformat_minor": 5
}
