{
 "cells": [
  {
   "cell_type": "code",
   "execution_count": 1,
   "id": "6b4af79c-2cfc-42da-88f2-9f3868ecc5af",
   "metadata": {},
   "outputs": [],
   "source": [
    "# Given a +- score what is the probability of winning the game?"
   ]
  },
  {
   "cell_type": "code",
   "execution_count": 1,
   "id": "96dbc3f1-7bf3-4a1c-a00d-f67b985571e9",
   "metadata": {
    "tags": []
   },
   "outputs": [
    {
     "name": "stdout",
     "output_type": "stream",
     "text": [
      "reg_model.pt                                  100%  298KB 979.5KB/s   00:00    \n",
      "model_checkpoint.pt                           100%  891KB   1.6MB/s   00:00    \n",
      "reg_model.pt                                  100%  298KB   1.9MB/s   00:00    \n",
      "model_checkpoint.pt                           100%  891KB   2.9MB/s   00:00    \n",
      "reg_model.pt                                  100%  298KB   3.5MB/s   00:00    \n",
      "model_checkpoint.pt                           100%  891KB   4.4MB/s   00:00    \n",
      "reg_model.pt                                  100%  298KB   5.1MB/s   00:00    \n",
      "model_checkpoint.pt                           100%  891KB   5.9MB/s   00:00    \n",
      "reg_model.pt                                  100%  298KB   5.9MB/s   00:00    \n",
      "model_checkpoint.pt                           100%  891KB   5.1MB/s   00:00    \n",
      "reg_model.pt                                  100%  298KB   5.3MB/s   00:00    \n",
      "model_checkpoint.pt                           100%  891KB   6.2MB/s   00:00    \n",
      "reg_model.pt                                  100%  298KB   6.8MB/s   00:00    \n",
      "model_checkpoint.pt                           100%  891KB   7.1MB/s   00:00    \n",
      "reg_model.pt                                  100%  298KB   5.7MB/s   00:00    \n",
      "model_checkpoint.pt                           100%  891KB   7.4MB/s   00:00    \n",
      "reg_model.pt                                  100%  298KB   5.9MB/s   00:00    \n",
      "model_checkpoint.pt                           100%  891KB   8.4MB/s   00:00    \n",
      "reg_model.pt                                  100%  298KB   5.6MB/s   00:00    \n",
      "model_checkpoint.pt                           100%  891KB   8.5MB/s   00:00    \n",
      "best_params.json                              100%  160     7.9KB/s   00:00    \n",
      "experiment.pkl                                100%    0     0.0KB/s   00:00    \n",
      "values.pkl                                    100%   56     3.9KB/s   00:00    \n"
     ]
    }
   ],
   "source": [
    "!scp -r boltio.schrodinger.com:/nfs/working/deep_learn/leswing/madness/models/20 ./"
   ]
  },
  {
   "cell_type": "code",
   "execution_count": 2,
   "id": "0d5e2464-8841-4e4a-a3c9-bd2ddce84122",
   "metadata": {},
   "outputs": [],
   "source": [
    "!mv 20 models"
   ]
  },
  {
   "cell_type": "code",
   "execution_count": 3,
   "id": "47d09927-23ee-46c4-a9d5-2481ddce0e52",
   "metadata": {},
   "outputs": [
    {
     "name": "stderr",
     "output_type": "stream",
     "text": [
      "/Users/leswing/miniconda3/envs/ligand_ml/lib/python3.8/site-packages/tqdm/auto.py:22: TqdmWarning: IProgress not found. Please update jupyter and ipywidgets. See https://ipywidgets.readthedocs.io/en/stable/user_install.html\n",
      "  from .autonotebook import tqdm as notebook_tqdm\n",
      "/Users/leswing/miniconda3/envs/ligand_ml/lib/python3.8/site-packages/xgboost/compat.py:36: FutureWarning:\n",
      "\n",
      "pandas.Int64Index is deprecated and will be removed from pandas in a future version. Use pandas.Index with the appropriate dtype instead.\n",
      "\n"
     ]
    }
   ],
   "source": [
    "import hashlib\n",
    "import os\n",
    "import numpy as np\n",
    "import pickle\n",
    "import json\n",
    "\n",
    "from ligand_ml.data import NumpyDataset\n",
    "from ligand_ml.data import DiskDataset\n",
    "from ligand_ml.models.torchm.model_mechanics import DenseModel\n",
    "\n",
    "\n",
    "def load_transformers():\n",
    "    with open('transformers.pkl', 'rb') as fin:\n",
    "        return pickle.load(fin)\n",
    "\n",
    "\n",
    "def get_team_fvs(year):\n",
    "    d = json.loads(open('team_fvs.json').read())\n",
    "\n",
    "    X = []\n",
    "    team_names = []\n",
    "    for k, v in d.items():\n",
    "        if k.find(year) == -1:\n",
    "            continue\n",
    "        X.append(v[0])\n",
    "        team_names.append(k)\n",
    "\n",
    "    print(len(team_names))\n",
    "    ds = NumpyDataset(X, np.ones(len(X)), np.ones(len(X)), range(len(X)))\n",
    "\n",
    "    return ds.X, team_names\n",
    "\n",
    "\n",
    "def create_dataset(year):\n",
    "    fvs, team_names = get_team_fvs(year)\n",
    "    X = []\n",
    "    for i, t1 in enumerate(team_names):\n",
    "        for j, t2 in enumerate(team_names):\n",
    "            if j <= i:\n",
    "                continue\n",
    "            fv1 = np.concatenate([fvs[i], fvs[j]])\n",
    "            fv2 = np.concatenate([fvs[j], fvs[i]])\n",
    "            X.append(fv1)\n",
    "            X.append(fv2)\n",
    "    print(np.array(X).shape)\n",
    "    ds = NumpyDataset(X, np.ones(len(X)), np.ones(len(X)), range(len(X)))\n",
    "    transformers = load_transformers()\n",
    "    for trans in transformers:\n",
    "        ds = trans.transform(ds)\n",
    "    return ds\n",
    "\n",
    "\n",
    "def make_predictions(ds, model_key):\n",
    "    transformers = load_transformers()\n",
    "    all_preds = []\n",
    "    for fold in range(5):\n",
    "        path = os.path.join('models', model_key, str(fold))\n",
    "        d = DenseModel(path, mode='regression')\n",
    "        preds = np.squeeze(d.predict(ds))\n",
    "        preds = transformers[1].untransform(preds)\n",
    "        all_preds.append(preds)\n",
    "\n",
    "    retval = np.mean(all_preds, axis=0)\n",
    "    print(f\"Predictions shape {retval.shape}\")\n",
    "    return retval\n",
    "\n",
    "\n",
    "def convert_to_games(predictions, year):\n",
    "    fvs, team_names = get_team_fvs(year)\n",
    "    games = []\n",
    "    for i, t1 in enumerate(team_names):\n",
    "        for j, t2 in enumerate(team_names):\n",
    "            if j <= i:\n",
    "                continue\n",
    "            games.append((t1, t2))\n",
    "\n",
    "    results = {}\n",
    "    index = 0\n",
    "    while index < len(predictions):\n",
    "        v1, v2 = predictions[index], predictions[index + 1]\n",
    "        v2 *= -1\n",
    "        average = (v1 + v2) / 2\n",
    "\n",
    "        t1, t2 = games[index // 2]\n",
    "        results[f\"{t1}:{t2}\"] = average\n",
    "        results[f\"{t2}:{t1}\"] = average * -1\n",
    "        index += 2\n",
    "    return results\n",
    "\n",
    "\n",
    "def play_year(year):\n",
    "    with open('models/best_params.json', 'r') as fin:\n",
    "        best_params = json.loads(fin.read())\n",
    "    model_key = hashlib.md5(str(best_params).encode('utf-8')).hexdigest()\n",
    "\n",
    "    ds = create_dataset(year)\n",
    "    predictions = make_predictions(ds, model_key)\n",
    "    predictions = convert_to_games(predictions, year)\n",
    "    with open(f'results_{year}.json', 'w') as fout:\n",
    "        fout.write(json.dumps(predictions, indent=4, sort_keys=True))\n"
   ]
  },
  {
   "cell_type": "code",
   "execution_count": 4,
   "id": "e6bbf931-fa52-4f03-b073-67e743f0d305",
   "metadata": {},
   "outputs": [],
   "source": [
    "with open('models/best_params.json', 'r') as fin:\n",
    "    best_params = json.loads(fin.read())\n",
    "model_key = hashlib.md5(str(best_params).encode('utf-8')).hexdigest()\n"
   ]
  },
  {
   "cell_type": "code",
   "execution_count": 5,
   "id": "8722b58b-e86f-40be-8323-adfbf4da6252",
   "metadata": {},
   "outputs": [],
   "source": [
    "import pandas as pd\n",
    "\n",
    "def get_fold_df(fold):\n",
    "    transformers = load_transformers()\n",
    "    ds = DiskDataset(f'datasets/full_folds/valid{fold}')\n",
    "    preds = make_predictions(ds, model_key)\n",
    "    \n",
    "    num_games = ds.X.shape[0]//2\n",
    "    first_games = ds.X[:num_games,:]\n",
    "    second_games = ds.X[num_games:,:]\n",
    "    \n",
    "    avg_results = []\n",
    "    for i in range(num_games):\n",
    "        v = (preds[i] + preds[i+num_games]*-1) / 2\n",
    "        avg_results.append(v)\n",
    "    other_way_games = np.array(avg_results) * -1\n",
    "    y_avg = np.concatenate([avg_results, other_way_games])\n",
    "    true_points = np.squeeze(transformers[1].untransform(ds.y))\n",
    "    df = pd.DataFrame(list(zip(true_points, y_avg)), columns=[\"y_true\", \"y_pred\"])\n",
    "    return df\n",
    "    \n",
    "def get_all_games():\n",
    "    dfs = []\n",
    "    for i in range(5):\n",
    "        df = get_fold_df(i)\n",
    "        dfs.append(df)\n",
    "    return pd.concat(dfs)"
   ]
  },
  {
   "cell_type": "code",
   "execution_count": 6,
   "id": "24d43f33-ecbf-4848-80f7-870d958f4fd3",
   "metadata": {},
   "outputs": [
    {
     "name": "stdout",
     "output_type": "stream",
     "text": [
      "Predictions shape (14358,)\n",
      "Predictions shape (14358,)\n",
      "Predictions shape (14358,)\n",
      "Predictions shape (14358,)\n",
      "Predictions shape (14358,)\n"
     ]
    }
   ],
   "source": [
    "all_game_df = get_all_games()"
   ]
  },
  {
   "cell_type": "code",
   "execution_count": 7,
   "id": "b541d0d2-9591-4e1f-b21e-63921842e28e",
   "metadata": {},
   "outputs": [],
   "source": [
    "from copy import deepcopy\n",
    "def get_probability_map(df):\n",
    "    bounds = [-float('inf'), -20, -15, -10, -5, -4, -3, -2, -1, -0.5, 0.5, 1, 2, 3, 4, 5, 10, 15, 20, float('inf')]\n",
    "    probs = [0]\n",
    "    for i in range(1, len(bounds)):\n",
    "        my_df = deepcopy(df)\n",
    "        my_df['is_more'] = my_df['y_pred'] > bounds[i-1]\n",
    "        my_df['is_less'] = my_df['y_pred'] < bounds[i]\n",
    "        my_df = my_df[my_df['is_more']]\n",
    "        my_df = my_df[my_df['is_less']]\n",
    "\n",
    "\n",
    "        my_df['has_won'] = my_df['y_true'] > 0\n",
    "\n",
    "        #is_wrong = len(my_df) - sum(my_df['is_correct'])\n",
    "        if len(my_df) == 0:\n",
    "            print(f\"No Values for {bounds[i]}\")\n",
    "            probs.append(0)\n",
    "        else:\n",
    "            probs.append(sum(my_df['has_won']) / len(my_df))\n",
    "    return bounds, probs"
   ]
  },
  {
   "cell_type": "code",
   "execution_count": 8,
   "id": "7829e291-9e27-4fdf-9e28-d32a0299f9b8",
   "metadata": {},
   "outputs": [
    {
     "data": {
      "text/plain": [
       "[<matplotlib.lines.Line2D at 0x7ff1c01b3a60>]"
      ]
     },
     "execution_count": 8,
     "metadata": {},
     "output_type": "execute_result"
    },
    {
     "data": {
      "image/png": "[encoded data removed]",
      "text/plain": [
       "<Figure size 432x288 with 1 Axes>"
      ]
     },
     "metadata": {
      "needs_background": "light"
     },
     "output_type": "display_data"
    }
   ],
   "source": [
    "import matplotlib.pyplot as plt\n",
    "%matplotlib inline\n",
    "bounds, probs = get_probability_map(all_game_df)\n",
    "plt.grid()\n",
    "plt.ylabel(\"Probability of Winning\")\n",
    "plt.xlabel(\"Predicted Points\")\n",
    "plt.plot(bounds, probs)"
   ]
  },
  {
   "cell_type": "code",
   "execution_count": 9,
   "id": "45e0d66e-83b7-4e94-829b-f2c22b4de82f",
   "metadata": {},
   "outputs": [],
   "source": [
    "d = {\n",
    "    \"probs\": probs,\n",
    "    \"bounds\": bounds\n",
    "}\n",
    "with open('model_results/probs_and_bounds.json', 'w') as fout:\n",
    "    fout.write(json.dumps(d, indent=4, sort_keys=True))"
   ]
  },
  {
   "cell_type": "code",
   "execution_count": 10,
   "id": "67390edb-65b2-42e1-a586-01040176eb65",
   "metadata": {},
   "outputs": [
    {
     "data": {
      "text/plain": [
       "[(0, -inf),\n",
       " (0.0034495975469528554, -20),\n",
       " (0.025767737380868336, -15),\n",
       " (0.07990314769975787, -10),\n",
       " (0.20033209611252198, -5),\n",
       " (0.2887619047619048, -4),\n",
       " (0.34353619013323733, -3),\n",
       " (0.38723984988058685, -2),\n",
       " (0.4263540290620872, -1),\n",
       " (0.4808895066018068, -0.5),\n",
       " (0.5, 0.5),\n",
       " (0.5191104933981932, 1),\n",
       " (0.5736459709379128, 2),\n",
       " (0.6127601501194132, 3),\n",
       " (0.6564638098667627, 4),\n",
       " (0.7112380952380952, 5),\n",
       " (0.799667903887478, 10),\n",
       " (0.9200968523002422, 15),\n",
       " (0.9742322626191317, 20),\n",
       " (0.9965504024530472, inf)]"
      ]
     },
     "execution_count": 10,
     "metadata": {},
     "output_type": "execute_result"
    }
   ],
   "source": [
    "list(zip(probs, bounds))"
   ]
  },
  {
   "cell_type": "code",
   "execution_count": null,
   "id": "49169c7d-012e-42b9-a523-536f45f9fcd5",
   "metadata": {},
   "outputs": [],
   "source": []
  }
 ],
 "metadata": {
  "kernelspec": {
   "display_name": "Python 3 (ipykernel)",
   "language": "python",
   "name": "python3"
  },
  "language_info": {
   "codemirror_mode": {
    "name": "ipython",
    "version": 3
   },
   "file_extension": ".py",
   "mimetype": "text/x-python",
   "name": "python",
   "nbconvert_exporter": "python",
   "pygments_lexer": "ipython3",
   "version": "3.8.12"
  }
 },
 "nbformat": 4,
 "nbformat_minor": 5
}
