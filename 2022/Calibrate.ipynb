{
 "cells": [
  {
   "cell_type": "code",
   "execution_count": 1,
   "id": "6b4af79c-2cfc-42da-88f2-9f3868ecc5af",
   "metadata": {},
   "outputs": [],
   "source": [
    "# Given a +- score what is the probability of winning the game?"
   ]
  },
  {
   "cell_type": "code",
   "execution_count": 3,
   "id": "96dbc3f1-7bf3-4a1c-a00d-f67b985571e9",
   "metadata": {
    "collapsed": true,
    "jupyter": {
     "outputs_hidden": true
    },
    "tags": []
   },
   "outputs": [
    {
     "name": "stdout",
     "output_type": "stream",
     "text": [
      "reg_model.pt                                  100%  298KB   2.4MB/s   00:00    \n",
      "model_checkpoint.pt                           100%  891KB   3.9MB/s   00:00    \n",
      "reg_model.pt                                  100%  298KB   3.8MB/s   00:00    \n",
      "model_checkpoint.pt                           100%  891KB   4.7MB/s   00:00    \n",
      "reg_model.pt                                  100%  298KB   2.7MB/s   00:00    \n",
      "model_checkpoint.pt                           100%  891KB   5.8MB/s   00:00    \n",
      "reg_model.pt                                  100%  298KB   6.3MB/s   00:00    \n",
      "model_checkpoint.pt                           100%  891KB   6.9MB/s   00:00    \n",
      "reg_model.pt                                  100%  298KB   6.3MB/s   00:00    \n",
      "model_checkpoint.pt                           100%  891KB   7.1MB/s   00:00    \n",
      "reg_model.pt                                  100%  298KB   6.2MB/s   00:00    \n",
      "model_checkpoint.pt                           100%  891KB   7.7MB/s   00:00    \n",
      "reg_model.pt                                  100%  298KB   7.5MB/s   00:00    \n",
      "model_checkpoint.pt                           100%  891KB   8.0MB/s   00:00    \n",
      "reg_model.pt                                  100%  298KB   6.6MB/s   00:00    \n",
      "model_checkpoint.pt                           100%  891KB   8.4MB/s   00:00    \n",
      "reg_model.pt                                  100%  298KB   5.7MB/s   00:00    \n",
      "model_checkpoint.pt                           100%  891KB   8.3MB/s   00:00    \n",
      "reg_model.pt                                  100%  298KB   7.4MB/s   00:00    \n",
      "model_checkpoint.pt                           100%  891KB   9.8MB/s   00:00    \n",
      "reg_model.pt                                  100%  298KB   7.7MB/s   00:00    \n",
      "model_checkpoint.pt                           100%  891KB   9.1MB/s   00:00    \n",
      "reg_model.pt                                  100%  298KB   8.6MB/s   00:00    \n",
      "model_checkpoint.pt                           100%  891KB   9.5MB/s   00:00    \n",
      "reg_model.pt                                  100%  298KB   6.9MB/s   00:00    \n",
      "model_checkpoint.pt                           100%  891KB   9.3MB/s   00:00    \n",
      "reg_model.pt                                  100%  298KB   6.8MB/s   00:00    \n",
      "model_checkpoint.pt                           100%  891KB  10.3MB/s   00:00    \n",
      "reg_model.pt                                  100%  298KB  11.0MB/s   00:00    \n",
      "model_checkpoint.pt                           100%  891KB  11.0MB/s   00:00    \n",
      "reg_model.pt                                  100%  298KB   7.5MB/s   00:00    \n",
      "model_checkpoint.pt                           100%  891KB   9.7MB/s   00:00    \n",
      "reg_model.pt                                  100%  298KB   8.6MB/s   00:00    \n",
      "model_checkpoint.pt                           100%  891KB  10.8MB/s   00:00    \n",
      "reg_model.pt                                  100%  298KB   7.2MB/s   00:00    \n",
      "model_checkpoint.pt                           100%  891KB  10.2MB/s   00:00    \n",
      "reg_model.pt                                  100%  298KB  12.3MB/s   00:00    \n",
      "model_checkpoint.pt                           100%  891KB  13.9MB/s   00:00    \n",
      "reg_model.pt                                  100%  298KB   6.7MB/s   00:00    \n",
      "model_checkpoint.pt                           100%  891KB  10.0MB/s   00:00    \n",
      "reg_model.pt                                  100%  298KB  10.9MB/s   00:00    \n",
      "model_checkpoint.pt                           100%  891KB  14.0MB/s   00:00    \n",
      "reg_model.pt                                  100%  298KB   7.2MB/s   00:00    \n",
      "model_checkpoint.pt                           100%  891KB  10.6MB/s   00:00    \n",
      "reg_model.pt                                  100%  298KB   6.9MB/s   00:00    \n",
      "model_checkpoint.pt                           100%  891KB  10.4MB/s   00:00    \n",
      "reg_model.pt                                  100%  298KB  11.7MB/s   00:00    \n",
      "model_checkpoint.pt                           100%  891KB  14.2MB/s   00:00    \n",
      "reg_model.pt                                  100%  298KB   7.3MB/s   00:00    \n",
      "model_checkpoint.pt                           100%  891KB  10.1MB/s   00:00    \n",
      "reg_model.pt                                  100%  298KB  12.8MB/s   00:00    \n",
      "model_checkpoint.pt                           100%  891KB  14.1MB/s   00:00    \n",
      "reg_model.pt                                  100%  298KB   7.2MB/s   00:00    \n",
      "model_checkpoint.pt                           100%  891KB   9.8MB/s   00:00    \n",
      "reg_model.pt                                  100%  298KB   3.2MB/s   00:00    \n",
      "model_checkpoint.pt                           100%  891KB  10.5MB/s   00:00    \n",
      "reg_model.pt                                  100%  298KB  12.9MB/s   00:00    \n",
      "model_checkpoint.pt                           100%  891KB  13.9MB/s   00:00    \n",
      "reg_model.pt                                  100%  298KB   3.3MB/s   00:00    \n",
      "model_checkpoint.pt                           100%  891KB   9.6MB/s   00:00    \n",
      "best_params.json                              100%  161    13.2KB/s   00:00    \n",
      "reg_model.pt                                  100%  298KB  12.1MB/s   00:00    \n",
      "model_checkpoint.pt                           100%  891KB  13.3MB/s   00:00    \n",
      "reg_model.pt                                  100%  298KB   7.5MB/s   00:00    \n",
      "model_checkpoint.pt                           100%  891KB  11.2MB/s   00:00    \n",
      "reg_model.pt                                  100%  298KB   7.0MB/s   00:00    \n",
      "model_checkpoint.pt                           100%  891KB  10.5MB/s   00:00    \n",
      "reg_model.pt                                  100%  298KB   7.3MB/s   00:00    \n",
      "model_checkpoint.pt                           100%  891KB  10.2MB/s   00:00    \n",
      "reg_model.pt                                  100%  298KB   7.2MB/s   00:00    \n",
      "model_checkpoint.pt                           100%  891KB   9.6MB/s   00:00    \n",
      "experiment.pkl                                100%    0     0.0KB/s   00:00    \n",
      "reg_model.pt                                  100%  298KB  12.6MB/s   00:00    \n",
      "model_checkpoint.pt                           100%  891KB  11.1MB/s   00:00    \n",
      "reg_model.pt                                  100%  298KB   9.8MB/s   00:00    \n",
      "model_checkpoint.pt                           100%  891KB  10.2MB/s   00:00    \n",
      "reg_model.pt                                  100%  298KB  13.1MB/s   00:00    \n",
      "model_checkpoint.pt                           100%  891KB  14.7MB/s   00:00    \n",
      "reg_model.pt                                  100%  298KB   7.2MB/s   00:00    \n",
      "model_checkpoint.pt                           100%  891KB   9.4MB/s   00:00    \n",
      "reg_model.pt                                  100%  298KB  11.9MB/s   00:00    \n",
      "model_checkpoint.pt                           100%  891KB   9.3MB/s   00:00    \n",
      "reg_model.pt                                  100%  298KB   7.4MB/s   00:00    \n",
      "model_checkpoint.pt                           100%  891KB  14.6MB/s   00:00    \n",
      "reg_model.pt                                  100%  298KB   7.3MB/s   00:00    \n",
      "model_checkpoint.pt                           100%  891KB   9.6MB/s   00:00    \n",
      "reg_model.pt                                  100%  298KB   7.2MB/s   00:00    \n",
      "model_checkpoint.pt                           100%  891KB  10.3MB/s   00:00    \n",
      "reg_model.pt                                  100%  298KB  11.4MB/s   00:00    \n",
      "model_checkpoint.pt                           100%  891KB  14.4MB/s   00:00    \n",
      "reg_model.pt                                  100%  298KB   6.8MB/s   00:00    \n",
      "model_checkpoint.pt                           100%  891KB  10.4MB/s   00:00    \n",
      "values.pkl                                    100%  161    13.0KB/s   00:00    \n",
      "reg_model.pt                                  100%  298KB   7.4MB/s   00:00    \n",
      "model_checkpoint.pt                           100%  891KB  14.6MB/s   00:00    \n",
      "reg_model.pt                                  100%  298KB   7.5MB/s   00:00    \n",
      "model_checkpoint.pt                           100%  891KB  10.0MB/s   00:00    \n",
      "reg_model.pt                                  100%  298KB   7.2MB/s   00:00    \n",
      "model_checkpoint.pt                           100%  891KB   9.8MB/s   00:00    \n",
      "reg_model.pt                                  100%  298KB   7.5MB/s   00:00    \n",
      "model_checkpoint.pt                           100%  891KB  11.4MB/s   00:00    \n",
      "reg_model.pt                                  100%  298KB  11.9MB/s   00:00    \n",
      "model_checkpoint.pt                           100%  891KB  14.5MB/s   00:00    \n"
     ]
    }
   ],
   "source": [
    "!scp -r boltio.schrodinger.com:/nfs/working/deep_learn/leswing/madness/models/16 ./"
   ]
  },
  {
   "cell_type": "code",
   "execution_count": 4,
   "id": "0d5e2464-8841-4e4a-a3c9-bd2ddce84122",
   "metadata": {},
   "outputs": [],
   "source": [
    "!mv 16 models"
   ]
  },
  {
   "cell_type": "code",
   "execution_count": 1,
   "id": "47d09927-23ee-46c4-a9d5-2481ddce0e52",
   "metadata": {},
   "outputs": [
    {
     "name": "stderr",
     "output_type": "stream",
     "text": [
      "/Users/leswing/miniconda3/envs/ligand_ml/lib/python3.8/site-packages/tqdm/auto.py:22: TqdmWarning: IProgress not found. Please update jupyter and ipywidgets. See https://ipywidgets.readthedocs.io/en/stable/user_install.html\n",
      "  from .autonotebook import tqdm as notebook_tqdm\n",
      "/Users/leswing/miniconda3/envs/ligand_ml/lib/python3.8/site-packages/xgboost/compat.py:36: FutureWarning:\n",
      "\n",
      "pandas.Int64Index is deprecated and will be removed from pandas in a future version. Use pandas.Index with the appropriate dtype instead.\n",
      "\n"
     ]
    }
   ],
   "source": [
    "import hashlib\n",
    "import os\n",
    "import numpy as np\n",
    "import pickle\n",
    "import json\n",
    "\n",
    "from ligand_ml.data import NumpyDataset\n",
    "from ligand_ml.data import DiskDataset\n",
    "from ligand_ml.models.torchm.model_mechanics import DenseModel\n",
    "\n",
    "\n",
    "def load_transformers():\n",
    "    with open('transformers.pkl', 'rb') as fin:\n",
    "        return pickle.load(fin)\n",
    "\n",
    "\n",
    "def get_team_fvs(year):\n",
    "    d = json.loads(open('team_fvs.json').read())\n",
    "\n",
    "    X = []\n",
    "    team_names = []\n",
    "    for k, v in d.items():\n",
    "        if k.find(year) == -1:\n",
    "            continue\n",
    "        X.append(v[0])\n",
    "        team_names.append(k)\n",
    "\n",
    "    print(len(team_names))\n",
    "    ds = NumpyDataset(X, np.ones(len(X)), np.ones(len(X)), range(len(X)))\n",
    "\n",
    "    return ds.X, team_names\n",
    "\n",
    "\n",
    "def create_dataset(year):\n",
    "    fvs, team_names = get_team_fvs(year)\n",
    "    X = []\n",
    "    for i, t1 in enumerate(team_names):\n",
    "        for j, t2 in enumerate(team_names):\n",
    "            if j <= i:\n",
    "                continue\n",
    "            fv1 = np.concatenate([fvs[i], fvs[j]])\n",
    "            fv2 = np.concatenate([fvs[j], fvs[i]])\n",
    "            X.append(fv1)\n",
    "            X.append(fv2)\n",
    "    print(np.array(X).shape)\n",
    "    ds = NumpyDataset(X, np.ones(len(X)), np.ones(len(X)), range(len(X)))\n",
    "    transformers = load_transformers()\n",
    "    for trans in transformers:\n",
    "        ds = trans.transform(ds)\n",
    "    return ds\n",
    "\n",
    "\n",
    "def make_predictions(ds, model_key):\n",
    "    transformers = load_transformers()\n",
    "    all_preds = []\n",
    "    for fold in range(5):\n",
    "        path = os.path.join('models', model_key, str(fold))\n",
    "        d = DenseModel(path, mode='regression')\n",
    "        preds = np.squeeze(d.predict(ds))\n",
    "        preds = transformers[1].untransform(preds)\n",
    "        all_preds.append(preds)\n",
    "\n",
    "    retval = np.mean(all_preds, axis=0)\n",
    "    print(f\"Predictions shape {retval.shape}\")\n",
    "    return retval\n",
    "\n",
    "\n",
    "def convert_to_games(predictions, year):\n",
    "    fvs, team_names = get_team_fvs(year)\n",
    "    games = []\n",
    "    for i, t1 in enumerate(team_names):\n",
    "        for j, t2 in enumerate(team_names):\n",
    "            if j <= i:\n",
    "                continue\n",
    "            games.append((t1, t2))\n",
    "\n",
    "    results = {}\n",
    "    index = 0\n",
    "    while index < len(predictions):\n",
    "        v1, v2 = predictions[index], predictions[index + 1]\n",
    "        v2 *= -1\n",
    "        average = (v1 + v2) / 2\n",
    "\n",
    "        t1, t2 = games[index // 2]\n",
    "        results[f\"{t1}:{t2}\"] = average\n",
    "        results[f\"{t2}:{t1}\"] = average * -1\n",
    "        index += 2\n",
    "    return results\n",
    "\n",
    "\n",
    "def play_year(year):\n",
    "    with open('models/best_params.json', 'r') as fin:\n",
    "        best_params = json.loads(fin.read())\n",
    "    model_key = hashlib.md5(str(best_params).encode('utf-8')).hexdigest()\n",
    "\n",
    "    ds = create_dataset(year)\n",
    "    predictions = make_predictions(ds, model_key)\n",
    "    predictions = convert_to_games(predictions, year)\n",
    "    with open(f'results_{year}.json', 'w') as fout:\n",
    "        fout.write(json.dumps(predictions, indent=4, sort_keys=True))\n"
   ]
  },
  {
   "cell_type": "code",
   "execution_count": 2,
   "id": "e6bbf931-fa52-4f03-b073-67e743f0d305",
   "metadata": {},
   "outputs": [
    {
     "name": "stdout",
     "output_type": "stream",
     "text": [
      "Predictions shape (14358,)\n"
     ]
    }
   ],
   "source": [
    "with open('models/best_params.json', 'r') as fin:\n",
    "    best_params = json.loads(fin.read())\n",
    "model_key = hashlib.md5(str(best_params).encode('utf-8')).hexdigest()\n",
    "\n",
    "ds = DiskDataset('datasets/full_folds/valid0')\n",
    "\n",
    "preds = make_predictions(ds, model_key) - load_transformers()[1].y_means"
   ]
  },
  {
   "cell_type": "code",
   "execution_count": 6,
   "id": "ada7cf05-90c1-4282-b8b3-99750ec23db1",
   "metadata": {},
   "outputs": [
    {
     "data": {
      "text/plain": [
       "(array([3.111e+03, 2.257e+03, 1.061e+03, 4.480e+02, 1.990e+02, 7.500e+01,\n",
       "        2.000e+01, 4.000e+00, 3.000e+00, 1.000e+00]),\n",
       " array([-1.18861755, -0.33351872,  0.52158012,  1.37667896,  2.23177779,\n",
       "         3.08687663,  3.94197546,  4.7970743 ,  5.65217313,  6.50727197,\n",
       "         7.36237081]),\n",
       " <BarContainer object of 10 artists>)"
      ]
     },
     "execution_count": 6,
     "metadata": {},
     "output_type": "execute_result"
    },
    {
     "data": {
      "image/png": "[encoded data removed]",
      "text/plain": [
       "<Figure size 432x288 with 1 Axes>"
      ]
     },
     "metadata": {
      "needs_background": "light"
     },
     "output_type": "display_data"
    }
   ],
   "source": [
    "plt.hist(ds.y[:num_games])"
   ]
  },
  {
   "cell_type": "code",
   "execution_count": 4,
   "id": "3439ac5f-2718-45c1-9c89-f332ba7e6142",
   "metadata": {},
   "outputs": [
    {
     "data": {
      "text/plain": [
       "<matplotlib.collections.PathCollection at 0x7f99489d5f40>"
      ]
     },
     "execution_count": 4,
     "metadata": {},
     "output_type": "execute_result"
    },
    {
     "data": {
      "image/png": "[encoded data removed]",
      "text/plain": [
       "<Figure size 432x288 with 1 Axes>"
      ]
     },
     "metadata": {
      "needs_background": "light"
     },
     "output_type": "display_data"
    }
   ],
   "source": [
    "import matplotlib.pyplot as plt\n",
    "%matplotlib inline\n",
    "plt.grid()\n",
    "plt.xlabel(\"Predicted\")\n",
    "plt.ylabel(\"Real\")\n",
    "plt.scatter(preds, ds.y)"
   ]
  },
  {
   "cell_type": "code",
   "execution_count": 5,
   "id": "3c08cd26-8255-4b07-ba1a-0d4ff688b457",
   "metadata": {},
   "outputs": [],
   "source": [
    "num_games = ds.X.shape[0]//2\n",
    "first_games = ds.X[:num_games,:]\n",
    "second_games = ds.X[num_games:,:]"
   ]
  },
  {
   "cell_type": "code",
   "execution_count": 21,
   "id": "39db0fa4-c095-4aff-99ac-5492bcfea9b7",
   "metadata": {},
   "outputs": [
    {
     "data": {
      "text/plain": [
       "array([ 0.39051817,  0.14927447,  1.99504397, -1.51669343, -0.93992711,\n",
       "       -0.2222414 ,  1.07106879, -0.26541186,  0.82641669, -0.40656357,\n",
       "        1.55342018,  0.51530337,  1.09324626,  1.09324626,  1.56888857,\n",
       "        1.56888857,  0.52800416,  0.52800416, -0.27063402, -0.27063402,\n",
       "        2.14556601,  2.14556601,  0.09863349,  0.09863349, -0.8343968 ,\n",
       "       -0.8343968 ,  0.69833552,  0.69833552,  0.42690812, -0.54595687,\n",
       "       -0.88688298,  0.04907085,  0.68615829,  0.67411224,  1.4380163 ,\n",
       "       -0.84279399, -2.04588278,  0.16607494, -0.96463887])"
      ]
     },
     "execution_count": 21,
     "metadata": {},
     "output_type": "execute_result"
    }
   ],
   "source": [
    "first_games[0][39:]"
   ]
  },
  {
   "cell_type": "code",
   "execution_count": 131,
   "id": "d175bc91-403d-4140-a192-16fd6cc97bb4",
   "metadata": {},
   "outputs": [],
   "source": [
    "avg_results = []\n",
    "for i in range(num_games):\n",
    "    v = (preds[i] + preds[i+num_games]*-1) / 2\n",
    "    avg_results.append(v)"
   ]
  },
  {
   "cell_type": "code",
   "execution_count": 132,
   "id": "312ec564-09fd-491e-bd1e-9825195166f1",
   "metadata": {
    "tags": []
   },
   "outputs": [
    {
     "data": {
      "text/plain": [
       "[1.6739649673961043,\n",
       " 1.8093799942843463,\n",
       " 21.834093792794622,\n",
       " -1.9887219162054786,\n",
       " -0.701419605539293,\n",
       " -1.0265000432799907,\n",
       " 0.09450973335331803,\n",
       " 2.743015645413016,\n",
       " -2.7697829737525828,\n",
       " 2.4963570544804217,\n",
       " 10.266502737861352,\n",
       " 20.837284085667356,\n",
       " 0.4322559906982031,\n",
       " 3.8385585390984724,\n",
       " -2.629227046092831,\n",
       " 0.03384085471199594,\n",
       " 1.4659580091318496,\n",
       " -1.5636336989336819,\n",
       " 3.703648355517007,\n",
       " 7.596841743852456,\n",
       " -1.7950869143610868,\n",
       " -3.709739818225608,\n",
       " 6.768472475151686,\n",
       " 14.328557867952672,\n",
       " -1.7950869143610868,\n",
       " 4.110312320007787,\n",
       " 5.129024692804554,\n",
       " -0.18144290434134103,\n",
       " 5.332529908734394,\n",
       " -0.12052913638551743,\n",
       " 10.737743954980612,\n",
       " 17.79868868987367,\n",
       " 0.7912163669058261,\n",
       " 1.825467414696588,\n",
       " 5.961929315318313,\n",
       " 3.2744556969412173,\n",
       " 0.4623701649800056,\n",
       " -2.231345314221806,\n",
       " -0.7868371261239844,\n",
       " -5.740199065000408,\n",
       " 4.130731510064871,\n",
       " 14.628877385760129,\n",
       " 1.8197255822637857,\n",
       " 1.992402201024687,\n",
       " 15.195291442116925,\n",
       " 0.06331835717285106,\n",
       " -1.5956236318841501,\n",
       " -3.0313259963444166,\n",
       " 7.925268580116567,\n",
       " 6.414411045941775,\n",
       " -0.8415052547170969,\n",
       " 7.754713681638269,\n",
       " 0.15693441982822165,\n",
       " -0.8977436254780669,\n",
       " -1.5466863946128058,\n",
       " 3.227279704932772,\n",
       " -1.7540707833532085,\n",
       " 6.101382355582242,\n",
       " 5.814659661735918,\n",
       " 4.845776047792359,\n",
       " 0.029950260675581042,\n",
       " 8.860581134618538,\n",
       " 0.19313529697069765,\n",
       " -0.7073653017770027,\n",
       " 3.5611358928828327,\n",
       " -1.0896206705878972,\n",
       " 4.31525654328167,\n",
       " 0.755377313922887,\n",
       " 1.867152046642274,\n",
       " 0.48729911842941753,\n",
       " -1.4408197654185804,\n",
       " 1.3409752576197782,\n",
       " -1.0896206705878972,\n",
       " 0.22775593901801372,\n",
       " 2.3792835767248226,\n",
       " 4.286634708667476,\n",
       " 1.0927748184060961,\n",
       " 2.7120941675383525,\n",
       " -0.551556411318253,\n",
       " 32.993481996524466,\n",
       " -3.9263425937783416,\n",
       " -0.2744261154441672,\n",
       " 6.194877883607009,\n",
       " 2.7924324158525584,\n",
       " 2.635921574306333,\n",
       " 12.104302724083468,\n",
       " -1.0315771404066654,\n",
       " -1.0646017930537681,\n",
       " 0.7546466170365296,\n",
       " 0.8763506971889186,\n",
       " -2.800451606646819,\n",
       " -1.936639911423618,\n",
       " 0.8157047192928033,\n",
       " 0.5513958395864629,\n",
       " -2.787956217691182,\n",
       " 6.22527887744539,\n",
       " -5.002121833093525,\n",
       " 0.32911581156043823,\n",
       " 1.1056218406971805,\n",
       " -0.8900128012770026,\n",
       " -1.2715929058123034,\n",
       " 4.268593460164684,\n",
       " -1.8909048489393108,\n",
       " -0.46168869965162695,\n",
       " 4.50735918900736,\n",
       " -1.8173419602112961,\n",
       " 1.9446850421844974,\n",
       " -1.4316362979244506,\n",
       " 0.013715403715653274,\n",
       " 14.68076332128921,\n",
       " 4.642588347791964,\n",
       " 11.730791103850704,\n",
       " 3.26819527511876,\n",
       " 12.003692245586734,\n",
       " -0.3091074141472019,\n",
       " -2.3332796981289885,\n",
       " 2.3523263311412776,\n",
       " 0.46230893743507906,\n",
       " -0.5919762861915281,\n",
       " 4.575541907702997,\n",
       " 3.656925812159442,\n",
       " 3.9539017759946846,\n",
       " -2.039965351423035,\n",
       " 0.08704435090846285,\n",
       " 17.698312466105317,\n",
       " -2.442926673920245,\n",
       " 0.3319415692358785,\n",
       " 15.76524553125902,\n",
       " -1.8833099006719127,\n",
       " -2.568096766576386,\n",
       " -3.460759944449137,\n",
       " 0.22025632193481748,\n",
       " 3.189325152509695,\n",
       " -1.3200673691920173,\n",
       " 12.37161214928479,\n",
       " -0.26562744018270834,\n",
       " 4.3089579067293,\n",
       " 8.084231669158344,\n",
       " -2.36468040458288,\n",
       " 0.015232914133674669,\n",
       " 0.0818291476373787,\n",
       " -0.6552232766206139,\n",
       " -2.618115540761548,\n",
       " 0.8759547465889597,\n",
       " -0.1604472646065167,\n",
       " 1.7735545153001233,\n",
       " 5.310415758512861,\n",
       " 4.430402132913335,\n",
       " -2.0768438994381127,\n",
       " -3.7614478600311267,\n",
       " 1.4387173254455137,\n",
       " -0.6502258372526422,\n",
       " -0.6930693471878131,\n",
       " 4.516244431206637,\n",
       " -2.26848788408365,\n",
       " -1.7276973315692388,\n",
       " 4.462797843760061,\n",
       " -1.5064082568597623,\n",
       " 1.9910826390184981,\n",
       " -0.5337709177390701,\n",
       " -0.9044853047520238,\n",
       " 0.8199157805020425,\n",
       " 0.8123577253581873,\n",
       " -5.146637066274835,\n",
       " 3.078267953892211,\n",
       " -3.2144083602661953,\n",
       " -1.095470182964382,\n",
       " -0.4785381328260687,\n",
       " 5.070963950765415,\n",
       " 1.809258647416498,\n",
       " 2.756759905921837,\n",
       " 0.13756873073323916,\n",
       " 2.331620146001767,\n",
       " -2.4554976147064753,\n",
       " -0.5274364235796059,\n",
       " 0.933842040268658,\n",
       " 11.346944687036313,\n",
       " -1.1226529999094783,\n",
       " 10.572000639812536,\n",
       " -2.051259816635617,\n",
       " -1.1744458568360443,\n",
       " -1.4193335984886462,\n",
       " -0.46471989849842554,\n",
       " 0.4782444919608517,\n",
       " 1.0582732431114783,\n",
       " 0.2005815369884516,\n",
       " 9.924088129952947,\n",
       " -0.44921396251629897,\n",
       " -4.716744864929423,\n",
       " 10.58003914533317,\n",
       " -4.2631017451783375,\n",
       " 3.552446386093062,\n",
       " 0.23535787218155768,\n",
       " -0.9876300495764943,\n",
       " -1.5090448873726325,\n",
       " 0.42827796403308227,\n",
       " 0.28726405857485116,\n",
       " -0.2454687614554789,\n",
       " 2.0465900169083513,\n",
       " 2.0844494635774815,\n",
       " -2.2897633029817683,\n",
       " 21.81439271682995,\n",
       " -1.9333784897803596,\n",
       " 2.491899878502342,\n",
       " -0.29552265758794416,\n",
       " 6.328386558704223,\n",
       " 2.331296971945073,\n",
       " 1.4252226661306624,\n",
       " 10.768337875814968,\n",
       " 4.025655144689763,\n",
       " -1.565270504976339,\n",
       " 0.9506006732348933,\n",
       " 2.327567698206555,\n",
       " 0.6774199601271986,\n",
       " 18.012368980749105,\n",
       " -1.7802091182671456,\n",
       " -1.8238404088469728,\n",
       " 2.8584991119722005,\n",
       " 4.5665065805807785,\n",
       " -3.489992830994205,\n",
       " 2.308533341678399,\n",
       " 1.6847924960011689,\n",
       " 5.1843627605288605,\n",
       " 2.4391285699585126,\n",
       " 0.28373461090147867,\n",
       " 1.484139248100627,\n",
       " 1.34338036093824,\n",
       " -1.2841448226943974,\n",
       " -0.37194827003560427,\n",
       " 0.48927400940632015,\n",
       " 2.5721683225969736,\n",
       " -1.9982562667481059,\n",
       " -2.0327598623107885,\n",
       " 5.45126199215432,\n",
       " 7.8448586346570055,\n",
       " 1.822112205464066,\n",
       " 1.5555112060168241,\n",
       " -1.3624063369676946,\n",
       " -2.6513012521386203,\n",
       " -1.2413755890159663,\n",
       " 0.05844613828721812,\n",
       " -1.3699486825483778,\n",
       " 2.840780548807083,\n",
       " 0.5111266450473302,\n",
       " 1.586932519549145,\n",
       " 7.5464809971367135,\n",
       " 7.046387901574331,\n",
       " 1.336705269630862,\n",
       " 2.136762627293642,\n",
       " -3.0815774352002983,\n",
       " 1.537523427504924,\n",
       " -0.03665327952165143,\n",
       " 27.269834564451532,\n",
       " -2.482994529989548,\n",
       " 0.2652445942219144,\n",
       " 0.4568975754274529,\n",
       " -0.18546917275784747,\n",
       " -2.5354897673535746,\n",
       " 4.668048791565569,\n",
       " 7.923347074594214,\n",
       " 1.0550160564594524,\n",
       " 1.7825822122105892,\n",
       " 0.22744582270754954,\n",
       " 5.562374794606311,\n",
       " -2.3577361443914455,\n",
       " -0.6557834467063941,\n",
       " 2.046248175161735,\n",
       " -0.3235676028493639,\n",
       " -1.5282444705091676,\n",
       " -2.2501823487244836,\n",
       " 24.190643496046107,\n",
       " -0.3322647774943013,\n",
       " 3.044197148276732,\n",
       " 0.8611692671949047,\n",
       " 0.5612303152330949,\n",
       " -2.978522962364435,\n",
       " -1.233282650263341,\n",
       " 0.1777092114815373,\n",
       " 1.0830196838833075,\n",
       " -2.459533139745173,\n",
       " -1.1976509638584316,\n",
       " -0.0649219492513522,\n",
       " -0.07332344910382371,\n",
       " -0.16584003851314844,\n",
       " 0.8637631365143008,\n",
       " 4.476397610360368,\n",
       " -1.4070394426012838,\n",
       " -0.4230762729179709,\n",
       " 23.272273549688222,\n",
       " 5.6309159301950675,\n",
       " 2.818781460939796,\n",
       " 2.674040811272679,\n",
       " -2.6257862095020172,\n",
       " -0.14019856908422668,\n",
       " -0.5823890593483672,\n",
       " 3.2015963295686616,\n",
       " -0.9829246404735352,\n",
       " -1.185347734618511,\n",
       " -1.3687556867226762,\n",
       " -1.9995946702492207,\n",
       " 2.625034779915792,\n",
       " 7.606742007274315,\n",
       " 1.5231399861880703,\n",
       " -1.6172907934942513,\n",
       " -0.6733548607043751,\n",
       " -1.8358566948448214,\n",
       " -0.309450024679812,\n",
       " -3.7621276613056582,\n",
       " -2.439327595617198,\n",
       " 6.000724409390193,\n",
       " 11.618585952436987,\n",
       " -0.010682160509007943,\n",
       " 22.161055463201187,\n",
       " -1.092971070068086,\n",
       " 0.916640922133519,\n",
       " 2.5333878728873023,\n",
       " 0.6100885159695641,\n",
       " -0.7060995599529738,\n",
       " 6.235660591053009,\n",
       " 3.2962942509352313,\n",
       " 4.573094870915877,\n",
       " -3.3382272377553406,\n",
       " -1.6185954082701084,\n",
       " -0.5537044914528266,\n",
       " 1.8714182827662436,\n",
       " -0.5817819137279772,\n",
       " -1.6011382271807078,\n",
       " -0.2573368326550174,\n",
       " -3.7128773255053167,\n",
       " 5.6586009403508415,\n",
       " -1.061610245839634,\n",
       " -1.0542005289644756,\n",
       " 1.7406831328538068,\n",
       " 1.464804807768667,\n",
       " 0.49228986178753154,\n",
       " -0.8030692921178257,\n",
       " 4.922033313315569,\n",
       " -2.3122552790388706,\n",
       " -1.6185954082701084,\n",
       " -1.671780198918139,\n",
       " 1.612589182288751,\n",
       " -2.6541604700736725,\n",
       " 4.636984241197572,\n",
       " 0.8076575631013343,\n",
       " -1.797251044785476,\n",
       " 0.32911581156043823,\n",
       " -0.7192454735046194,\n",
       " 0.3152504741407993,\n",
       " -1.0766929477080867,\n",
       " -5.113927171048052,\n",
       " -0.7887634771061389,\n",
       " 5.421469542980568,\n",
       " -0.8425067983080936,\n",
       " -0.12209944179430643,\n",
       " -0.2742292941836011,\n",
       " -1.418926402618891,\n",
       " -0.6983739533437054,\n",
       " 27.18235347426434,\n",
       " 9.6205032532166,\n",
       " -1.446098423003649,\n",
       " -6.9431405155092225,\n",
       " -0.8961547620830119,\n",
       " 5.064355891401757,\n",
       " -3.7592912049427483,\n",
       " 0.791369045567305,\n",
       " -1.3339842232322026,\n",
       " 5.062371781661176,\n",
       " -0.9245197770028408,\n",
       " 34.41528727081058,\n",
       " -4.308122486305168,\n",
       " -2.9307930245543563,\n",
       " 2.38947610100447,\n",
       " -1.7534005792124043,\n",
       " -0.9289713925114285,\n",
       " -0.828773760698124,\n",
       " -2.9569982003985924,\n",
       " -2.8196570113905635,\n",
       " 2.4326205947436135,\n",
       " 7.357570252773575,\n",
       " -0.3513672279405604,\n",
       " 11.958588904062026,\n",
       " -0.08704435090846285,\n",
       " 1.2276243823299353,\n",
       " 3.9851075042093864,\n",
       " 1.2255502377254581,\n",
       " 11.977841735200883,\n",
       " 12.408663934425999,\n",
       " -2.1739110738296263,\n",
       " 6.5396731451161,\n",
       " 0.37193542922296974,\n",
       " -0.7531755521338974,\n",
       " -1.8950847990528565,\n",
       " -2.0901610539396094,\n",
       " 3.00234695458876,\n",
       " -0.5480501638165274,\n",
       " 2.1585568197114693,\n",
       " -1.9982240745336641,\n",
       " 2.126215850557598,\n",
       " -0.869964977446247,\n",
       " 0.39595650717970976,\n",
       " 3.6088167591732057,\n",
       " 3.734558952510095,\n",
       " -0.2309779994206309,\n",
       " 5.8211814587507265,\n",
       " -2.0209868017886965,\n",
       " 1.4176511591678462,\n",
       " 3.1125692696846983,\n",
       " -4.761436636204972,\n",
       " 12.78291752649943,\n",
       " -2.46372196768065,\n",
       " 1.0834969386571922,\n",
       " 0.004991571298038622,\n",
       " 3.451836072797123,\n",
       " -0.2099546876920968,\n",
       " 1.5483319115557528,\n",
       " 0.7754621582194634,\n",
       " 23.727208787463308,\n",
       " 0.9914807906417753,\n",
       " 0.17335753858248637,\n",
       " -0.5223318360080142,\n",
       " -6.977025511529674,\n",
       " 1.0515475039934676,\n",
       " -2.574628059195266,\n",
       " 1.552855837259525,\n",
       " -2.0957554739165074,\n",
       " 0.3435638238023859,\n",
       " 0.5053713762831409,\n",
       " -3.470974350950857,\n",
       " -0.06437806176900374,\n",
       " -0.038575094795499254,\n",
       " 0.2387480644034241,\n",
       " -0.4318923562132806,\n",
       " -1.3600190340349743,\n",
       " -2.18174973984104,\n",
       " -5.0337064355665575,\n",
       " -0.146426417095614,\n",
       " 11.249984375188713,\n",
       " 2.307771504442041,\n",
       " -4.844546485803021,\n",
       " -1.338143643705192,\n",
       " 0.20204667531253406,\n",
       " -1.0644384077459268,\n",
       " 2.1745423697413457,\n",
       " 1.4752066380148534,\n",
       " -0.3191737073802656,\n",
       " 2.9187374827174155,\n",
       " 1.9315208205988306,\n",
       " -1.2311410817934645,\n",
       " 0.6324144243569423,\n",
       " 0.8030692921178257,\n",
       " 5.095964998659494,\n",
       " 11.98210964269228,\n",
       " 31.752812786751676,\n",
       " 2.3300723797463423,\n",
       " 0.13718544939951371,\n",
       " 1.5256021078728503,\n",
       " -11.711397631767726,\n",
       " -4.506333512333452,\n",
       " 0.16693433557514847,\n",
       " 1.1008924998497793,\n",
       " 3.4643830870014325,\n",
       " 5.569630399789129,\n",
       " 0.5977808932058748,\n",
       " 17.644807452643978,\n",
       " 0.06781842857005405,\n",
       " 25.306992498981558,\n",
       " 2.1548590838373674,\n",
       " 6.166892841272676,\n",
       " -1.3421637809781037,\n",
       " 0.06594642821949215,\n",
       " 4.285513738667882,\n",
       " 4.816781270660909,\n",
       " 4.2153211320241635,\n",
       " 0.5700342528282345,\n",
       " -1.8748243876105883,\n",
       " -1.4582168134183249,\n",
       " 20.122290526152085,\n",
       " 1.8969612959625763,\n",
       " 1.4423230341513325,\n",
       " -1.5760915184750193,\n",
       " 2.143648038143274,\n",
       " -0.3926998785105811,\n",
       " 1.8223744290313357,\n",
       " 0.20523998927095288,\n",
       " 1.204082103494886,\n",
       " 7.1767316047595395,\n",
       " -1.4140249087755787,\n",
       " -0.492452493366744,\n",
       " 6.28251676808761,\n",
       " 4.043796257073589,\n",
       " 6.173807595913654,\n",
       " 0.21196036775220417,\n",
       " -0.042039539612530596,\n",
       " 1.221210772476879,\n",
       " -0.3402246683013592,\n",
       " 4.629873114435693,\n",
       " -0.5081954856074109,\n",
       " -1.5398874164753433,\n",
       " -2.6348751305157236,\n",
       " 5.68483802059876,\n",
       " 18.571396358858387,\n",
       " 0.13578547741172464,\n",
       " -3.770311075457635,\n",
       " -1.8360648788226221,\n",
       " 0.06630480897494273,\n",
       " -3.5099618351161253,\n",
       " 0.4066735117200997,\n",
       " 1.3934968651608246,\n",
       " -0.4403321654419532,\n",
       " 0.9489375159444737,\n",
       " 3.878532636832821,\n",
       " 0.9658867768622761,\n",
       " 0.2959023066552158,\n",
       " 0.448981442396275,\n",
       " 0.45153202222381594,\n",
       " 1.7872089702471943,\n",
       " 1.050890401910567,\n",
       " 3.302342439639549,\n",
       " -1.397747047983506,\n",
       " 1.1598121053384718,\n",
       " -5.13246528847754,\n",
       " -2.2929240416233787,\n",
       " 11.442447762664562,\n",
       " 1.973346358068036,\n",
       " -0.5262152029398237,\n",
       " -0.1420126132097863,\n",
       " 30.73587875922101,\n",
       " 3.7109530528696313,\n",
       " 3.587177953591361,\n",
       " -1.967966945205971,\n",
       " -0.5685204559864339,\n",
       " 4.395769245357034,\n",
       " -1.6910753851318487,\n",
       " 0.38748786567986393,\n",
       " 0.30690488615348155,\n",
       " -0.18097486983686828,\n",
       " 1.0753941631436454,\n",
       " -0.06382347581428771,\n",
       " 0.655590679318478,\n",
       " 1.0971758953774948,\n",
       " 3.289175208301887,\n",
       " -1.9237052466687024,\n",
       " 1.6003967234089629,\n",
       " -1.0054612315007523,\n",
       " -3.0340270568884735,\n",
       " 1.6025066679723423,\n",
       " 0.8304773685219322,\n",
       " 0.13739138939983864,\n",
       " -3.0080171828016518,\n",
       " 2.4380212840914997,\n",
       " 2.9210707649899232,\n",
       " 0.1491334265891604,\n",
       " 0.1971551503047415,\n",
       " -2.5890612242308,\n",
       " 0.46338002195688066,\n",
       " -1.1333515756342747,\n",
       " 3.361667275796867,\n",
       " 2.2949034173286567,\n",
       " -0.89425002960395,\n",
       " 2.635285365391783,\n",
       " -1.7928974669147495,\n",
       " -1.674995817027483,\n",
       " 6.752815184265498,\n",
       " 4.277409235429343,\n",
       " -1.6839592851376795,\n",
       " 2.406538610509446,\n",
       " 28.067357265234307,\n",
       " -2.874346721058462,\n",
       " 2.039052985286598,\n",
       " 17.796326869163696,\n",
       " 0.7207468510324304,\n",
       " -0.9233813624015088,\n",
       " 1.9903284044604286,\n",
       " -0.7181712914678986,\n",
       " -1.4717220318173716,\n",
       " 5.213700769846957,\n",
       " 1.6520512212274001,\n",
       " 4.245835784010025,\n",
       " 6.847167250882791,\n",
       " -1.6643962550879596,\n",
       " -0.13952359477044673,\n",
       " -3.421279101874081,\n",
       " 2.4010720163691035,\n",
       " -0.9297445838608098,\n",
       " 12.740690771364267,\n",
       " -1.5781811106445307,\n",
       " -3.2040346107136033,\n",
       " -2.1307000127740015,\n",
       " -0.7933405049709084,\n",
       " 19.102779366207645,\n",
       " 0.12409185975823878,\n",
       " -0.5425494040866141,\n",
       " -0.36238846265264435,\n",
       " -0.04503480233883295,\n",
       " -0.02067053618446124,\n",
       " 1.4255175805262343,\n",
       " -0.0652051653655743,\n",
       " 3.8381043057438116,\n",
       " -2.9732745468500372,\n",
       " 6.380665479392939,\n",
       " 0.4465403597211699,\n",
       " 1.9277789382537431,\n",
       " 16.073819912562616,\n",
       " 0.8673544964124611,\n",
       " 2.2800662640721523,\n",
       " 15.289023069612291,\n",
       " 6.473606097944766,\n",
       " 3.1136486090837634,\n",
       " -2.707969489136878,\n",
       " -1.5477091079974397,\n",
       " -0.10960517998993158,\n",
       " -1.0838414339415907,\n",
       " 1.5260726238309443,\n",
       " 2.9340821448643686,\n",
       " 3.209832325757252,\n",
       " 4.663478745585474,\n",
       " 5.171621181087347,\n",
       " 0.30192361237171106,\n",
       " -0.5483312891081793,\n",
       " 3.3844397649562126,\n",
       " 2.5949061815395114,\n",
       " 1.7286217608054502,\n",
       " -2.5235978569048285,\n",
       " 2.827890612167617,\n",
       " 2.398986098196458,\n",
       " 8.077089488088543,\n",
       " -1.7652433320993657,\n",
       " 0.28543975307069847,\n",
       " -3.9470753074123044,\n",
       " -4.824046939325534,\n",
       " -1.1548167516305474,\n",
       " 2.874675952477669,\n",
       " -2.5925189956240207,\n",
       " -1.7854763580680517,\n",
       " -0.8087276271640533,\n",
       " -2.5085746755064138,\n",
       " 0.22140696096482237,\n",
       " -0.12724601962232818,\n",
       " 1.3516219718028353,\n",
       " 5.626447468937627,\n",
       " -5.87071050206024,\n",
       " 2.0952566156968935,\n",
       " -0.017353521031747476,\n",
       " 21.002026724548607,\n",
       " -3.552483666405969,\n",
       " 1.1424456366943572,\n",
       " -0.17335753858248637,\n",
       " 2.1250670648740178,\n",
       " 0.3406560931909439,\n",
       " 6.530835811147593,\n",
       " 5.407358889477703,\n",
       " 1.4268540790556736,\n",
       " 0.1969182102030098,\n",
       " 0.08574659196562706,\n",
       " -1.4387830977331664,\n",
       " -0.22242271332999053,\n",
       " -1.4714136002108553,\n",
       " 0.647472118954938,\n",
       " 15.278384578901136,\n",
       " -0.267409708967711,\n",
       " -2.1129309480697893,\n",
       " -0.4237081625200485,\n",
       " -1.2523741817544023,\n",
       " -2.5412339538977164,\n",
       " -0.5997499352572095,\n",
       " -3.142169136030801,\n",
       " 2.3730078738287554,\n",
       " -2.7277203318412715,\n",
       " 0.6433471389759688,\n",
       " 0.3531343257858177,\n",
       " -0.8295563121352991,\n",
       " 4.325810177571579,\n",
       " 1.4874448093314996,\n",
       " -1.9557949849915888,\n",
       " -0.28112772492094784,\n",
       " 12.321670241653216,\n",
       " -6.160143948230636,\n",
       " 4.789790200214435,\n",
       " 4.043396760249256,\n",
       " 2.822617241008012,\n",
       " 0.7119123013856701,\n",
       " 0.4091047029975572,\n",
       " 0.4535717289155343,\n",
       " 0.8766633517407767,\n",
       " -1.792911553724271,\n",
       " -2.3245493351174176,\n",
       " 0.7740339388315478,\n",
       " -2.1853654516916565,\n",
       " 0.839486163708016,\n",
       " 1.2916163177838005,\n",
       " 0.048424292242210676,\n",
       " -2.8681099091830644,\n",
       " 7.198787122465307,\n",
       " 2.7867936583912565,\n",
       " -0.7562812548187399,\n",
       " 1.7387101328667418,\n",
       " 0.0929065170636072,\n",
       " -0.675704516784922,\n",
       " -1.119202614798711,\n",
       " 0.5099895197865854,\n",
       " 10.888788254011743,\n",
       " 3.0208895186730027,\n",
       " -0.4233028045091505,\n",
       " 2.491899878502342,\n",
       " -0.7298601133508882,\n",
       " -2.7076339387872315,\n",
       " -1.4273973487558802,\n",
       " 2.3118737499521265,\n",
       " -0.7163371995374375,\n",
       " 1.8596625648860208,\n",
       " 5.436934402473165,\n",
       " -1.8810195912563996,\n",
       " 5.135117229318327,\n",
       " 3.5640664310989276,\n",
       " 15.495020642414216,\n",
       " 3.4186132290995204,\n",
       " 0.3544579266072967,\n",
       " 0.08617813602349589,\n",
       " 0.613987153004615,\n",
       " 2.9364241690123194,\n",
       " 4.337471701743911,\n",
       " 1.378093797649206,\n",
       " 4.96211472961686,\n",
       " 2.4054018087669258,\n",
       " 1.903716876195162,\n",
       " -1.319900750422767,\n",
       " 0.14529525283024913,\n",
       " -0.5297485571387845,\n",
       " 1.6585495442416374,\n",
       " 4.859471111160037,\n",
       " -0.31338117723242576,\n",
       " 23.11213274417352,\n",
       " 0.7195950796886352,\n",
       " 0.08865130206981053,\n",
       " 3.6256112716872693,\n",
       " 0.07942888676724014,\n",
       " 3.658736447297746,\n",
       " 0.2755793013197758,\n",
       " 2.1478563563309656,\n",
       " -1.1226529999094783,\n",
       " 1.2421248008675487,\n",
       " 9.46646970085322,\n",
       " 4.252296484263868,\n",
       " 0.8591320763736379,\n",
       " 5.189259793950688,\n",
       " 6.154540750240622,\n",
       " 16.687386461114663,\n",
       " -1.770254171661052,\n",
       " -0.08391834917584085,\n",
       " -2.6980658425403883,\n",
       " 3.570552186806794,\n",
       " 2.647293714868068,\n",
       " 0.8550565469297435,\n",
       " 6.629811022034085,\n",
       " -0.04947808563983713,\n",
       " -1.273029306081293,\n",
       " 1.8986649154020645,\n",
       " 3.8030437821609677,\n",
       " -3.2020178875825946,\n",
       " -0.31306736111247435,\n",
       " -0.41768608930819173,\n",
       " 1.7597740913046085,\n",
       " 0.1336715652328797,\n",
       " -1.9430180887174586,\n",
       " -0.7070806939321175,\n",
       " 10.21742692293499,\n",
       " -0.46607759607581034,\n",
       " 9.126831787919869,\n",
       " -0.6049927012485616,\n",
       " -3.153210523949337,\n",
       " 2.1015355864712006,\n",
       " 8.844108853139964,\n",
       " 1.287048627635886,\n",
       " -1.5093415140056177,\n",
       " -3.179685785886215,\n",
       " 0.4454879981713269,\n",
       " 0.8553953858077268,\n",
       " 7.230289152073931,\n",
       " 0.3468298061061539,\n",
       " 7.8031509954890375,\n",
       " -2.501709618771492,\n",
       " 1.8799282197327098,\n",
       " 0.7431638883087697,\n",
       " 1.5745010719056731,\n",
       " 0.7625292108644866,\n",
       " 1.5282444705091676,\n",
       " 2.0835483672328277,\n",
       " -0.15278770389872065,\n",
       " 1.278296932964011,\n",
       " 16.05990218605573,\n",
       " -1.0973328202156765,\n",
       " 2.2892357961908214,\n",
       " -3.5540131091397997,\n",
       " 0.2717517950580808,\n",
       " 6.657098531541807,\n",
       " -0.1837934417079028,\n",
       " 4.764373438284572,\n",
       " -1.3089089274752714,\n",
       " -0.9948656091054646,\n",
       " -3.3423964515380042,\n",
       " -3.4519826334364225,\n",
       " -0.12797085876380176,\n",
       " 2.4183228582229237,\n",
       " 8.345139673658027,\n",
       " 0.8420857255714971,\n",
       " 0.065206495576148,\n",
       " 8.244987792570306,\n",
       " -1.7632786988442675,\n",
       " 3.0443349739239567,\n",
       " 0.08712201937424968,\n",
       " -0.8181036654399403,\n",
       " 3.152754239351461,\n",
       " 0.23121528842300165,\n",
       " 2.302996038155791,\n",
       " -1.6756821883677775,\n",
       " -1.6512821512937048,\n",
       " -2.2913453002187483,\n",
       " -0.6142320220992294,\n",
       " -0.7601521090809049,\n",
       " 8.496018386424879,\n",
       " 4.199578280892508,\n",
       " -1.058709972065155,\n",
       " 2.9701575382357355,\n",
       " 5.5110074174917365,\n",
       " -0.5388948045494617,\n",
       " 0.6940676710841327,\n",
       " 3.3939422936955594,\n",
       " -2.737023263602512,\n",
       " 0.37359294376615804,\n",
       " -0.8880374506202786,\n",
       " -0.16231075582546506,\n",
       " -4.288082232456714,\n",
       " -0.10443977787539982,\n",
       " 2.6382160688086707,\n",
       " -0.46607122250865185,\n",
       " 0.49286747432399647,\n",
       " 1.2859531242639104,\n",
       " 7.821145602300495,\n",
       " -1.6262310372334614,\n",
       " -2.7840195722121104,\n",
       " 9.898578759210334,\n",
       " 8.73196471588681,\n",
       " 1.7158819022055614,\n",
       " 5.119110373548324,\n",
       " -1.9128130763689324,\n",
       " -2.1840658239148194,\n",
       " 0.816678624446503,\n",
       " 1.1563288482808245,\n",
       " -3.8817033288223763,\n",
       " -4.252296484263868,\n",
       " -0.7046697109280409,\n",
       " -3.1734833461013823,\n",
       " 4.816134385644932,\n",
       " 13.081069059197262,\n",
       " 3.212150010321295,\n",
       " -1.0812632965563092,\n",
       " -0.3080644634499796,\n",
       " 4.802678711997036,\n",
       " -0.3244862029496849,\n",
       " 0.509383066159633,\n",
       " -0.8460902582525751,\n",
       " 0.18134428290795945,\n",
       " -0.23003309432016472,\n",
       " -0.5030997328367057,\n",
       " -1.4365879302092752,\n",
       " 1.6272110703041776,\n",
       " -2.753535255222368,\n",
       " 30.359510156426463,\n",
       " -0.9073088289901436,\n",
       " -0.6745438590149897,\n",
       " -3.257880151198563,\n",
       " 7.271748274178153,\n",
       " -3.0094294018041623,\n",
       " -4.96972524117589,\n",
       " 0.4819442445537838,\n",
       " 0.5270015707735078,\n",
       " 0.16210121926615084,\n",
       " -1.828385643732557,\n",
       " 0.011936270304089724,\n",
       " 2.0802362220619086,\n",
       " -0.5834027933814179,\n",
       " 1.6336229674896092,\n",
       " 0.048627262069895316,\n",
       " -1.6605717017904897,\n",
       " -2.447078624219751,\n",
       " 4.703665091925535,\n",
       " -3.335548548152376,\n",
       " 0.5103501221485676,\n",
       " -1.14039063688314,\n",
       " 0.7096348208444532,\n",
       " 0.6605726749933094,\n",
       " -0.7993371200518036,\n",
       " 7.191948690591969,\n",
       " 7.130350242345404,\n",
       " 0.04020415877169459,\n",
       " 2.4148280009719,\n",
       " -0.03716970624359828,\n",
       " 2.238644711382233,\n",
       " -0.0015950807958349245,\n",
       " 10.774486374098306,\n",
       " 0.5382051411315913,\n",
       " 0.11194247870678442,\n",
       " -0.5855611071460167,\n",
       " -0.33652964963617826,\n",
       " -0.14506912047432685,\n",
       " -0.6543362361103338,\n",
       " 2.8016301887030917,\n",
       " 1.1512813513508977,\n",
       " 2.1364415251302598,\n",
       " 3.700427318584946,\n",
       " 7.201071243734347,\n",
       " -0.9300469821965969,\n",
       " -4.931938229893174,\n",
       " 2.0869693246612186,\n",
       " 22.019694243612427,\n",
       " -0.5154489913634501,\n",
       " -2.9906268977094808,\n",
       " 0.7089253677479261,\n",
       " 20.670270927049238,\n",
       " 1.4132388674715939,\n",
       " 21.211647811604617,\n",
       " 0.27086015473814395,\n",
       " 2.5431386743308853,\n",
       " -1.8588291509632215,\n",
       " -0.17744773820121473,\n",
       " -0.2417071047042043,\n",
       " 19.79367167149638,\n",
       " -0.4343795833640449,\n",
       " 0.3091074141472019,\n",
       " -0.5658579113195703,\n",
       " 8.093989474427328,\n",
       " 0.2703964464295092,\n",
       " 0.6189243545266994,\n",
       " 0.36335781833130465,\n",
       " -1.8452172954505146,\n",
       " 19.04733115085277,\n",
       " 0.2650202119619216,\n",
       " 0.6566476189523529,\n",
       " 1.1274577183522592,\n",
       " -1.3146624521664751,\n",
       " 0.5361066126315341,\n",
       " 2.825725827823412,\n",
       " 1.0106660167966535,\n",
       " -0.9240184609911788,\n",
       " 10.276669360032898,\n",
       " 3.025170008958339,\n",
       " -1.0013704261457743,\n",
       " 0.35070936567587374,\n",
       " -1.4693292342373523,\n",
       " -0.5030997328367057,\n",
       " 10.888317266543044,\n",
       " -0.0770823935935967,\n",
       " -2.1205443661303223,\n",
       " -1.584561463082184,\n",
       " 2.6603425127227522,\n",
       " 0.6001631730018984,\n",
       " -2.5721683225969736,\n",
       " 0.9346195492096712,\n",
       " -0.4253865320504122,\n",
       " -2.36647410663962,\n",
       " -0.5941942456173939,\n",
       " 5.679099275355828,\n",
       " -2.2365083415748996,\n",
       " -2.32490517418979,\n",
       " 3.0757161385003844,\n",
       " -3.5457968200294694,\n",
       " 0.8592092217035718,\n",
       " -1.8411391004229456,\n",
       " 0.5395521144239881,\n",
       " 0.08847607909244548,\n",
       " 3.3684306927422005,\n",
       " 7.140370179977056,\n",
       " -0.15869457450774505,\n",
       " -2.4549695606878927,\n",
       " -0.9106774986458372,\n",
       " 3.152608050413951,\n",
       " 0.9175229618780447,\n",
       " -2.4640989180380464,\n",
       " 0.14368447623797387,\n",
       " 5.045512427834779,\n",
       " 26.053060878847628,\n",
       " 12.554432931513222,\n",
       " -1.6959052093632705,\n",
       " 1.4917125068802166,\n",
       " 3.627092661639634,\n",
       " 16.033156838026205,\n",
       " -0.9788840389520503,\n",
       " 0.6702899097002062,\n",
       " 2.95542469723586,\n",
       " -14.764272213409406,\n",
       " -0.8892363196784379,\n",
       " 0.4557515654614095,\n",
       " -1.0838414339415907,\n",
       " 0.7575999770542206,\n",
       " 11.692696240885098,\n",
       " -1.2152573126621924,\n",
       " 0.760592111075348,\n",
       " -1.9425443186478573,\n",
       " -3.034928949982798,\n",
       " 4.262780980299915,\n",
       " ...]"
      ]
     },
     "execution_count": 132,
     "metadata": {},
     "output_type": "execute_result"
    }
   ],
   "source": [
    "avg_results"
   ]
  },
  {
   "cell_type": "code",
   "execution_count": 116,
   "id": "af72ba98-bbb7-4ebd-a2d0-873ee1ce5e54",
   "metadata": {},
   "outputs": [
    {
     "data": {
      "text/plain": [
       "True"
      ]
     },
     "execution_count": 116,
     "metadata": {},
     "output_type": "execute_result"
    }
   ],
   "source": [
    "np.all(ds.y[:num_games] > 0)"
   ]
  },
  {
   "cell_type": "code",
   "execution_count": 29,
   "id": "273bec58-58af-44b0-bcc7-202104fc3123",
   "metadata": {},
   "outputs": [],
   "source": [
    "transformers = load_transformers()"
   ]
  },
  {
   "cell_type": "code",
   "execution_count": 35,
   "id": "6999f822-d21a-4847-bd1e-d05fae98389b",
   "metadata": {},
   "outputs": [],
   "source": [
    "points_preds = transformers[1].untransform(preds)\n",
    "points_real = transformers[1].untransform(ds.y)"
   ]
  },
  {
   "cell_type": "code",
   "execution_count": 36,
   "id": "b2d152bc-9691-4b94-ba92-407b6dd5d176",
   "metadata": {},
   "outputs": [
    {
     "data": {
      "text/plain": [
       "<matplotlib.collections.PathCollection at 0x7fbd61847fd0>"
      ]
     },
     "execution_count": 36,
     "metadata": {},
     "output_type": "execute_result"
    },
    {
     "data": {
      "image/png": "[encoded data removed]",
      "text/plain": [
       "<Figure size 432x288 with 1 Axes>"
      ]
     },
     "metadata": {
      "needs_background": "light"
     },
     "output_type": "display_data"
    }
   ],
   "source": [
    "plt.scatter(points_real, points_preds)"
   ]
  },
  {
   "cell_type": "code",
   "execution_count": 37,
   "id": "546a76e7-0d19-4dcc-b190-0276bd167b29",
   "metadata": {},
   "outputs": [
    {
     "data": {
      "text/plain": [
       "(array([3.000e+00, 1.200e+01, 9.900e+01, 5.560e+02, 6.509e+03, 6.509e+03,\n",
       "        5.560e+02, 9.900e+01, 1.200e+01, 3.000e+00]),\n",
       " array([-56.03744254, -42.43369829, -28.82995403, -15.22620978,\n",
       "         -1.62246552,  11.98127873,  25.58502298,  39.18876724,\n",
       "         52.79251149,  66.39625575,  80.        ]),\n",
       " <BarContainer object of 10 artists>)"
      ]
     },
     "execution_count": 37,
     "metadata": {},
     "output_type": "execute_result"
    },
    {
     "data": {
      "image/png": "[encoded data removed]",
      "text/plain": [
       "<Figure size 432x288 with 1 Axes>"
      ]
     },
     "metadata": {
      "needs_background": "light"
     },
     "output_type": "display_data"
    }
   ],
   "source": [
    "plt.hist(points_real)"
   ]
  },
  {
   "cell_type": "code",
   "execution_count": 39,
   "id": "fcb4824b-2808-4854-a5fb-9155d96f32c6",
   "metadata": {},
   "outputs": [
    {
     "data": {
      "text/plain": [
       "array([11.98127873])"
      ]
     },
     "execution_count": 39,
     "metadata": {},
     "output_type": "execute_result"
    }
   ],
   "source": [
    "transformers[1].y_means"
   ]
  },
  {
   "cell_type": "code",
   "execution_count": 40,
   "id": "14508b7d-90b5-4113-93b6-92a00ba0b5bd",
   "metadata": {},
   "outputs": [],
   "source": [
    "ds = DiskDataset('datasets/combined')"
   ]
  },
  {
   "cell_type": "code",
   "execution_count": 92,
   "id": "a22f7722-2642-4e00-b563-c19c4620f30a",
   "metadata": {},
   "outputs": [],
   "source": [
    "X = ds.X\n",
    "n_features = X.shape[1] // 2\n",
    "t1 = X[:, :n_features]\n",
    "\n",
    "win_loss_x = np.concatenate([t1, t1], axis=1)\n",
    "win_loss_x = np.concatenate([win_loss_x, win_loss_x], axis=0)\n",
    "win_loss_y = np.concatenate([ds.y, ds.y * -1], axis=0)\n",
    "win_loss_ds = NumpyDataset(win_loss_x, win_loss_y)"
   ]
  },
  {
   "cell_type": "code",
   "execution_count": 93,
   "id": "621b81e6-741a-434a-b2be-9dd33cd49a10",
   "metadata": {},
   "outputs": [
    {
     "data": {
      "text/plain": [
       "(array([2.0000e+00, 3.8000e+01, 6.4700e+02, 6.4160e+03, 2.8792e+04,\n",
       "        2.8792e+04, 6.4160e+03, 6.4700e+02, 3.8000e+01, 2.0000e+00]),\n",
       " array([-94. , -75.2, -56.4, -37.6, -18.8,   0. ,  18.8,  37.6,  56.4,\n",
       "         75.2,  94. ]),\n",
       " <BarContainer object of 10 artists>)"
      ]
     },
     "execution_count": 93,
     "metadata": {},
     "output_type": "execute_result"
    },
    {
     "data": {
      "image/png": "[encoded data removed]",
      "text/plain": [
       "<Figure size 432x288 with 1 Axes>"
      ]
     },
     "metadata": {
      "needs_background": "light"
     },
     "output_type": "display_data"
    }
   ],
   "source": [
    "plt.hist(win_loss_ds.y)"
   ]
  },
  {
   "cell_type": "code",
   "execution_count": 94,
   "id": "017910d1-a142-43cf-9bfe-367cf287702c",
   "metadata": {},
   "outputs": [],
   "source": [
    "from ligand_ml.trans.transformers import NormalizationTransformer\n",
    "transformers1 = [\n",
    "        NormalizationTransformer(transform_X=True, dataset=win_loss_ds),\n",
    "        NormalizationTransformer(transform_y=True, dataset=win_loss_ds)\n",
    "]"
   ]
  },
  {
   "cell_type": "code",
   "execution_count": 97,
   "id": "cb37b4f0-51d0-47c6-a2c7-2117fa5a7804",
   "metadata": {},
   "outputs": [
    {
     "data": {
      "text/plain": [
       "array([-1.81722991e-14])"
      ]
     },
     "execution_count": 97,
     "metadata": {},
     "output_type": "execute_result"
    }
   ],
   "source": [
    "transformers = load_transformers()\n",
    "transformers[1].y_means"
   ]
  },
  {
   "cell_type": "code",
   "execution_count": 95,
   "id": "9f04d529-84b6-4c30-a639-0c441c60cff4",
   "metadata": {},
   "outputs": [
    {
     "data": {
      "text/plain": [
       "array([-1.81722991e-14])"
      ]
     },
     "execution_count": 95,
     "metadata": {},
     "output_type": "execute_result"
    }
   ],
   "source": [
    "NormalizationTransformer(transform_y=True, dataset=win_loss_ds).y_means"
   ]
  },
  {
   "cell_type": "code",
   "execution_count": 96,
   "id": "3a566669-eeea-41a2-8e8c-98342228833c",
   "metadata": {},
   "outputs": [
    {
     "data": {
      "text/plain": [
       "array([15.12959295])"
      ]
     },
     "execution_count": 96,
     "metadata": {},
     "output_type": "execute_result"
    }
   ],
   "source": [
    "NormalizationTransformer(transform_y=True, dataset=win_loss_ds).y_stds"
   ]
  },
  {
   "cell_type": "code",
   "execution_count": 91,
   "id": "32f6f587-2cbd-4dca-addc-b5dfab5c0ff6",
   "metadata": {},
   "outputs": [
    {
     "data": {
      "text/plain": [
       "(35895, 71790, 71790)"
      ]
     },
     "execution_count": 91,
     "metadata": {},
     "output_type": "execute_result"
    }
   ],
   "source": [
    "len(ds), len(win_loss_ds), len(ds) * 2"
   ]
  },
  {
   "cell_type": "code",
   "execution_count": 87,
   "id": "5fc153d5-fe8e-4993-b1dc-3c1492405ff8",
   "metadata": {},
   "outputs": [
    {
     "data": {
      "text/plain": [
       "(array([11.98127873]), array([9.23869811]))"
      ]
     },
     "execution_count": 87,
     "metadata": {},
     "output_type": "execute_result"
    }
   ],
   "source": [
    "win_loss_ds.get_statistics(y_stats=True, X_stats=False)"
   ]
  },
  {
   "cell_type": "code",
   "execution_count": 81,
   "id": "62065324-8de2-443b-8d5c-45b57b501f49",
   "metadata": {},
   "outputs": [
    {
     "data": {
      "text/plain": [
       "(array([1.06252417e+02, 1.01758420e+02, 6.79024600e+01, 1.73907257e+01,\n",
       "        1.74676557e+01, 5.09529210e+01, 4.95457780e+01, 1.82161861e+01,\n",
       "        1.86578326e+01, 2.90843460e+01, 2.81916228e+01, 3.36541134e+01,\n",
       "        3.28745480e+01, 3.28745480e+01, 3.38225602e+01, 3.38225602e+01,\n",
       "        4.88604207e+01, 4.88604207e+01, 7.07636607e+01, 7.07636607e+01,\n",
       "        9.45863212e+00, 9.45863212e+00, 9.04073269e+00, 9.04073269e+00,\n",
       "        3.71597409e+01, 3.71597409e+01, 5.12231146e+01, 5.12231146e+01,\n",
       "        3.08068700e+01, 3.08474969e+01, 5.01928402e+01, 5.02153058e+01,\n",
       "        1.90002117e+01, 1.89362780e+01, 1.04491453e+02, 1.03346304e+02,\n",
       "        1.64224655e+00, 7.69500404e+01, 2.01892250e+03, 1.06252417e+02,\n",
       "        1.01758420e+02, 6.79024600e+01, 1.73907257e+01, 1.74676557e+01,\n",
       "        5.09529210e+01, 4.95457780e+01, 1.82161861e+01, 1.86578326e+01,\n",
       "        2.90843460e+01, 2.81916228e+01, 3.36541134e+01, 3.28745480e+01,\n",
       "        3.28745480e+01, 3.38225602e+01, 3.38225602e+01, 4.88604207e+01,\n",
       "        4.88604207e+01, 7.07636607e+01, 7.07636607e+01, 9.45863212e+00,\n",
       "        9.45863212e+00, 9.04073269e+00, 9.04073269e+00, 3.71597409e+01,\n",
       "        3.71597409e+01, 5.12231146e+01, 5.12231146e+01, 3.08068700e+01,\n",
       "        3.08474969e+01, 5.01928402e+01, 5.02153058e+01, 1.90002117e+01,\n",
       "        1.89362780e+01, 1.04491453e+02, 1.03346304e+02, 1.64224655e+00,\n",
       "        7.69500404e+01, 2.01892250e+03]),\n",
       " array([7.03573726, 6.30770676, 2.70547423, 1.18067745, 0.60393584,\n",
       "        2.9378911 , 2.66483541, 1.94484941, 2.2291024 , 4.14288473,\n",
       "        2.96660059, 4.94055886, 5.87740588, 5.87740588, 2.34397766,\n",
       "        2.34397766, 3.1052394 , 3.1052394 , 2.45224408, 2.45224408,\n",
       "        2.67592228, 2.67592228, 1.61473862, 1.61473862, 4.02655059,\n",
       "        4.02655059, 5.12201548, 5.12201548, 4.90299869, 3.75029052,\n",
       "        4.27659604, 3.76382792, 2.47725386, 2.76470571, 3.552496  ,\n",
       "        3.49587745, 0.48988464, 0.90296346, 1.99296984, 7.03573726,\n",
       "        6.30770676, 2.70547423, 1.18067745, 0.60393584, 2.9378911 ,\n",
       "        2.66483541, 1.94484941, 2.2291024 , 4.14288473, 2.96660059,\n",
       "        4.94055886, 5.87740588, 5.87740588, 2.34397766, 2.34397766,\n",
       "        3.1052394 , 3.1052394 , 2.45224408, 2.45224408, 2.67592228,\n",
       "        2.67592228, 1.61473862, 1.61473862, 4.02655059, 4.02655059,\n",
       "        5.12201548, 5.12201548, 4.90299869, 3.75029052, 4.27659604,\n",
       "        3.76382792, 2.47725386, 2.76470571, 3.552496  , 3.49587745,\n",
       "        0.48988464, 0.90296346, 1.99296984]),\n",
       " array([11.98127873]),\n",
       " array([9.23869811]))"
      ]
     },
     "execution_count": 81,
     "metadata": {},
     "output_type": "execute_result"
    }
   ],
   "source": [
    "win_loss_ds.get_statistics()"
   ]
  },
  {
   "cell_type": "code",
   "execution_count": 50,
   "id": "cc75c09b-29c6-4a2c-a355-5961d329e3c3",
   "metadata": {},
   "outputs": [],
   "source": [
    "t_ds = transformers[1].transform(win_loss_ds)"
   ]
  },
  {
   "cell_type": "code",
   "execution_count": 51,
   "id": "d3200b6e-9e4b-4d5b-8a85-bfb63aad7afc",
   "metadata": {},
   "outputs": [
    {
     "data": {
      "text/plain": [
       "(array([2.0000e+00, 3.8000e+01, 6.4700e+02, 6.4160e+03, 2.8792e+04,\n",
       "        2.8792e+04, 6.4160e+03, 6.4700e+02, 3.8000e+01, 2.0000e+00]),\n",
       " array([-11.47145165,  -9.4365329 ,  -7.40161416,  -5.36669541,\n",
       "         -3.33177666,  -1.29685791,   0.73806084,   2.77297959,\n",
       "          4.80789833,   6.84281708,   8.87773583]),\n",
       " <BarContainer object of 10 artists>)"
      ]
     },
     "execution_count": 51,
     "metadata": {},
     "output_type": "execute_result"
    },
    {
     "data": {
      "image/png": "[encoded data removed]",
      "text/plain": [
       "<Figure size 432x288 with 1 Axes>"
      ]
     },
     "metadata": {
      "needs_background": "light"
     },
     "output_type": "display_data"
    }
   ],
   "source": [
    "plt.hist(t_ds.y)"
   ]
  },
  {
   "cell_type": "code",
   "execution_count": 54,
   "id": "00a4776f-4dcf-49dd-9b4f-cdd8769ad756",
   "metadata": {},
   "outputs": [
    {
     "data": {
      "text/plain": [
       "(71790, 1)"
      ]
     },
     "execution_count": 54,
     "metadata": {},
     "output_type": "execute_result"
    }
   ],
   "source": [
    "win_loss_ds.y.shape"
   ]
  },
  {
   "cell_type": "code",
   "execution_count": 56,
   "id": "d427026a-a5f4-47da-a699-2b513455a50b",
   "metadata": {},
   "outputs": [
    {
     "data": {
      "text/plain": [
       "(array([11.98127873]), array([9.23869811]))"
      ]
     },
     "execution_count": 56,
     "metadata": {},
     "output_type": "execute_result"
    }
   ],
   "source": [
    "win_loss_ds.get_statistics(X_stats=False, y_stats=True)"
   ]
  },
  {
   "cell_type": "code",
   "execution_count": 71,
   "id": "19a1b11d-38a0-4a73-85f3-b13d6b0f1f5c",
   "metadata": {},
   "outputs": [
    {
     "data": {
      "text/plain": [
       "0.0"
      ]
     },
     "execution_count": 71,
     "metadata": {},
     "output_type": "execute_result"
    }
   ],
   "source": [
    "np.mean(win_loss_ds.y)"
   ]
  },
  {
   "cell_type": "code",
   "execution_count": 59,
   "id": "b8f950e7-4dcc-4be6-b192-477399303a5b",
   "metadata": {},
   "outputs": [
    {
     "data": {
      "text/plain": [
       "15.129592949282424"
      ]
     },
     "execution_count": 59,
     "metadata": {},
     "output_type": "execute_result"
    }
   ],
   "source": [
    "np.std(win_loss_ds.y)"
   ]
  },
  {
   "cell_type": "code",
   "execution_count": 61,
   "id": "62f9bf0c-3100-40e2-83f3-81da0c57761b",
   "metadata": {},
   "outputs": [
    {
     "data": {
      "text/plain": [
       "array([11.98127873])"
      ]
     },
     "execution_count": 61,
     "metadata": {},
     "output_type": "execute_result"
    }
   ],
   "source": [
    "transformers[1].y_means"
   ]
  },
  {
   "cell_type": "code",
   "execution_count": 62,
   "id": "08484df9-c864-4127-8155-c5e9b84ceafc",
   "metadata": {},
   "outputs": [
    {
     "data": {
      "text/plain": [
       "array([9.23869811])"
      ]
     },
     "execution_count": 62,
     "metadata": {},
     "output_type": "execute_result"
    }
   ],
   "source": [
    "transformers[1].y_stds"
   ]
  },
  {
   "cell_type": "code",
   "execution_count": 68,
   "id": "70b4d45b-4b56-443f-84cc-c8f01c88964b",
   "metadata": {},
   "outputs": [
    {
     "data": {
      "text/plain": [
       "array([ True,  True,  True,  True,  True,  True,  True,  True,  True,\n",
       "        True,  True,  True,  True,  True,  True,  True,  True,  True,\n",
       "        True,  True,  True,  True,  True,  True,  True,  True,  True,\n",
       "        True,  True,  True,  True,  True,  True,  True,  True,  True,\n",
       "        True,  True,  True, False, False, False, False, False, False,\n",
       "       False, False, False, False, False, False, False, False, False,\n",
       "       False, False, False, False, False, False, False, False, False,\n",
       "       False, False, False, False, False, False, False, False, False,\n",
       "       False, False, False, False, False,  True])"
      ]
     },
     "execution_count": 68,
     "metadata": {},
     "output_type": "execute_result"
    }
   ],
   "source": [
    "np.isclose(transformers[0].X_means, np.mean(ds.X, axis=0))"
   ]
  },
  {
   "cell_type": "code",
   "execution_count": 72,
   "id": "82561320-4d23-414f-b4fc-7c409f59d2a8",
   "metadata": {},
   "outputs": [
    {
     "data": {
      "text/plain": [
       "11.981278729628082"
      ]
     },
     "execution_count": 72,
     "metadata": {},
     "output_type": "execute_result"
    }
   ],
   "source": [
    "np.mean(ds.y)"
   ]
  },
  {
   "cell_type": "code",
   "execution_count": null,
   "id": "b541d0d2-9591-4e1f-b21e-63921842e28e",
   "metadata": {},
   "outputs": [],
   "source": []
  }
 ],
 "metadata": {
  "kernelspec": {
   "display_name": "Python 3 (ipykernel)",
   "language": "python",
   "name": "python3"
  },
  "language_info": {
   "codemirror_mode": {
    "name": "ipython",
    "version": 3
   },
   "file_extension": ".py",
   "mimetype": "text/x-python",
   "name": "python",
   "nbconvert_exporter": "python",
   "pygments_lexer": "ipython3",
   "version": "3.8.12"
  }
 },
 "nbformat": 4,
 "nbformat_minor": 5
}
