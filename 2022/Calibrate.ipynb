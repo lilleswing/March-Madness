{
 "cells": [
  {
   "cell_type": "code",
   "execution_count": 1,
   "id": "6b4af79c-2cfc-42da-88f2-9f3868ecc5af",
   "metadata": {},
   "outputs": [],
   "source": [
    "# Given a +- score what is the probability of winning the game?"
   ]
  },
  {
   "cell_type": "code",
   "execution_count": 3,
   "id": "96dbc3f1-7bf3-4a1c-a00d-f67b985571e9",
   "metadata": {
    "collapsed": true,
    "jupyter": {
     "outputs_hidden": true
    },
    "tags": []
   },
   "outputs": [
    {
     "name": "stdout",
     "output_type": "stream",
     "text": [
      "reg_model.pt                                  100%  298KB   2.4MB/s   00:00    \n",
      "model_checkpoint.pt                           100%  891KB   3.9MB/s   00:00    \n",
      "reg_model.pt                                  100%  298KB   3.8MB/s   00:00    \n",
      "model_checkpoint.pt                           100%  891KB   4.7MB/s   00:00    \n",
      "reg_model.pt                                  100%  298KB   2.7MB/s   00:00    \n",
      "model_checkpoint.pt                           100%  891KB   5.8MB/s   00:00    \n",
      "reg_model.pt                                  100%  298KB   6.3MB/s   00:00    \n",
      "model_checkpoint.pt                           100%  891KB   6.9MB/s   00:00    \n",
      "reg_model.pt                                  100%  298KB   6.3MB/s   00:00    \n",
      "model_checkpoint.pt                           100%  891KB   7.1MB/s   00:00    \n",
      "reg_model.pt                                  100%  298KB   6.2MB/s   00:00    \n",
      "model_checkpoint.pt                           100%  891KB   7.7MB/s   00:00    \n",
      "reg_model.pt                                  100%  298KB   7.5MB/s   00:00    \n",
      "model_checkpoint.pt                           100%  891KB   8.0MB/s   00:00    \n",
      "reg_model.pt                                  100%  298KB   6.6MB/s   00:00    \n",
      "model_checkpoint.pt                           100%  891KB   8.4MB/s   00:00    \n",
      "reg_model.pt                                  100%  298KB   5.7MB/s   00:00    \n",
      "model_checkpoint.pt                           100%  891KB   8.3MB/s   00:00    \n",
      "reg_model.pt                                  100%  298KB   7.4MB/s   00:00    \n",
      "model_checkpoint.pt                           100%  891KB   9.8MB/s   00:00    \n",
      "reg_model.pt                                  100%  298KB   7.7MB/s   00:00    \n",
      "model_checkpoint.pt                           100%  891KB   9.1MB/s   00:00    \n",
      "reg_model.pt                                  100%  298KB   8.6MB/s   00:00    \n",
      "model_checkpoint.pt                           100%  891KB   9.5MB/s   00:00    \n",
      "reg_model.pt                                  100%  298KB   6.9MB/s   00:00    \n",
      "model_checkpoint.pt                           100%  891KB   9.3MB/s   00:00    \n",
      "reg_model.pt                                  100%  298KB   6.8MB/s   00:00    \n",
      "model_checkpoint.pt                           100%  891KB  10.3MB/s   00:00    \n",
      "reg_model.pt                                  100%  298KB  11.0MB/s   00:00    \n",
      "model_checkpoint.pt                           100%  891KB  11.0MB/s   00:00    \n",
      "reg_model.pt                                  100%  298KB   7.5MB/s   00:00    \n",
      "model_checkpoint.pt                           100%  891KB   9.7MB/s   00:00    \n",
      "reg_model.pt                                  100%  298KB   8.6MB/s   00:00    \n",
      "model_checkpoint.pt                           100%  891KB  10.8MB/s   00:00    \n",
      "reg_model.pt                                  100%  298KB   7.2MB/s   00:00    \n",
      "model_checkpoint.pt                           100%  891KB  10.2MB/s   00:00    \n",
      "reg_model.pt                                  100%  298KB  12.3MB/s   00:00    \n",
      "model_checkpoint.pt                           100%  891KB  13.9MB/s   00:00    \n",
      "reg_model.pt                                  100%  298KB   6.7MB/s   00:00    \n",
      "model_checkpoint.pt                           100%  891KB  10.0MB/s   00:00    \n",
      "reg_model.pt                                  100%  298KB  10.9MB/s   00:00    \n",
      "model_checkpoint.pt                           100%  891KB  14.0MB/s   00:00    \n",
      "reg_model.pt                                  100%  298KB   7.2MB/s   00:00    \n",
      "model_checkpoint.pt                           100%  891KB  10.6MB/s   00:00    \n",
      "reg_model.pt                                  100%  298KB   6.9MB/s   00:00    \n",
      "model_checkpoint.pt                           100%  891KB  10.4MB/s   00:00    \n",
      "reg_model.pt                                  100%  298KB  11.7MB/s   00:00    \n",
      "model_checkpoint.pt                           100%  891KB  14.2MB/s   00:00    \n",
      "reg_model.pt                                  100%  298KB   7.3MB/s   00:00    \n",
      "model_checkpoint.pt                           100%  891KB  10.1MB/s   00:00    \n",
      "reg_model.pt                                  100%  298KB  12.8MB/s   00:00    \n",
      "model_checkpoint.pt                           100%  891KB  14.1MB/s   00:00    \n",
      "reg_model.pt                                  100%  298KB   7.2MB/s   00:00    \n",
      "model_checkpoint.pt                           100%  891KB   9.8MB/s   00:00    \n",
      "reg_model.pt                                  100%  298KB   3.2MB/s   00:00    \n",
      "model_checkpoint.pt                           100%  891KB  10.5MB/s   00:00    \n",
      "reg_model.pt                                  100%  298KB  12.9MB/s   00:00    \n",
      "model_checkpoint.pt                           100%  891KB  13.9MB/s   00:00    \n",
      "reg_model.pt                                  100%  298KB   3.3MB/s   00:00    \n",
      "model_checkpoint.pt                           100%  891KB   9.6MB/s   00:00    \n",
      "best_params.json                              100%  161    13.2KB/s   00:00    \n",
      "reg_model.pt                                  100%  298KB  12.1MB/s   00:00    \n",
      "model_checkpoint.pt                           100%  891KB  13.3MB/s   00:00    \n",
      "reg_model.pt                                  100%  298KB   7.5MB/s   00:00    \n",
      "model_checkpoint.pt                           100%  891KB  11.2MB/s   00:00    \n",
      "reg_model.pt                                  100%  298KB   7.0MB/s   00:00    \n",
      "model_checkpoint.pt                           100%  891KB  10.5MB/s   00:00    \n",
      "reg_model.pt                                  100%  298KB   7.3MB/s   00:00    \n",
      "model_checkpoint.pt                           100%  891KB  10.2MB/s   00:00    \n",
      "reg_model.pt                                  100%  298KB   7.2MB/s   00:00    \n",
      "model_checkpoint.pt                           100%  891KB   9.6MB/s   00:00    \n",
      "experiment.pkl                                100%    0     0.0KB/s   00:00    \n",
      "reg_model.pt                                  100%  298KB  12.6MB/s   00:00    \n",
      "model_checkpoint.pt                           100%  891KB  11.1MB/s   00:00    \n",
      "reg_model.pt                                  100%  298KB   9.8MB/s   00:00    \n",
      "model_checkpoint.pt                           100%  891KB  10.2MB/s   00:00    \n",
      "reg_model.pt                                  100%  298KB  13.1MB/s   00:00    \n",
      "model_checkpoint.pt                           100%  891KB  14.7MB/s   00:00    \n",
      "reg_model.pt                                  100%  298KB   7.2MB/s   00:00    \n",
      "model_checkpoint.pt                           100%  891KB   9.4MB/s   00:00    \n",
      "reg_model.pt                                  100%  298KB  11.9MB/s   00:00    \n",
      "model_checkpoint.pt                           100%  891KB   9.3MB/s   00:00    \n",
      "reg_model.pt                                  100%  298KB   7.4MB/s   00:00    \n",
      "model_checkpoint.pt                           100%  891KB  14.6MB/s   00:00    \n",
      "reg_model.pt                                  100%  298KB   7.3MB/s   00:00    \n",
      "model_checkpoint.pt                           100%  891KB   9.6MB/s   00:00    \n",
      "reg_model.pt                                  100%  298KB   7.2MB/s   00:00    \n",
      "model_checkpoint.pt                           100%  891KB  10.3MB/s   00:00    \n",
      "reg_model.pt                                  100%  298KB  11.4MB/s   00:00    \n",
      "model_checkpoint.pt                           100%  891KB  14.4MB/s   00:00    \n",
      "reg_model.pt                                  100%  298KB   6.8MB/s   00:00    \n",
      "model_checkpoint.pt                           100%  891KB  10.4MB/s   00:00    \n",
      "values.pkl                                    100%  161    13.0KB/s   00:00    \n",
      "reg_model.pt                                  100%  298KB   7.4MB/s   00:00    \n",
      "model_checkpoint.pt                           100%  891KB  14.6MB/s   00:00    \n",
      "reg_model.pt                                  100%  298KB   7.5MB/s   00:00    \n",
      "model_checkpoint.pt                           100%  891KB  10.0MB/s   00:00    \n",
      "reg_model.pt                                  100%  298KB   7.2MB/s   00:00    \n",
      "model_checkpoint.pt                           100%  891KB   9.8MB/s   00:00    \n",
      "reg_model.pt                                  100%  298KB   7.5MB/s   00:00    \n",
      "model_checkpoint.pt                           100%  891KB  11.4MB/s   00:00    \n",
      "reg_model.pt                                  100%  298KB  11.9MB/s   00:00    \n",
      "model_checkpoint.pt                           100%  891KB  14.5MB/s   00:00    \n"
     ]
    }
   ],
   "source": [
    "!scp -r boltio.schrodinger.com:/nfs/working/deep_learn/leswing/madness/models/16 ./"
   ]
  },
  {
   "cell_type": "code",
   "execution_count": 4,
   "id": "0d5e2464-8841-4e4a-a3c9-bd2ddce84122",
   "metadata": {},
   "outputs": [],
   "source": [
    "!mv 16 models"
   ]
  },
  {
   "cell_type": "code",
   "execution_count": 5,
   "id": "47d09927-23ee-46c4-a9d5-2481ddce0e52",
   "metadata": {},
   "outputs": [
    {
     "name": "stderr",
     "output_type": "stream",
     "text": [
      "/Users/leswing/miniconda3/envs/ligand_ml/lib/python3.8/site-packages/tqdm/auto.py:22: TqdmWarning: IProgress not found. Please update jupyter and ipywidgets. See https://ipywidgets.readthedocs.io/en/stable/user_install.html\n",
      "  from .autonotebook import tqdm as notebook_tqdm\n",
      "/Users/leswing/miniconda3/envs/ligand_ml/lib/python3.8/site-packages/xgboost/compat.py:36: FutureWarning:\n",
      "\n",
      "pandas.Int64Index is deprecated and will be removed from pandas in a future version. Use pandas.Index with the appropriate dtype instead.\n",
      "\n"
     ]
    }
   ],
   "source": [
    "import hashlib\n",
    "import os\n",
    "import numpy as np\n",
    "import pickle\n",
    "import json\n",
    "\n",
    "from ligand_ml.data import NumpyDataset\n",
    "from ligand_ml.models.torchm.model_mechanics import DenseModel\n",
    "\n",
    "\n",
    "def load_transformers():\n",
    "    with open('transformers.pkl', 'rb') as fin:\n",
    "        return pickle.load(fin)\n",
    "\n",
    "\n",
    "def get_team_fvs(year):\n",
    "    d = json.loads(open('team_fvs.json').read())\n",
    "\n",
    "    X = []\n",
    "    team_names = []\n",
    "    for k, v in d.items():\n",
    "        if k.find(year) == -1:\n",
    "            continue\n",
    "        X.append(v[0])\n",
    "        team_names.append(k)\n",
    "\n",
    "    print(len(team_names))\n",
    "    ds = NumpyDataset(X, np.ones(len(X)), np.ones(len(X)), range(len(X)))\n",
    "\n",
    "    return ds.X, team_names\n",
    "\n",
    "\n",
    "def create_dataset(year):\n",
    "    fvs, team_names = get_team_fvs(year)\n",
    "    X = []\n",
    "    for i, t1 in enumerate(team_names):\n",
    "        for j, t2 in enumerate(team_names):\n",
    "            if j <= i:\n",
    "                continue\n",
    "            fv1 = np.concatenate([fvs[i], fvs[j]])\n",
    "            fv2 = np.concatenate([fvs[j], fvs[i]])\n",
    "            X.append(fv1)\n",
    "            X.append(fv2)\n",
    "    print(np.array(X).shape)\n",
    "    ds = NumpyDataset(X, np.ones(len(X)), np.ones(len(X)), range(len(X)))\n",
    "    transformers = load_transformers()\n",
    "    for trans in transformers:\n",
    "        ds = trans.transform(ds)\n",
    "    return ds\n",
    "\n",
    "\n",
    "def make_predictions(ds, model_key):\n",
    "    all_preds = []\n",
    "    for fold in range(5):\n",
    "        path = os.path.join('models', model_key, str(fold))\n",
    "        d = DenseModel(path, mode='regression')\n",
    "        preds = np.squeeze(d.predict(ds))\n",
    "        all_preds.append(preds)\n",
    "\n",
    "    retval = np.mean(all_preds, axis=0)\n",
    "    print(f\"Predictions shape {retval.shape}\")\n",
    "    return retval\n",
    "\n",
    "\n",
    "def convert_to_games(predictions, year):\n",
    "    fvs, team_names = get_team_fvs(year)\n",
    "    games = []\n",
    "    for i, t1 in enumerate(team_names):\n",
    "        for j, t2 in enumerate(team_names):\n",
    "            if j <= i:\n",
    "                continue\n",
    "            games.append((t1, t2))\n",
    "\n",
    "    results = {}\n",
    "    index = 0\n",
    "    while index < len(predictions):\n",
    "        v1, v2 = predictions[index], predictions[index + 1]\n",
    "        v2 *= -1\n",
    "        average = (v1 + v2) / 2\n",
    "\n",
    "        t1, t2 = games[index // 2]\n",
    "        results[f\"{t1}:{t2}\"] = average\n",
    "        results[f\"{t2}:{t1}\"] = average * -1\n",
    "        index += 2\n",
    "    return results\n",
    "\n",
    "\n",
    "def play_year(year):\n",
    "    with open('models/best_params.json', 'r') as fin:\n",
    "        best_params = json.loads(fin.read())\n",
    "    model_key = hashlib.md5(str(best_params).encode('utf-8')).hexdigest()\n",
    "\n",
    "    ds = create_dataset(year)\n",
    "    predictions = make_predictions(ds, model_key)\n",
    "    predictions = convert_to_games(predictions, year)\n",
    "    with open(f'results_{year}.json', 'w') as fout:\n",
    "        fout.write(json.dumps(predictions, indent=4, sort_keys=True))\n"
   ]
  },
  {
   "cell_type": "code",
   "execution_count": 6,
   "id": "224adeb1-82e3-4d3d-8494-cf56d04fa3d8",
   "metadata": {},
   "outputs": [],
   "source": [
    "from ligand_ml.data import DiskDataset"
   ]
  },
  {
   "cell_type": "code",
   "execution_count": 7,
   "id": "e6bbf931-fa52-4f03-b073-67e743f0d305",
   "metadata": {},
   "outputs": [
    {
     "name": "stdout",
     "output_type": "stream",
     "text": [
      "Predictions shape (14358,)\n"
     ]
    }
   ],
   "source": [
    "with open('models/best_params.json', 'r') as fin:\n",
    "    best_params = json.loads(fin.read())\n",
    "model_key = hashlib.md5(str(best_params).encode('utf-8')).hexdigest()\n",
    "\n",
    "ds = DiskDataset('datasets/full_folds/valid0')\n",
    "\n",
    "preds = make_predictions(ds, model_key)"
   ]
  },
  {
   "cell_type": "code",
   "execution_count": 11,
   "id": "3439ac5f-2718-45c1-9c89-f332ba7e6142",
   "metadata": {},
   "outputs": [
    {
     "data": {
      "text/plain": [
       "<matplotlib.collections.PathCollection at 0x7fbd51129d30>"
      ]
     },
     "execution_count": 11,
     "metadata": {},
     "output_type": "execute_result"
    },
    {
     "data": {
      "image/png": "[encoded data removed]",
      "text/plain": [
       "<Figure size 432x288 with 1 Axes>"
      ]
     },
     "metadata": {
      "needs_background": "light"
     },
     "output_type": "display_data"
    }
   ],
   "source": [
    "import matplotlib.pyplot as plt\n",
    "%matplotlib inline\n",
    "plt.grid()\n",
    "plt.xlabel(\"Predicted\")\n",
    "plt.ylabel(\"Real\")\n",
    "plt.scatter(preds, ds.y)"
   ]
  },
  {
   "cell_type": "code",
   "execution_count": 16,
   "id": "3c08cd26-8255-4b07-ba1a-0d4ff688b457",
   "metadata": {},
   "outputs": [],
   "source": [
    "num_games = ds.X.shape[0]//2\n",
    "first_games = ds.X[:num_games,:]\n",
    "second_games = ds.X[num_games:,:]"
   ]
  },
  {
   "cell_type": "code",
   "execution_count": 17,
   "id": "a05d19cf-f909-4164-a52e-f6fd43e3f260",
   "metadata": {},
   "outputs": [
    {
     "data": {
      "text/plain": [
       "((7179, 78), (7179, 78))"
      ]
     },
     "execution_count": 17,
     "metadata": {},
     "output_type": "execute_result"
    }
   ],
   "source": [
    "np.shape(second_games), np.shape(first_games)"
   ]
  },
  {
   "cell_type": "code",
   "execution_count": 20,
   "id": "389c90fa-65d1-4fa2-b4e4-c31323c52f3d",
   "metadata": {},
   "outputs": [
    {
     "data": {
      "text/plain": [
       "array([ 0.39051817,  0.14927447,  1.99504397, -1.51669343, -0.93992711,\n",
       "       -0.2222414 ,  1.07106879, -0.26541186,  0.82641669, -0.40656357,\n",
       "        1.55342018,  0.51530337,  1.09324626,  1.09324626,  1.56888857,\n",
       "        1.56888857,  0.52800416,  0.52800416, -0.27063402, -0.27063402,\n",
       "        2.14556601,  2.14556601,  0.09863349,  0.09863349, -0.8343968 ,\n",
       "       -0.8343968 ,  0.69833552,  0.69833552,  0.42690812, -0.54595687,\n",
       "       -0.88688298,  0.04907085,  0.68615829,  0.67411224,  1.4380163 ,\n",
       "       -0.84279399, -2.04588278,  0.16607494, -0.96463887])"
      ]
     },
     "execution_count": 20,
     "metadata": {},
     "output_type": "execute_result"
    }
   ],
   "source": [
    "second_games[0][:39]"
   ]
  },
  {
   "cell_type": "code",
   "execution_count": 21,
   "id": "39db0fa4-c095-4aff-99ac-5492bcfea9b7",
   "metadata": {},
   "outputs": [
    {
     "data": {
      "text/plain": [
       "array([ 0.39051817,  0.14927447,  1.99504397, -1.51669343, -0.93992711,\n",
       "       -0.2222414 ,  1.07106879, -0.26541186,  0.82641669, -0.40656357,\n",
       "        1.55342018,  0.51530337,  1.09324626,  1.09324626,  1.56888857,\n",
       "        1.56888857,  0.52800416,  0.52800416, -0.27063402, -0.27063402,\n",
       "        2.14556601,  2.14556601,  0.09863349,  0.09863349, -0.8343968 ,\n",
       "       -0.8343968 ,  0.69833552,  0.69833552,  0.42690812, -0.54595687,\n",
       "       -0.88688298,  0.04907085,  0.68615829,  0.67411224,  1.4380163 ,\n",
       "       -0.84279399, -2.04588278,  0.16607494, -0.96463887])"
      ]
     },
     "execution_count": 21,
     "metadata": {},
     "output_type": "execute_result"
    }
   ],
   "source": [
    "first_games[0][39:]"
   ]
  },
  {
   "cell_type": "code",
   "execution_count": 23,
   "id": "d175bc91-403d-4140-a192-16fd6cc97bb4",
   "metadata": {},
   "outputs": [],
   "source": [
    "avg_results = []\n",
    "for i in range(num_games):\n",
    "    v = (preds[i] + preds[i+num_games]*-1) / 2\n",
    "    avg_results.append(v)"
   ]
  },
  {
   "cell_type": "code",
   "execution_count": 24,
   "id": "312ec564-09fd-491e-bd1e-9825195166f1",
   "metadata": {},
   "outputs": [
    {
     "data": {
      "text/plain": [
       "[0.18119057267904282,\n",
       " 0.19584794342517853,\n",
       " 2.363330125808716,\n",
       " -0.21525996923446655,\n",
       " -0.0759219117462635,\n",
       " -0.11110872775316238,\n",
       " 0.010229766368865967,\n",
       " 0.2969049960374832,\n",
       " -0.299802303314209,\n",
       " 0.2702065780758858,\n",
       " 1.1112499833106995,\n",
       " 2.2554351091384888,\n",
       " 0.04678754322230816,\n",
       " 0.4154869616031647,\n",
       " -0.2845884710550308,\n",
       " 0.0036629443056881428,\n",
       " 0.15867581963539124,\n",
       " -0.16924826800823212,\n",
       " 0.4008842408657074,\n",
       " 0.8222848773002625,\n",
       " -0.19430086016654968,\n",
       " -0.40154358744621277,\n",
       " 0.7326218783855438,\n",
       " 1.5509282350540161,\n",
       " -0.19430086016654968,\n",
       " 0.4449016749858856,\n",
       " 0.5551674664020538,\n",
       " -0.01963944546878338,\n",
       " 0.5771949589252472,\n",
       " -0.013046116102486849,\n",
       " 1.1622572541236877,\n",
       " 1.9265364408493042,\n",
       " 0.0856415443122387,\n",
       " 0.19758924841880798,\n",
       " 0.6453213691711426,\n",
       " 0.3544282764196396,\n",
       " 0.05004711402580142,\n",
       " -0.24152161926031113,\n",
       " -0.0851675346493721,\n",
       " -0.6213212013244629,\n",
       " 0.4471118450164795,\n",
       " 1.5834349393844604,\n",
       " 0.19696775078773499,\n",
       " 0.21565835177898407,\n",
       " 1.6447438597679138,\n",
       " 0.006853600963950157,\n",
       " -0.17271088063716888,\n",
       " -0.32811181247234344,\n",
       " 0.8578339517116547,\n",
       " 0.6942981481552124,\n",
       " -0.09108482673764229,\n",
       " 0.8393729627132416,\n",
       " 0.01698663830757141,\n",
       " -0.0971720963716507,\n",
       " -0.1674138829112053,\n",
       " 0.3493219465017319,\n",
       " -0.1898612529039383,\n",
       " 0.6604158282279968,\n",
       " 0.629380851984024,\n",
       " 0.5245085060596466,\n",
       " 0.0032418277114629745,\n",
       " 0.959072470664978,\n",
       " 0.020905032753944397,\n",
       " -0.07656547240912914,\n",
       " 0.3854586333036423,\n",
       " -0.11794093623757362,\n",
       " 0.46708494424819946,\n",
       " 0.08176231011748314,\n",
       " 0.2021012082695961,\n",
       " 0.052745431661605835,\n",
       " -0.15595485270023346,\n",
       " 0.1451476290822029,\n",
       " -0.11794093623757362,\n",
       " 0.024652388645336032,\n",
       " 0.2575345039367676,\n",
       " 0.463986873626709,\n",
       " 0.11828233301639557,\n",
       " 0.2935580462217331,\n",
       " -0.05970066599547863,\n",
       " 3.5712263584136963,\n",
       " -0.4249887317419052,\n",
       " -0.029703982174396515,\n",
       " 0.6705358326435089,\n",
       " 0.3022538870573044,\n",
       " 0.28531309962272644,\n",
       " 1.31017404794693,\n",
       " -0.11165828257799149,\n",
       " -0.11523288115859032,\n",
       " 0.0816832184791565,\n",
       " 0.09485651552677155,\n",
       " -0.3031219020485878,\n",
       " -0.2096225991845131,\n",
       " 0.08829217031598091,\n",
       " 0.05968328192830086,\n",
       " -0.3017693907022476,\n",
       " 0.6738263964653015,\n",
       " -0.5414314866065979,\n",
       " 0.03562361281365156,\n",
       " 0.11967289820313454,\n",
       " -0.09633530303835869,\n",
       " -0.1376376785337925,\n",
       " 0.46203407645225525,\n",
       " -0.2046722173690796,\n",
       " -0.04997335188090801,\n",
       " 0.4878781586885452,\n",
       " -0.1967097520828247,\n",
       " 0.21049341559410095,\n",
       " -0.15496082603931427,\n",
       " 0.0014845605473965406,\n",
       " 1.589051067829132,\n",
       " 0.5025154501199722,\n",
       " 1.2697450518608093,\n",
       " 0.353750616312027,\n",
       " 1.2992839813232422,\n",
       " -0.03345790132880211,\n",
       " -0.2525550350546837,\n",
       " 0.2546166628599167,\n",
       " 0.050040485337376595,\n",
       " -0.06407572701573372,\n",
       " 0.49525831639766693,\n",
       " 0.39582695066928864,\n",
       " 0.4279717355966568,\n",
       " -0.22080658376216888,\n",
       " 0.009421713650226593,\n",
       " 1.9156716465950012,\n",
       " -0.26442328095436096,\n",
       " 0.035929473116993904,\n",
       " 1.7064358592033386,\n",
       " -0.2038501501083374,\n",
       " -0.27797169983386993,\n",
       " -0.37459391355514526,\n",
       " 0.023840623907744884,\n",
       " 0.3452136963605881,\n",
       " -0.14288457110524178,\n",
       " 1.3391077518463135,\n",
       " -0.028751609148457646,\n",
       " 0.46640317142009735,\n",
       " 0.8750401735305786,\n",
       " -0.2559538558125496,\n",
       " 0.001648814999498427,\n",
       " 0.00885721854865551,\n",
       " -0.07092159986495972,\n",
       " -0.2833857536315918,\n",
       " 0.09481366164982319,\n",
       " -0.017366868443787098,\n",
       " 0.19197018444538116,\n",
       " 0.5748013257980347,\n",
       " 0.4795483350753784,\n",
       " -0.22479832917451859,\n",
       " -0.40714046359062195,\n",
       " 0.15572727471590042,\n",
       " -0.0703806817473378,\n",
       " -0.07501807808876038,\n",
       " 0.48883992433547974,\n",
       " -0.24554196000099182,\n",
       " -0.18700657784938812,\n",
       " 0.4830548167228699,\n",
       " -0.1630541756749153,\n",
       " 0.21551548689603806,\n",
       " -0.057775553315877914,\n",
       " -0.09790181368589401,\n",
       " 0.08874797448515892,\n",
       " 0.08792989701032639,\n",
       " -0.5570738315582275,\n",
       " 0.3331928104162216,\n",
       " -0.3479287326335907,\n",
       " -0.11857408285140991,\n",
       " -0.05179713852703571,\n",
       " 0.5488829910755157,\n",
       " 0.19583480805158615,\n",
       " 0.2983926832675934,\n",
       " 0.014890489168465137,\n",
       " 0.25237540900707245,\n",
       " -0.2657839357852936,\n",
       " -0.05708990711718798,\n",
       " 0.10107940435409546,\n",
       " 1.2281973361968994,\n",
       " -0.12151635810732841,\n",
       " 1.1443172097206116,\n",
       " -0.22202908992767334,\n",
       " -0.1271224394440651,\n",
       " -0.15362917631864548,\n",
       " -0.0503014475107193,\n",
       " 0.051765354350209236,\n",
       " 0.11454787850379944,\n",
       " 0.02171101645217277,\n",
       " 1.0741868615150452,\n",
       " -0.04862308129668236,\n",
       " -0.5105421543121338,\n",
       " 1.145187258720398,\n",
       " -0.46143966913223267,\n",
       " 0.3845180571079254,\n",
       " 0.0254752179607749,\n",
       " -0.10690142959356308,\n",
       " -0.16333956271409988,\n",
       " 0.04635695926845074,\n",
       " 0.03109356388449669,\n",
       " -0.026569625362753868,\n",
       " 0.22152364253997803,\n",
       " 0.2256215587258339,\n",
       " -0.24784480035305023,\n",
       " 2.3611977100372314,\n",
       " -0.20926958322525024,\n",
       " 0.26972411572933197,\n",
       " -0.03198747895658016,\n",
       " 0.6849868297576904,\n",
       " 0.2523404210805893,\n",
       " 0.1542666219174862,\n",
       " 1.165568768978119,\n",
       " 0.43573836982250214,\n",
       " -0.16942542791366577,\n",
       " 0.10289335623383522,\n",
       " 0.25193677097558975,\n",
       " 0.0733241755515337,\n",
       " 1.949665367603302,\n",
       " -0.19269047677516937,\n",
       " -0.1974131464958191,\n",
       " 0.30940496921539307,\n",
       " 0.49428027868270874,\n",
       " -0.37775807082653046,\n",
       " 0.2498764842748642,\n",
       " 0.18236254155635834,\n",
       " 0.5611572712659836,\n",
       " 0.2640121430158615,\n",
       " 0.03071153722703457,\n",
       " 0.16064376384019852,\n",
       " 0.14540797472000122,\n",
       " -0.1389963049441576,\n",
       " -0.04025981388986111,\n",
       " 0.05295919440686703,\n",
       " 0.2784124165773392,\n",
       " -0.21629197895526886,\n",
       " -0.2200266532599926,\n",
       " 0.5900465548038483,\n",
       " 0.8491303622722626,\n",
       " 0.19722607731819153,\n",
       " 0.1683690845966339,\n",
       " -0.14746735990047455,\n",
       " -0.2869777977466583,\n",
       " -0.134366936981678,\n",
       " 0.006326230242848396,\n",
       " -0.14828374236822128,\n",
       " 0.3074871301651001,\n",
       " 0.05532453511841595,\n",
       " 0.1717701479792595,\n",
       " 0.8168338239192963,\n",
       " 0.762703537940979,\n",
       " 0.14468545466661453,\n",
       " 0.23128393292427063,\n",
       " -0.3335510492324829,\n",
       " 0.16642207652330399,\n",
       " -0.003967365017160773,\n",
       " 2.951696515083313,\n",
       " -0.26876023411750793,\n",
       " 0.028710171580314636,\n",
       " 0.04945475980639458,\n",
       " -0.020075248554348946,\n",
       " -0.27444233000278473,\n",
       " 0.5052712857723236,\n",
       " 0.8576259613037109,\n",
       " 0.1141953207552433,\n",
       " 0.19294734299182892,\n",
       " 0.02461881935596466,\n",
       " 0.6020734906196594,\n",
       " -0.25520220398902893,\n",
       " -0.07098223082721233,\n",
       " 0.2214866355061531,\n",
       " -0.03502307366579771,\n",
       " -0.16541772335767746,\n",
       " -0.2435605451464653,\n",
       " 2.618403911590576,\n",
       " -0.03596445918083191,\n",
       " 0.32950498163700104,\n",
       " 0.0932132713496685,\n",
       " 0.060747772455215454,\n",
       " -0.3223963975906372,\n",
       " -0.13349095359444618,\n",
       " 0.019235309562645853,\n",
       " 0.11722643673419952,\n",
       " -0.26622074842453003,\n",
       " -0.12963417172431946,\n",
       " -0.007027175917755812,\n",
       " -0.007936555426567793,\n",
       " -0.01795058697462082,\n",
       " 0.09349403530359268,\n",
       " 0.4845269024372101,\n",
       " -0.1522984504699707,\n",
       " -0.0457939300686121,\n",
       " 2.5189993381500244,\n",
       " 0.6094923615455627,\n",
       " 0.30510592460632324,\n",
       " 0.2894391417503357,\n",
       " -0.2842160314321518,\n",
       " -0.015175145119428635,\n",
       " -0.06303799897432327,\n",
       " 0.3465419411659241,\n",
       " -0.10639211907982826,\n",
       " -0.1283024623990059,\n",
       " -0.1481546126306057,\n",
       " -0.21643684059381485,\n",
       " 0.28413471579551697,\n",
       " 0.8233564496040344,\n",
       " 0.16486521065235138,\n",
       " -0.17505613714456558,\n",
       " -0.07288417406380177,\n",
       " -0.1987137869000435,\n",
       " -0.033494980656541884,\n",
       " -0.40721404552459717,\n",
       " -0.2640336751937866,\n",
       " 0.6495205163955688,\n",
       " 1.2575998902320862,\n",
       " -0.0011562369763851166,\n",
       " 2.3987205028533936,\n",
       " -0.118303582072258,\n",
       " 0.09921753779053688,\n",
       " 0.27421483397483826,\n",
       " 0.06603619642555714,\n",
       " -0.07642846927046776,\n",
       " 0.674950122833252,\n",
       " 0.35679206252098083,\n",
       " 0.4949934184551239,\n",
       " -0.36133091151714325,\n",
       " -0.17519735544919968,\n",
       " -0.05993317440152168,\n",
       " 0.20256298780441284,\n",
       " -0.0629722811281681,\n",
       " -0.17330777645111084,\n",
       " -0.02785423118621111,\n",
       " -0.40188318490982056,\n",
       " 0.6124889850616455,\n",
       " -0.11490907147526741,\n",
       " -0.11410704627633095,\n",
       " 0.1884121671319008,\n",
       " 0.15855099260807037,\n",
       " 0.0532856360077858,\n",
       " -0.08692450635135174,\n",
       " 0.5327626466751099,\n",
       " -0.25027935206890106,\n",
       " -0.17519735544919968,\n",
       " -0.18095408380031586,\n",
       " 0.1745472326874733,\n",
       " -0.28728727996349335,\n",
       " 0.5019088238477707,\n",
       " 0.08742114156484604,\n",
       " -0.19453509151935577,\n",
       " 0.03562361281365156,\n",
       " -0.07785139232873917,\n",
       " 0.034122826997190714,\n",
       " -0.11654163897037506,\n",
       " -0.5535333156585693,\n",
       " -0.08537604287266731,\n",
       " 0.5868217945098877,\n",
       " -0.09119324386119843,\n",
       " -0.013216087594628334,\n",
       " -0.02968267723917961,\n",
       " -0.15358510613441467,\n",
       " -0.07559224776923656,\n",
       " 2.942227840423584,\n",
       " 1.0413267314434052,\n",
       " -0.15652620792388916,\n",
       " -0.7515280246734619,\n",
       " -0.0970001108944416,\n",
       " 0.5481676757335663,\n",
       " -0.4069070518016815,\n",
       " 0.08565806970000267,\n",
       " -0.14439092949032784,\n",
       " 0.5479529500007629,\n",
       " -0.10007034987211227,\n",
       " 3.7251230478286743,\n",
       " -0.4663127064704895,\n",
       " -0.31723009049892426,\n",
       " 0.25863775610923767,\n",
       " -0.18978871405124664,\n",
       " -0.10055219754576683,\n",
       " -0.08970677107572556,\n",
       " -0.32006654888391495,\n",
       " -0.3052006810903549,\n",
       " 0.26330772042274475,\n",
       " 0.7963860630989075,\n",
       " -0.03803211450576782,\n",
       " 1.2944018840789795,\n",
       " -0.009421713650226593,\n",
       " 0.13287850469350815,\n",
       " 0.4313494712114334,\n",
       " 0.13265398889780045,\n",
       " 1.2964859008789062,\n",
       " 1.3431182503700256,\n",
       " -0.23530492186546326,\n",
       " 0.7078565657138824,\n",
       " 0.04025842063128948,\n",
       " -0.08152399770915508,\n",
       " -0.2051246613264084,\n",
       " -0.22623978555202484,\n",
       " 0.3249751031398773,\n",
       " -0.059321146458387375,\n",
       " 0.23364296555519104,\n",
       " -0.2162884920835495,\n",
       " 0.23014236986637115,\n",
       " -0.09416532143950462,\n",
       " 0.04285847209393978,\n",
       " 0.3906196355819702,\n",
       " 0.4042299836874008,\n",
       " -0.025001143105328083,\n",
       " 0.6300867795944214,\n",
       " -0.21875232458114624,\n",
       " 0.15344706922769547,\n",
       " 0.3369056284427643,\n",
       " -0.5153796076774597,\n",
       " 1.3836275935173035,\n",
       " -0.26667414605617523,\n",
       " 0.1172780990600586,\n",
       " 0.0005402890965342522,\n",
       " 0.3736279755830765,\n",
       " -0.022725570015609264,\n",
       " 0.16759200021624565,\n",
       " 0.08393630385398865,\n",
       " 2.568241596221924,\n",
       " 0.10731823742389679,\n",
       " 0.01876428397372365,\n",
       " -0.056537382304668427,\n",
       " -0.7551957368850708,\n",
       " 0.11381988227367401,\n",
       " -0.27867867797613144,\n",
       " 0.16808167472481728,\n",
       " -0.22684533149003983,\n",
       " 0.037187471985816956,\n",
       " 0.054701581597328186,\n",
       " -0.3756994903087616,\n",
       " -0.006968306377530098,\n",
       " -0.004175383131951094,\n",
       " 0.025842176750302315,\n",
       " -0.04674818366765976,\n",
       " -0.14720894396305084,\n",
       " -0.23615337163209915,\n",
       " -0.5448502004146576,\n",
       " -0.0158492480404675,\n",
       " 1.217702329158783,\n",
       " 0.24979402124881744,\n",
       " -0.5243754386901855,\n",
       " -0.14484114944934845,\n",
       " 0.021869606338441372,\n",
       " -0.11521520093083382,\n",
       " 0.23537324368953705,\n",
       " 0.15967689454555511,\n",
       " -0.0345474798232317,\n",
       " 0.315925195813179,\n",
       " 0.20906850695610046,\n",
       " -0.133259154856205,\n",
       " 0.06845276243984699,\n",
       " 0.08692450635135174,\n",
       " 0.5515891015529633,\n",
       " 1.2969477772712708,\n",
       " 3.436935782432556,\n",
       " 0.25220787525177,\n",
       " 0.01484900078503415,\n",
       " 0.16513171792030334,\n",
       " -1.2676458954811096,\n",
       " -0.48776714503765106,\n",
       " 0.01806903211399913,\n",
       " 0.11916100233793259,\n",
       " 0.37498605251312256,\n",
       " 0.6028588116168976,\n",
       " 0.06470401957631111,\n",
       " 1.9098803400993347,\n",
       " 0.007340691983699799,\n",
       " 2.739237904548645,\n",
       " 0.2332427203655243,\n",
       " 0.6675066649913788,\n",
       " -0.1452762931585312,\n",
       " 0.00713806226849556,\n",
       " 0.4638655483722687,\n",
       " 0.5213701128959656,\n",
       " 0.4562678784132004,\n",
       " 0.06170070730149746,\n",
       " -0.20293166488409042,\n",
       " -0.1578379049897194,\n",
       " 2.1780439615249634,\n",
       " 0.20532776415348053,\n",
       " 0.15611755847930908,\n",
       " -0.17059671133756638,\n",
       " 0.2320292368531227,\n",
       " -0.04250597767531872,\n",
       " 0.1972544565796852,\n",
       " 0.022215249948203564,\n",
       " 0.1303302887827158,\n",
       " 0.7768119871616364,\n",
       " -0.15305455774068832,\n",
       " -0.05330323241651058,\n",
       " 0.6800218820571899,\n",
       " 0.4377019554376602,\n",
       " 0.6682551503181458,\n",
       " 0.02294266503304243,\n",
       " -0.004550374113023281,\n",
       " 0.13218429684638977,\n",
       " -0.03682603873312473,\n",
       " 0.5011391043663025,\n",
       " -0.05500726215541363,\n",
       " -0.16667795926332474,\n",
       " -0.285199835896492,\n",
       " 0.6153289377689362,\n",
       " 2.010174572467804,\n",
       " 0.01469746744260192,\n",
       " -0.40809984505176544,\n",
       " -0.19873633235692978,\n",
       " 0.007176854647696018,\n",
       " -0.37991954386234283,\n",
       " 0.04401848278939724,\n",
       " 0.15083259344100952,\n",
       " -0.047661711229011416,\n",
       " 0.10271333903074265,\n",
       " 0.41981372237205505,\n",
       " 0.10454792529344559,\n",
       " 0.03202857356518507,\n",
       " 0.04859791323542595,\n",
       " 0.048873987048864365,\n",
       " 0.19344813376665115,\n",
       " 0.11374874413013458,\n",
       " 0.35744673013687134,\n",
       " -0.15129264071583748,\n",
       " 0.12553847581148148,\n",
       " -0.5555398762226105,\n",
       " -0.24818693101406097,\n",
       " 1.238534688949585,\n",
       " 0.21359571814537048,\n",
       " -0.05695772357285023,\n",
       " -0.015371497720479965,\n",
       " 3.3268626928329468,\n",
       " 0.40167489647865295,\n",
       " 0.38827744126319885,\n",
       " -0.21301346272230148,\n",
       " -0.06153685785830021,\n",
       " 0.47579964995384216,\n",
       " -0.18304260820150375,\n",
       " 0.04194182623177767,\n",
       " 0.03321949625387788,\n",
       " -0.019588783849030733,\n",
       " 0.11640104651451111,\n",
       " -0.006908275419846177,\n",
       " 0.0709613710641861,\n",
       " 0.11875871568918228,\n",
       " 0.3560214936733246,\n",
       " -0.20822254568338394,\n",
       " 0.17322751134634018,\n",
       " -0.108831487596035,\n",
       " -0.32840417325496674,\n",
       " 0.17345589399337769,\n",
       " 0.08989117480814457,\n",
       " 0.014871294843032956,\n",
       " -0.3255888521671295,\n",
       " 0.26389230042696,\n",
       " 0.31617775559425354,\n",
       " 0.016142255073646083,\n",
       " 0.021340145962312818,\n",
       " -0.2802409157156944,\n",
       " 0.05015641963109374,\n",
       " -0.1226743757724762,\n",
       " 0.3638680577278137,\n",
       " 0.24840116500854492,\n",
       " -0.09679394587874413,\n",
       " 0.28524424135684967,\n",
       " -0.19406386464834213,\n",
       " -0.18130214512348175,\n",
       " 0.7309271395206451,\n",
       " 0.46298831701278687,\n",
       " -0.18227235972881317,\n",
       " 0.26048459857702255,\n",
       " 3.0380208492279053,\n",
       " -0.31112031638622284,\n",
       " 0.22070781886577606,\n",
       " 1.9262807965278625,\n",
       " 0.07801390439271927,\n",
       " -0.09994712844491005,\n",
       " 0.21543385088443756,\n",
       " -0.07773511298000813,\n",
       " -0.15929973125457764,\n",
       " 0.5643328130245209,\n",
       " 0.17881861329078674,\n",
       " 0.4595707803964615,\n",
       " 0.7411398887634277,\n",
       " -0.18015484511852264,\n",
       " -0.0151020847260952,\n",
       " -0.3703204542398453,\n",
       " 0.25989291071891785,\n",
       " -0.10063588991761208,\n",
       " 1.379056990146637,\n",
       " -0.1708228886127472,\n",
       " -0.3468058407306671,\n",
       " -0.23062773048877716,\n",
       " -0.08587145805358887,\n",
       " 2.067691683769226,\n",
       " 0.013431747909635305,\n",
       " -0.0587257444858551,\n",
       " -0.039225056767463684,\n",
       " -0.004874581471085548,\n",
       " -0.0022373865358531475,\n",
       " 0.15429852902889252,\n",
       " -0.0070578306913375854,\n",
       " 0.415437787771225,\n",
       " -0.32182829082012177,\n",
       " 0.6906455457210541,\n",
       " 0.04833369189873338,\n",
       " 0.2086634784936905,\n",
       " 1.7398360967636108,\n",
       " 0.09388276375830173,\n",
       " 0.2467951774597168,\n",
       " 1.6548894047737122,\n",
       " 0.7007054090499878,\n",
       " 0.33702243864536285,\n",
       " -0.2931116074323654,\n",
       " -0.16752459853887558,\n",
       " -0.01186370337381959,\n",
       " -0.1173153854906559,\n",
       " 0.16518265381455421,\n",
       " 0.31758610904216766,\n",
       " 0.347433403134346,\n",
       " 0.5047766268253326,\n",
       " 0.5597781538963318,\n",
       " 0.03268032148480415,\n",
       " -0.05935157835483551,\n",
       " 0.3663329631090164,\n",
       " 0.280873566865921,\n",
       " 0.1871066316962242,\n",
       " -0.2731551378965378,\n",
       " 0.30609190464019775,\n",
       " 0.2596671134233475,\n",
       " 0.8742670714855194,\n",
       " -0.1910705640912056,\n",
       " 0.030896104872226715,\n",
       " -0.42723286151885986,\n",
       " -0.5221565365791321,\n",
       " -0.12499778345227242,\n",
       " 0.31115594506263733,\n",
       " -0.2806151956319809,\n",
       " -0.19326060265302658,\n",
       " -0.08753696829080582,\n",
       " -0.27152903378009796,\n",
       " 0.023965167813003063,\n",
       " -0.013773156912066042,\n",
       " 0.1463000476360321,\n",
       " 0.6090086996555328,\n",
       " -0.6354478299617767,\n",
       " 0.22679132223129272,\n",
       " -0.0018783528357744217,\n",
       " 2.273266911506653,\n",
       " -0.38452212512493134,\n",
       " 0.12365871295332909,\n",
       " -0.01876428397372365,\n",
       " 0.2300180196762085,\n",
       " 0.0368727408349514,\n",
       " 0.7069000005722046,\n",
       " 0.5852944254875183,\n",
       " 0.15444320067763329,\n",
       " 0.021314498037099838,\n",
       " 0.009281241800636053,\n",
       " -0.15573439747095108,\n",
       " -0.024075112771242857,\n",
       " -0.15926633775234222,\n",
       " 0.07008261606097221,\n",
       " 1.6537378430366516,\n",
       " -0.028944524005055428,\n",
       " -0.22870440781116486,\n",
       " -0.04586232305155136,\n",
       " -0.13555743172764778,\n",
       " -0.2750640884041786,\n",
       " -0.06491714715957642,\n",
       " -0.3401095122098923,\n",
       " 0.25685521960258484,\n",
       " -0.29524944722652435,\n",
       " 0.06963613023981452,\n",
       " 0.03822338581085205,\n",
       " -0.08979146741330624,\n",
       " 0.46822723746299744,\n",
       " 0.161001555621624,\n",
       " -0.21169595420360565,\n",
       " -0.03042936557903886,\n",
       " 1.3337020874023438,\n",
       " -0.6667762100696564,\n",
       " 0.5184485912322998,\n",
       " 0.43765871226787567,\n",
       " 0.3055211156606674,\n",
       " 0.07705764658749104,\n",
       " 0.04428163915872574,\n",
       " 0.049094763409812,\n",
       " 0.09489035606384277,\n",
       " -0.1940653771162033,\n",
       " -0.25161004811525345,\n",
       " 0.08378170244395733,\n",
       " -0.23654474318027496,\n",
       " 0.09086628258228302,\n",
       " 0.13980501517653465,\n",
       " 0.005241461098194122,\n",
       " -0.31044523417949677,\n",
       " 0.7791993319988251,\n",
       " 0.3016435354948044,\n",
       " -0.08186015486717224,\n",
       " 0.18819860368967056,\n",
       " 0.01005623396486044,\n",
       " -0.07313850149512291,\n",
       " -0.12114289402961731,\n",
       " 0.05520144384354353,\n",
       " 1.1786063313484192,\n",
       " 0.32698218524456024,\n",
       " -0.04581844876520336,\n",
       " 0.26972411572933197,\n",
       " -0.079000324010849,\n",
       " -0.2930752784013748,\n",
       " -0.1545019969344139,\n",
       " 0.2502380535006523,\n",
       " -0.07753659598529339,\n",
       " 0.2012905478477478,\n",
       " 0.5884957313537598,\n",
       " -0.20360223948955536,\n",
       " 0.5558269321918488,\n",
       " 0.3857758343219757,\n",
       " 1.6771867275238037,\n",
       " 0.3700319081544876,\n",
       " 0.038366655353456736,\n",
       " 0.009327951353043318,\n",
       " 0.06645818427205086,\n",
       " 0.3178396075963974,\n",
       " 0.46948952972888947,\n",
       " 0.14916536211967468,\n",
       " 0.537101075053215,\n",
       " 0.26036155223846436,\n",
       " 0.20605900138616562,\n",
       " -0.14286653324961662,\n",
       " 0.01572680997196585,\n",
       " -0.05734017863869667,\n",
       " 0.17952199280261993,\n",
       " 0.525990903377533,\n",
       " -0.03392048925161362,\n",
       " 2.501665472984314,\n",
       " 0.07788923010230064,\n",
       " 0.009595648210961372,\n",
       " 0.39243747293949127,\n",
       " 0.008597410982474685,\n",
       " 0.3960229605436325,\n",
       " 0.02982880244962871,\n",
       " 0.23248474299907684,\n",
       " -0.12151635810732841,\n",
       " 0.13444803282618523,\n",
       " 1.0246540307998657,\n",
       " 0.46027009189128876,\n",
       " 0.09299276396632195,\n",
       " 0.5616873502731323,\n",
       " 0.6661697328090668,\n",
       " 1.806248664855957,\n",
       " -0.19161295145750046,\n",
       " -0.009083349257707596,\n",
       " -0.2920396029949188,\n",
       " 0.38647787272930145,\n",
       " 0.2865440249443054,\n",
       " 0.09255162999033928,\n",
       " 0.7176131010055542,\n",
       " -0.005355522036552429,\n",
       " -0.1377931535243988,\n",
       " 0.2055121585726738,\n",
       " 0.4116428345441818,\n",
       " -0.34658756852149963,\n",
       " -0.03388652112334967,\n",
       " -0.045210493728518486,\n",
       " 0.19047857820987701,\n",
       " 0.014468659064732492,\n",
       " -0.21031297743320465,\n",
       " -0.07653466612100601,\n",
       " 1.105937898159027,\n",
       " -0.05044840648770332,\n",
       " 0.9878914952278137,\n",
       " -0.06548462808132172,\n",
       " -0.34130464494228363,\n",
       " 0.2274709790945053,\n",
       " 0.9572895169258118,\n",
       " 0.13931061327457428,\n",
       " -0.16337165981531143,\n",
       " -0.34417033195495605,\n",
       " 0.04821977950632572,\n",
       " 0.09258830174803734,\n",
       " 0.7826090753078461,\n",
       " 0.03754098154604435,\n",
       " 0.8446158766746521,\n",
       " -0.27078594267368317,\n",
       " 0.20348411053419113,\n",
       " 0.08044032193720341,\n",
       " 0.17042456939816475,\n",
       " 0.08253643475472927,\n",
       " 0.16541772335767746,\n",
       " 0.22552403062582016,\n",
       " -0.016537794843316078,\n",
       " 0.1383633241057396,\n",
       " 1.7383296489715576,\n",
       " -0.11877570301294327,\n",
       " 0.247787706553936,\n",
       " -0.3846876621246338,\n",
       " 0.02941451035439968,\n",
       " 0.7205667495727539,\n",
       " -0.019893869291990995,\n",
       " 0.5156974792480469,\n",
       " -0.14167677611112595,\n",
       " -0.10768460482358932,\n",
       " -0.3617821931838989,\n",
       " -0.37364383041858673,\n",
       " -0.01385161280632019,\n",
       " 0.2617601379752159,\n",
       " 0.9032808542251587,\n",
       " 0.09114766120910645,\n",
       " 0.0070579752791672945,\n",
       " 0.8924404084682465,\n",
       " -0.1908579170703888,\n",
       " 0.3295199126005173,\n",
       " 0.009430117905139923,\n",
       " -0.0885518342256546,\n",
       " 0.3412552624940872,\n",
       " 0.025026827701367438,\n",
       " 0.24927710741758347,\n",
       " -0.18137642741203308,\n",
       " -0.1787353791296482,\n",
       " -0.24801603704690933,\n",
       " -0.06648469716310501,\n",
       " -0.08227913454174995,\n",
       " 0.9196120798587799,\n",
       " 0.45456385612487793,\n",
       " -0.11459514871239662,\n",
       " 0.32149089872837067,\n",
       " 0.5965133905410767,\n",
       " -0.0583301642909646,\n",
       " 0.07512614130973816,\n",
       " 0.36736151576042175,\n",
       " -0.2962563782930374,\n",
       " 0.040437834337353706,\n",
       " -0.09612149000167847,\n",
       " -0.017568575218319893,\n",
       " -0.4641435295343399,\n",
       " -0.011304599000141025,\n",
       " 0.2855614721775055,\n",
       " -0.05044771661050618,\n",
       " 0.05334815243259072,\n",
       " 0.13919202983379364,\n",
       " 0.8465636074542999,\n",
       " -0.17602383345365524,\n",
       " -0.30134327709674835,\n",
       " 1.0714256763458252,\n",
       " 0.9451509714126587,\n",
       " 0.18572768568992615,\n",
       " 0.5540943890810013,\n",
       " -0.2070435807108879,\n",
       " -0.23640406876802444,\n",
       " 0.08839758113026619,\n",
       " 0.12516144290566444,\n",
       " -0.42015695571899414,\n",
       " -0.46027009189128876,\n",
       " -0.07627370394766331,\n",
       " -0.34349897503852844,\n",
       " 0.5213001370429993,\n",
       " 1.4158995747566223,\n",
       " 0.34768426418304443,\n",
       " -0.11703633517026901,\n",
       " -0.03334500826895237,\n",
       " 0.5198436677455902,\n",
       " -0.035122503992170095,\n",
       " 0.055135805159807205,\n",
       " -0.09158110991120338,\n",
       " 0.019628769950941205,\n",
       " -0.024898865493014455,\n",
       " -0.05445569567382336,\n",
       " -0.15549678355455399,\n",
       " 0.17612991482019424,\n",
       " -0.2980436533689499,\n",
       " 3.2861242294311523,\n",
       " -0.09820742532610893,\n",
       " -0.07301286980509758,\n",
       " -0.35263411700725555,\n",
       " 0.7870966196060181,\n",
       " -0.3257417231798172,\n",
       " -0.5379248559474945,\n",
       " 0.05216582119464874,\n",
       " 0.05704283528029919,\n",
       " 0.017545894894283265,\n",
       " -0.19790510833263397,\n",
       " 0.0012919865548610687,\n",
       " 0.22516550868749619,\n",
       " -0.06314773112535477,\n",
       " 0.1768239364027977,\n",
       " 0.005263432860374451,\n",
       " -0.17974087595939636,\n",
       " -0.264872670173645,\n",
       " 0.5091264247894287,\n",
       " -0.36104096472263336,\n",
       " 0.05524048022925854,\n",
       " -0.12343628332018852,\n",
       " 0.07681112736463547,\n",
       " 0.0715006273239851,\n",
       " -0.0865205421578139,\n",
       " 0.7784590721130371,\n",
       " 0.7717916667461395,\n",
       " 0.004351711831986904,\n",
       " 0.2613818347454071,\n",
       " -0.004023262299597263,\n",
       " 0.24231170117855072,\n",
       " -0.00017265230417251587,\n",
       " 1.166234314441681,\n",
       " 0.05825551971793175,\n",
       " 0.012116694648284465,\n",
       " -0.06338134221732616,\n",
       " -0.03642608970403671,\n",
       " -0.015702333766967058,\n",
       " -0.07082558795809746,\n",
       " 0.30324946343898773,\n",
       " 0.12461510673165321,\n",
       " 0.23124918341636658,\n",
       " 0.40053558349609375,\n",
       " 0.779446542263031,\n",
       " -0.10066861659288406,\n",
       " -0.533834770321846,\n",
       " 0.22589430958032608,\n",
       " 2.3834195137023926,\n",
       " -0.05579237872734666,\n",
       " -0.3237065076828003,\n",
       " 0.07673433609306812,\n",
       " 2.237357497215271,\n",
       " 0.15296947956085205,\n",
       " 2.2959563732147217,\n",
       " 0.029318002052605152,\n",
       " 0.2752702385187149,\n",
       " -0.20120033621788025,\n",
       " -0.01920700795017183,\n",
       " -0.026162463705986738,\n",
       " 2.1424741744995117,\n",
       " -0.047017402946949005,\n",
       " 0.03345790132880211,\n",
       " -0.06124866160098463,\n",
       " 0.8760963380336761,\n",
       " 0.029267809353768826,\n",
       " 0.06699259579181671,\n",
       " 0.03932998236268759,\n",
       " -0.19972696155309677,\n",
       " 2.0616899728775024,\n",
       " 0.028685883851721883,\n",
       " 0.07107577007263899,\n",
       " 0.12203642353415489,\n",
       " -0.14229953289031982,\n",
       " 0.058028372935950756,\n",
       " 0.3058575838804245,\n",
       " 0.1093948557972908,\n",
       " -0.10001608729362488,\n",
       " 1.1123504042625427,\n",
       " 0.32744549214839935,\n",
       " -0.10838869959115982,\n",
       " 0.03796090791001916,\n",
       " -0.15904072672128677,\n",
       " -0.05445569567382336,\n",
       " 1.1785553693771362,\n",
       " -0.008343425579369068,\n",
       " -0.2295284867286682,\n",
       " -0.17151350528001785,\n",
       " 0.2879564166069031,\n",
       " 0.06496187672019005,\n",
       " -0.2784124165773392,\n",
       " 0.10116354934871197,\n",
       " -0.046043988317251205,\n",
       " -0.25614799559116364,\n",
       " -0.06431579682976007,\n",
       " 0.614707738161087,\n",
       " -0.2420804724097252,\n",
       " -0.25164857506752014,\n",
       " 0.33291663229465485,\n",
       " -0.3837983310222626,\n",
       " 0.09300111792981625,\n",
       " -0.1992855668067932,\n",
       " 0.058401317335665226,\n",
       " 0.009576681535691023,\n",
       " 0.36460015177726746,\n",
       " 0.7728762626647949,\n",
       " -0.01717715826816857,\n",
       " -0.265726774930954,\n",
       " -0.09857205674052238,\n",
       " 0.34123942255973816,\n",
       " 0.09931301325559616,\n",
       " -0.2667149603366852,\n",
       " 0.01555245858617127,\n",
       " 0.5461280643939972,\n",
       " 2.8199926614761353,\n",
       " 1.3588963747024536,\n",
       " -0.1835653856396675,\n",
       " 0.16146349161863327,\n",
       " 0.39259782433509827,\n",
       " 1.7354347109794617,\n",
       " -0.10595475509762764,\n",
       " 0.07255242322571576,\n",
       " 0.31989622116088867,\n",
       " -1.5980900526046753,\n",
       " -0.09625126421451569,\n",
       " 0.04933071415871382,\n",
       " -0.1173153854906559,\n",
       " 0.08200288843363523,\n",
       " 1.2656216025352478,\n",
       " -0.13153988867998123,\n",
       " 0.08232676610350609,\n",
       " -0.21026168018579483,\n",
       " -0.32850179076194763,\n",
       " 0.4614049345254898,\n",
       " ...]"
      ]
     },
     "execution_count": 24,
     "metadata": {},
     "output_type": "execute_result"
    }
   ],
   "source": [
    "avg_results"
   ]
  },
  {
   "cell_type": "code",
   "execution_count": 29,
   "id": "273bec58-58af-44b0-bcc7-202104fc3123",
   "metadata": {},
   "outputs": [],
   "source": [
    "transformers = load_transformers()"
   ]
  },
  {
   "cell_type": "code",
   "execution_count": 35,
   "id": "6999f822-d21a-4847-bd1e-d05fae98389b",
   "metadata": {},
   "outputs": [],
   "source": [
    "points_preds = transformers[1].untransform(preds)\n",
    "points_real = transformers[1].untransform(ds.y)"
   ]
  },
  {
   "cell_type": "code",
   "execution_count": 36,
   "id": "b2d152bc-9691-4b94-ba92-407b6dd5d176",
   "metadata": {},
   "outputs": [
    {
     "data": {
      "text/plain": [
       "<matplotlib.collections.PathCollection at 0x7fbd61847fd0>"
      ]
     },
     "execution_count": 36,
     "metadata": {},
     "output_type": "execute_result"
    },
    {
     "data": {
      "image/png": "[encoded data removed]",
      "text/plain": [
       "<Figure size 432x288 with 1 Axes>"
      ]
     },
     "metadata": {
      "needs_background": "light"
     },
     "output_type": "display_data"
    }
   ],
   "source": [
    "plt.scatter(points_real, points_preds)"
   ]
  },
  {
   "cell_type": "code",
   "execution_count": 37,
   "id": "546a76e7-0d19-4dcc-b190-0276bd167b29",
   "metadata": {},
   "outputs": [
    {
     "data": {
      "text/plain": [
       "(array([3.000e+00, 1.200e+01, 9.900e+01, 5.560e+02, 6.509e+03, 6.509e+03,\n",
       "        5.560e+02, 9.900e+01, 1.200e+01, 3.000e+00]),\n",
       " array([-56.03744254, -42.43369829, -28.82995403, -15.22620978,\n",
       "         -1.62246552,  11.98127873,  25.58502298,  39.18876724,\n",
       "         52.79251149,  66.39625575,  80.        ]),\n",
       " <BarContainer object of 10 artists>)"
      ]
     },
     "execution_count": 37,
     "metadata": {},
     "output_type": "execute_result"
    },
    {
     "data": {
      "image/png": "[encoded data removed]",
      "text/plain": [
       "<Figure size 432x288 with 1 Axes>"
      ]
     },
     "metadata": {
      "needs_background": "light"
     },
     "output_type": "display_data"
    }
   ],
   "source": [
    "plt.hist(points_real)"
   ]
  },
  {
   "cell_type": "code",
   "execution_count": 39,
   "id": "fcb4824b-2808-4854-a5fb-9155d96f32c6",
   "metadata": {},
   "outputs": [
    {
     "data": {
      "text/plain": [
       "array([11.98127873])"
      ]
     },
     "execution_count": 39,
     "metadata": {},
     "output_type": "execute_result"
    }
   ],
   "source": [
    "transformers[1].y_means"
   ]
  },
  {
   "cell_type": "code",
   "execution_count": 40,
   "id": "14508b7d-90b5-4113-93b6-92a00ba0b5bd",
   "metadata": {},
   "outputs": [],
   "source": [
    "ds = DiskDataset('datasets/combined')"
   ]
  },
  {
   "cell_type": "code",
   "execution_count": 92,
   "id": "a22f7722-2642-4e00-b563-c19c4620f30a",
   "metadata": {},
   "outputs": [],
   "source": [
    "X = ds.X\n",
    "n_features = X.shape[1] // 2\n",
    "t1 = X[:, :n_features]\n",
    "\n",
    "win_loss_x = np.concatenate([t1, t1], axis=1)\n",
    "win_loss_x = np.concatenate([win_loss_x, win_loss_x], axis=0)\n",
    "win_loss_y = np.concatenate([ds.y, ds.y * -1], axis=0)\n",
    "win_loss_ds = NumpyDataset(win_loss_x, win_loss_y)"
   ]
  },
  {
   "cell_type": "code",
   "execution_count": 93,
   "id": "621b81e6-741a-434a-b2be-9dd33cd49a10",
   "metadata": {},
   "outputs": [
    {
     "data": {
      "text/plain": [
       "(array([2.0000e+00, 3.8000e+01, 6.4700e+02, 6.4160e+03, 2.8792e+04,\n",
       "        2.8792e+04, 6.4160e+03, 6.4700e+02, 3.8000e+01, 2.0000e+00]),\n",
       " array([-94. , -75.2, -56.4, -37.6, -18.8,   0. ,  18.8,  37.6,  56.4,\n",
       "         75.2,  94. ]),\n",
       " <BarContainer object of 10 artists>)"
      ]
     },
     "execution_count": 93,
     "metadata": {},
     "output_type": "execute_result"
    },
    {
     "data": {
      "image/png": "[encoded data removed]",
      "text/plain": [
       "<Figure size 432x288 with 1 Axes>"
      ]
     },
     "metadata": {
      "needs_background": "light"
     },
     "output_type": "display_data"
    }
   ],
   "source": [
    "plt.hist(win_loss_ds.y)"
   ]
  },
  {
   "cell_type": "code",
   "execution_count": 94,
   "id": "017910d1-a142-43cf-9bfe-367cf287702c",
   "metadata": {},
   "outputs": [],
   "source": [
    "from ligand_ml.trans.transformers import NormalizationTransformer\n",
    "transformers1 = [\n",
    "        NormalizationTransformer(transform_X=True, dataset=win_loss_ds),\n",
    "        NormalizationTransformer(transform_y=True, dataset=win_loss_ds)\n",
    "]"
   ]
  },
  {
   "cell_type": "code",
   "execution_count": 97,
   "id": "cb37b4f0-51d0-47c6-a2c7-2117fa5a7804",
   "metadata": {},
   "outputs": [
    {
     "data": {
      "text/plain": [
       "array([-1.81722991e-14])"
      ]
     },
     "execution_count": 97,
     "metadata": {},
     "output_type": "execute_result"
    }
   ],
   "source": [
    "transformers = load_transformers()\n",
    "transformers[1].y_means"
   ]
  },
  {
   "cell_type": "code",
   "execution_count": 95,
   "id": "9f04d529-84b6-4c30-a639-0c441c60cff4",
   "metadata": {},
   "outputs": [
    {
     "data": {
      "text/plain": [
       "array([-1.81722991e-14])"
      ]
     },
     "execution_count": 95,
     "metadata": {},
     "output_type": "execute_result"
    }
   ],
   "source": [
    "NormalizationTransformer(transform_y=True, dataset=win_loss_ds).y_means"
   ]
  },
  {
   "cell_type": "code",
   "execution_count": 96,
   "id": "3a566669-eeea-41a2-8e8c-98342228833c",
   "metadata": {},
   "outputs": [
    {
     "data": {
      "text/plain": [
       "array([15.12959295])"
      ]
     },
     "execution_count": 96,
     "metadata": {},
     "output_type": "execute_result"
    }
   ],
   "source": [
    "NormalizationTransformer(transform_y=True, dataset=win_loss_ds).y_stds"
   ]
  },
  {
   "cell_type": "code",
   "execution_count": 91,
   "id": "32f6f587-2cbd-4dca-addc-b5dfab5c0ff6",
   "metadata": {},
   "outputs": [
    {
     "data": {
      "text/plain": [
       "(35895, 71790, 71790)"
      ]
     },
     "execution_count": 91,
     "metadata": {},
     "output_type": "execute_result"
    }
   ],
   "source": [
    "len(ds), len(win_loss_ds), len(ds) * 2"
   ]
  },
  {
   "cell_type": "code",
   "execution_count": 87,
   "id": "5fc153d5-fe8e-4993-b1dc-3c1492405ff8",
   "metadata": {},
   "outputs": [
    {
     "data": {
      "text/plain": [
       "(array([11.98127873]), array([9.23869811]))"
      ]
     },
     "execution_count": 87,
     "metadata": {},
     "output_type": "execute_result"
    }
   ],
   "source": [
    "win_loss_ds.get_statistics(y_stats=True, X_stats=False)"
   ]
  },
  {
   "cell_type": "code",
   "execution_count": 81,
   "id": "62065324-8de2-443b-8d5c-45b57b501f49",
   "metadata": {},
   "outputs": [
    {
     "data": {
      "text/plain": [
       "(array([1.06252417e+02, 1.01758420e+02, 6.79024600e+01, 1.73907257e+01,\n",
       "        1.74676557e+01, 5.09529210e+01, 4.95457780e+01, 1.82161861e+01,\n",
       "        1.86578326e+01, 2.90843460e+01, 2.81916228e+01, 3.36541134e+01,\n",
       "        3.28745480e+01, 3.28745480e+01, 3.38225602e+01, 3.38225602e+01,\n",
       "        4.88604207e+01, 4.88604207e+01, 7.07636607e+01, 7.07636607e+01,\n",
       "        9.45863212e+00, 9.45863212e+00, 9.04073269e+00, 9.04073269e+00,\n",
       "        3.71597409e+01, 3.71597409e+01, 5.12231146e+01, 5.12231146e+01,\n",
       "        3.08068700e+01, 3.08474969e+01, 5.01928402e+01, 5.02153058e+01,\n",
       "        1.90002117e+01, 1.89362780e+01, 1.04491453e+02, 1.03346304e+02,\n",
       "        1.64224655e+00, 7.69500404e+01, 2.01892250e+03, 1.06252417e+02,\n",
       "        1.01758420e+02, 6.79024600e+01, 1.73907257e+01, 1.74676557e+01,\n",
       "        5.09529210e+01, 4.95457780e+01, 1.82161861e+01, 1.86578326e+01,\n",
       "        2.90843460e+01, 2.81916228e+01, 3.36541134e+01, 3.28745480e+01,\n",
       "        3.28745480e+01, 3.38225602e+01, 3.38225602e+01, 4.88604207e+01,\n",
       "        4.88604207e+01, 7.07636607e+01, 7.07636607e+01, 9.45863212e+00,\n",
       "        9.45863212e+00, 9.04073269e+00, 9.04073269e+00, 3.71597409e+01,\n",
       "        3.71597409e+01, 5.12231146e+01, 5.12231146e+01, 3.08068700e+01,\n",
       "        3.08474969e+01, 5.01928402e+01, 5.02153058e+01, 1.90002117e+01,\n",
       "        1.89362780e+01, 1.04491453e+02, 1.03346304e+02, 1.64224655e+00,\n",
       "        7.69500404e+01, 2.01892250e+03]),\n",
       " array([7.03573726, 6.30770676, 2.70547423, 1.18067745, 0.60393584,\n",
       "        2.9378911 , 2.66483541, 1.94484941, 2.2291024 , 4.14288473,\n",
       "        2.96660059, 4.94055886, 5.87740588, 5.87740588, 2.34397766,\n",
       "        2.34397766, 3.1052394 , 3.1052394 , 2.45224408, 2.45224408,\n",
       "        2.67592228, 2.67592228, 1.61473862, 1.61473862, 4.02655059,\n",
       "        4.02655059, 5.12201548, 5.12201548, 4.90299869, 3.75029052,\n",
       "        4.27659604, 3.76382792, 2.47725386, 2.76470571, 3.552496  ,\n",
       "        3.49587745, 0.48988464, 0.90296346, 1.99296984, 7.03573726,\n",
       "        6.30770676, 2.70547423, 1.18067745, 0.60393584, 2.9378911 ,\n",
       "        2.66483541, 1.94484941, 2.2291024 , 4.14288473, 2.96660059,\n",
       "        4.94055886, 5.87740588, 5.87740588, 2.34397766, 2.34397766,\n",
       "        3.1052394 , 3.1052394 , 2.45224408, 2.45224408, 2.67592228,\n",
       "        2.67592228, 1.61473862, 1.61473862, 4.02655059, 4.02655059,\n",
       "        5.12201548, 5.12201548, 4.90299869, 3.75029052, 4.27659604,\n",
       "        3.76382792, 2.47725386, 2.76470571, 3.552496  , 3.49587745,\n",
       "        0.48988464, 0.90296346, 1.99296984]),\n",
       " array([11.98127873]),\n",
       " array([9.23869811]))"
      ]
     },
     "execution_count": 81,
     "metadata": {},
     "output_type": "execute_result"
    }
   ],
   "source": [
    "win_loss_ds.get_statistics()"
   ]
  },
  {
   "cell_type": "code",
   "execution_count": 50,
   "id": "cc75c09b-29c6-4a2c-a355-5961d329e3c3",
   "metadata": {},
   "outputs": [],
   "source": [
    "t_ds = transformers[1].transform(win_loss_ds)"
   ]
  },
  {
   "cell_type": "code",
   "execution_count": 51,
   "id": "d3200b6e-9e4b-4d5b-8a85-bfb63aad7afc",
   "metadata": {},
   "outputs": [
    {
     "data": {
      "text/plain": [
       "(array([2.0000e+00, 3.8000e+01, 6.4700e+02, 6.4160e+03, 2.8792e+04,\n",
       "        2.8792e+04, 6.4160e+03, 6.4700e+02, 3.8000e+01, 2.0000e+00]),\n",
       " array([-11.47145165,  -9.4365329 ,  -7.40161416,  -5.36669541,\n",
       "         -3.33177666,  -1.29685791,   0.73806084,   2.77297959,\n",
       "          4.80789833,   6.84281708,   8.87773583]),\n",
       " <BarContainer object of 10 artists>)"
      ]
     },
     "execution_count": 51,
     "metadata": {},
     "output_type": "execute_result"
    },
    {
     "data": {
      "image/png": "[encoded data removed]",
      "text/plain": [
       "<Figure size 432x288 with 1 Axes>"
      ]
     },
     "metadata": {
      "needs_background": "light"
     },
     "output_type": "display_data"
    }
   ],
   "source": [
    "plt.hist(t_ds.y)"
   ]
  },
  {
   "cell_type": "code",
   "execution_count": 54,
   "id": "00a4776f-4dcf-49dd-9b4f-cdd8769ad756",
   "metadata": {},
   "outputs": [
    {
     "data": {
      "text/plain": [
       "(71790, 1)"
      ]
     },
     "execution_count": 54,
     "metadata": {},
     "output_type": "execute_result"
    }
   ],
   "source": [
    "win_loss_ds.y.shape"
   ]
  },
  {
   "cell_type": "code",
   "execution_count": 56,
   "id": "d427026a-a5f4-47da-a699-2b513455a50b",
   "metadata": {},
   "outputs": [
    {
     "data": {
      "text/plain": [
       "(array([11.98127873]), array([9.23869811]))"
      ]
     },
     "execution_count": 56,
     "metadata": {},
     "output_type": "execute_result"
    }
   ],
   "source": [
    "win_loss_ds.get_statistics(X_stats=False, y_stats=True)"
   ]
  },
  {
   "cell_type": "code",
   "execution_count": 71,
   "id": "19a1b11d-38a0-4a73-85f3-b13d6b0f1f5c",
   "metadata": {},
   "outputs": [
    {
     "data": {
      "text/plain": [
       "0.0"
      ]
     },
     "execution_count": 71,
     "metadata": {},
     "output_type": "execute_result"
    }
   ],
   "source": [
    "np.mean(win_loss_ds.y)"
   ]
  },
  {
   "cell_type": "code",
   "execution_count": 59,
   "id": "b8f950e7-4dcc-4be6-b192-477399303a5b",
   "metadata": {},
   "outputs": [
    {
     "data": {
      "text/plain": [
       "15.129592949282424"
      ]
     },
     "execution_count": 59,
     "metadata": {},
     "output_type": "execute_result"
    }
   ],
   "source": [
    "np.std(win_loss_ds.y)"
   ]
  },
  {
   "cell_type": "code",
   "execution_count": 61,
   "id": "62f9bf0c-3100-40e2-83f3-81da0c57761b",
   "metadata": {},
   "outputs": [
    {
     "data": {
      "text/plain": [
       "array([11.98127873])"
      ]
     },
     "execution_count": 61,
     "metadata": {},
     "output_type": "execute_result"
    }
   ],
   "source": [
    "transformers[1].y_means"
   ]
  },
  {
   "cell_type": "code",
   "execution_count": 62,
   "id": "08484df9-c864-4127-8155-c5e9b84ceafc",
   "metadata": {},
   "outputs": [
    {
     "data": {
      "text/plain": [
       "array([9.23869811])"
      ]
     },
     "execution_count": 62,
     "metadata": {},
     "output_type": "execute_result"
    }
   ],
   "source": [
    "transformers[1].y_stds"
   ]
  },
  {
   "cell_type": "code",
   "execution_count": 68,
   "id": "70b4d45b-4b56-443f-84cc-c8f01c88964b",
   "metadata": {},
   "outputs": [
    {
     "data": {
      "text/plain": [
       "array([ True,  True,  True,  True,  True,  True,  True,  True,  True,\n",
       "        True,  True,  True,  True,  True,  True,  True,  True,  True,\n",
       "        True,  True,  True,  True,  True,  True,  True,  True,  True,\n",
       "        True,  True,  True,  True,  True,  True,  True,  True,  True,\n",
       "        True,  True,  True, False, False, False, False, False, False,\n",
       "       False, False, False, False, False, False, False, False, False,\n",
       "       False, False, False, False, False, False, False, False, False,\n",
       "       False, False, False, False, False, False, False, False, False,\n",
       "       False, False, False, False, False,  True])"
      ]
     },
     "execution_count": 68,
     "metadata": {},
     "output_type": "execute_result"
    }
   ],
   "source": [
    "np.isclose(transformers[0].X_means, np.mean(ds.X, axis=0))"
   ]
  },
  {
   "cell_type": "code",
   "execution_count": 72,
   "id": "82561320-4d23-414f-b4fc-7c409f59d2a8",
   "metadata": {},
   "outputs": [
    {
     "data": {
      "text/plain": [
       "11.981278729628082"
      ]
     },
     "execution_count": 72,
     "metadata": {},
     "output_type": "execute_result"
    }
   ],
   "source": [
    "np.mean(ds.y)"
   ]
  },
  {
   "cell_type": "code",
   "execution_count": null,
   "id": "b541d0d2-9591-4e1f-b21e-63921842e28e",
   "metadata": {},
   "outputs": [],
   "source": []
  }
 ],
 "metadata": {
  "kernelspec": {
   "display_name": "Python 3 (ipykernel)",
   "language": "python",
   "name": "python3"
  },
  "language_info": {
   "codemirror_mode": {
    "name": "ipython",
    "version": 3
   },
   "file_extension": ".py",
   "mimetype": "text/x-python",
   "name": "python",
   "nbconvert_exporter": "python",
   "pygments_lexer": "ipython3",
   "version": "3.8.12"
  }
 },
 "nbformat": 4,
 "nbformat_minor": 5
}
