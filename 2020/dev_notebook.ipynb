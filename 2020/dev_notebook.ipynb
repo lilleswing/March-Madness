{
 "cells": [
  {
   "cell_type": "code",
   "execution_count": 1,
   "metadata": {},
   "outputs": [],
   "source": [
    "import delegator"
   ]
  },
  {
   "cell_type": "code",
   "execution_count": 2,
   "metadata": {},
   "outputs": [],
   "source": [
    "# The first thing as in any problem is we have to get data\n",
    "# I used kenpom\n",
    "# I wasn't able to get through the auth with requests -- so I shell drop into curl commands\n",
    "# I got the curl commands from Chrome Developer tools while loading the webpage"
   ]
  },
  {
   "cell_type": "code",
   "execution_count": 8,
   "metadata": {},
   "outputs": [],
   "source": [
    "def get_html(url, cookie):\n",
    "    try:\n",
    "        template = \"curl '{url}' -H 'pragma: no-cache' -H 'cookie: PHPSESSID={cookie}' -H 'accept-encoding: gzip, deflate, br' -H 'accept-language: en-US,en;q=0.9' -H 'upgrade-insecure-requests: 1' -H 'user-agent: Mozilla/5.0 (X11; Linux x86_64) AppleWebKit/537.36 (KHTML, like Gecko) Chrome/64.0.3282.186 Safari/537.36' -H 'accept: text/html,application/xhtml+xml,application/xml;q=0.9,image/webp,image/apng,*/*;q=0.8' -H 'cache-control: no-cache' -H 'authority: kenpom.com' -H 'referer: https://kenpom.com/opptracker.php?team=Virginia' --compressed\"\n",
    "        cmd = template.format(url=url, cookie=cookie)\n",
    "        c = delegator.run(cmd)\n",
    "        c.block()\n",
    "        content = c.out\n",
    "        return content\n",
    "    except Exception as e:\n",
    "        print(e)\n",
    "        return None\n",
    "cookie='qmvu4bd3snvqb80hq6cjc6lls4'\n",
    "#get_html(url='https://kenpom.com/team.php?team=Virginia&y=2017', cookie=cookie)"
   ]
  },
  {
   "cell_type": "code",
   "execution_count": 4,
   "metadata": {},
   "outputs": [],
   "source": [
    "import requests\n",
    "index_page = requests.get('https://kenpom.com/').content"
   ]
  },
  {
   "cell_type": "code",
   "execution_count": 5,
   "metadata": {},
   "outputs": [],
   "source": [
    "import re\n",
    "import time"
   ]
  },
  {
   "cell_type": "code",
   "execution_count": 6,
   "metadata": {},
   "outputs": [],
   "source": [
    "all_teams = re.findall('team.php.team=.*?\"', str(index_page))[:-1]\n",
    "all_teams = [x[:-1] for x in all_teams] # remove the \" at the end I matched"
   ]
  },
  {
   "cell_type": "code",
   "execution_count": 7,
   "metadata": {},
   "outputs": [],
   "source": [
    "import os\n",
    "if not os.path.exists('raw_data'):\n",
    "    os.mkdir('raw_data')"
   ]
  },
  {
   "cell_type": "code",
   "execution_count": 16,
   "metadata": {
    "scrolled": true
   },
   "outputs": [],
   "source": [
    "# Get Data for Years\n",
    "\n",
    "years = [2017, 2018, 2019, 2020]\n",
    "#years = [2019]\n",
    "#years = []\n",
    "for my_team in all_teams:\n",
    "    for year in years:\n",
    "        team = \"%s&y=%s\" % (my_team, year)\n",
    "        team_str = team[9:]\n",
    "        team_name = team_str[5:]\n",
    "        url = 'https://kenpom.com/%s' % team\n",
    "        fname = 'raw_data/%s.html' % team_name\n",
    "        if os.path.exists(fname):\n",
    "            continue\n",
    "        print(fname)\n",
    "        html = get_html(url, cookie)\n",
    "        with open(fname, 'w') as fout:\n",
    "            fout.write(html)\n",
    "        time.sleep(1)"
   ]
  },
  {
   "cell_type": "code",
   "execution_count": 17,
   "metadata": {},
   "outputs": [],
   "source": [
    "import os\n",
    "html_files = os.listdir('raw_data')"
   ]
  },
  {
   "cell_type": "code",
   "execution_count": 18,
   "metadata": {},
   "outputs": [],
   "source": [
    "import os\n",
    "import re\n",
    "keywords = [\n",
    "    'RankAdjOE',\n",
    "    'RankAdjDE',\n",
    "    'RankAdjTempo',\n",
    "    'RankAPL_Off',\n",
    "    'RankAPL_Def',\n",
    "    'RankeFG_Pct',\n",
    "    'RankDeFG_Pct',\n",
    "    'RankTO_Pct',\n",
    "    'RankDTO_Pct',\n",
    "    'RankOR_Pct',\n",
    "    'RankDOR_Pct',\n",
    "    'RankFT_Rate',\n",
    "    'RankDFT_Rate',\n",
    "    'RankDFT_Rate',\n",
    "    'RankFG3Pct',\n",
    "    'RankFG3Pct.*&od=d',\n",
    "    'RankFG2Pct',\n",
    "    'RankFG2Pct.*&od=d',\n",
    "    'RankFTPct',\n",
    "    'RankFTPct.*&od=d',\n",
    "    'RankBlockPct',\n",
    "    'RankBlockPct.*&od=d',\n",
    "    'RankStlRate',\n",
    "    'RankStlRate.*&od=d',\n",
    "    'RankF3GRate',\n",
    "    'RankF3GRate.*&od=d',\n",
    "    'RankARate',\n",
    "    'RankARate.*&od=d',\n",
    "    'RankOff_3',\n",
    "    'RankDef_3',\n",
    "    'RankOff_2',\n",
    "    'RankDef_2',\n",
    "    'RankOff_1',\n",
    "    'RankDef_1',\n",
    "    'RankSOSO',\n",
    "    'RankSOSD',\n",
    "    'ExpRank',\n",
    "    'SizeRank',\n",
    "]\n",
    "\n",
    "def get_feature_vector(html_str, fname):\n",
    "    fv = []\n",
    "    for keyword in keywords:\n",
    "        pattern = '%s.*>(\\d+\\.\\d+)' % keyword\n",
    "        val = re.findall(pattern, html_str)[-1]\n",
    "        fv.append(float(val))\n",
    "    year = re.findall(\".*=(\\d+).*\", fname)[0]\n",
    "    return fv + [float(year)]\n",
    "\n",
    "def score_to_diff(s, neg=False):\n",
    "    s = [float(x) for x in s.split('-')]\n",
    "    v = abs(s[0] - s[1])\n",
    "    if neg:\n",
    "        return -1 * v\n",
    "    return v\n",
    "\n",
    "def get_wins_losses(html_str):\n",
    "    pat = 'team.php.*?=(.*?)\".*>W<.* (\\d+-\\d+).*\\n'\n",
    "    wins = re.findall(pat, html_str)\n",
    "    wins = [(x[0], score_to_diff(x[1])) for x in wins]\n",
    "    \n",
    "    pat = 'team.php.*?=(.*?)\".*>L<.* (\\d+-\\d+).*\\n'\n",
    "    losses = re.findall(pat, html_str)\n",
    "    losses = [(x[0], score_to_diff(x[1], True)) for x in losses]\n",
    "    # Only return wins and then data augment after doing splits\n",
    "    return wins\n",
    "\n",
    "def parse_html_file(html_str, fname):\n",
    "    \"\"\"\n",
    "    return feature_vector, list of (oppenent, +- score)\n",
    "    \"\"\"\n",
    "    fv = get_feature_vector(html_str, fname)\n",
    "    wl = get_wins_losses(html_str)\n",
    "    return fv, wl\n"
   ]
  },
  {
   "cell_type": "code",
   "execution_count": 19,
   "metadata": {},
   "outputs": [],
   "source": [
    "html_files = os.listdir('raw_data')\n",
    "d = {}\n",
    "for html_file in html_files:\n",
    "    html_str = open('raw_data/%s' % html_file).read()\n",
    "    if len(html_str) == 0:\n",
    "        continue\n",
    "    team_name = html_file[:-5]\n",
    "    d[team_name] = parse_html_file(html_str, html_file)"
   ]
  },
  {
   "cell_type": "code",
   "execution_count": 56,
   "metadata": {},
   "outputs": [],
   "source": [
    "import json\n",
    "with open(\"team_fvs.json\", 'w') as fout:\n",
    "    s = json.dumps(d, indent=4, sort_keys=True)\n",
    "    fout.write(s)"
   ]
  },
  {
   "cell_type": "code",
   "execution_count": 21,
   "metadata": {},
   "outputs": [
    {
     "name": "stderr",
     "output_type": "stream",
     "text": [
      "RDKit WARNING: [10:54:19] Enabling RDKit 2019.09.3 jupyter extensions\n",
      "/Users/leswing/miniconda3/envs/ligand_ml/lib/python3.6/site-packages/tensorflow/python/framework/dtypes.py:516: FutureWarning: Passing (type, 1) or '1type' as a synonym of type is deprecated; in a future version of numpy, it will be understood as (type, (1,)) / '(1,)type'.\n",
      "  _np_qint8 = np.dtype([(\"qint8\", np.int8, 1)])\n",
      "/Users/leswing/miniconda3/envs/ligand_ml/lib/python3.6/site-packages/tensorflow/python/framework/dtypes.py:517: FutureWarning: Passing (type, 1) or '1type' as a synonym of type is deprecated; in a future version of numpy, it will be understood as (type, (1,)) / '(1,)type'.\n",
      "  _np_quint8 = np.dtype([(\"quint8\", np.uint8, 1)])\n",
      "/Users/leswing/miniconda3/envs/ligand_ml/lib/python3.6/site-packages/tensorflow/python/framework/dtypes.py:518: FutureWarning: Passing (type, 1) or '1type' as a synonym of type is deprecated; in a future version of numpy, it will be understood as (type, (1,)) / '(1,)type'.\n",
      "  _np_qint16 = np.dtype([(\"qint16\", np.int16, 1)])\n",
      "/Users/leswing/miniconda3/envs/ligand_ml/lib/python3.6/site-packages/tensorflow/python/framework/dtypes.py:519: FutureWarning: Passing (type, 1) or '1type' as a synonym of type is deprecated; in a future version of numpy, it will be understood as (type, (1,)) / '(1,)type'.\n",
      "  _np_quint16 = np.dtype([(\"quint16\", np.uint16, 1)])\n",
      "/Users/leswing/miniconda3/envs/ligand_ml/lib/python3.6/site-packages/tensorflow/python/framework/dtypes.py:520: FutureWarning: Passing (type, 1) or '1type' as a synonym of type is deprecated; in a future version of numpy, it will be understood as (type, (1,)) / '(1,)type'.\n",
      "  _np_qint32 = np.dtype([(\"qint32\", np.int32, 1)])\n",
      "/Users/leswing/miniconda3/envs/ligand_ml/lib/python3.6/site-packages/tensorflow/python/framework/dtypes.py:525: FutureWarning: Passing (type, 1) or '1type' as a synonym of type is deprecated; in a future version of numpy, it will be understood as (type, (1,)) / '(1,)type'.\n",
      "  np_resource = np.dtype([(\"resource\", np.ubyte, 1)])\n",
      "/Users/leswing/miniconda3/envs/ligand_ml/lib/python3.6/site-packages/tensorboard/compat/tensorflow_stub/dtypes.py:541: FutureWarning: Passing (type, 1) or '1type' as a synonym of type is deprecated; in a future version of numpy, it will be understood as (type, (1,)) / '(1,)type'.\n",
      "  _np_qint8 = np.dtype([(\"qint8\", np.int8, 1)])\n",
      "/Users/leswing/miniconda3/envs/ligand_ml/lib/python3.6/site-packages/tensorboard/compat/tensorflow_stub/dtypes.py:542: FutureWarning: Passing (type, 1) or '1type' as a synonym of type is deprecated; in a future version of numpy, it will be understood as (type, (1,)) / '(1,)type'.\n",
      "  _np_quint8 = np.dtype([(\"quint8\", np.uint8, 1)])\n",
      "/Users/leswing/miniconda3/envs/ligand_ml/lib/python3.6/site-packages/tensorboard/compat/tensorflow_stub/dtypes.py:543: FutureWarning: Passing (type, 1) or '1type' as a synonym of type is deprecated; in a future version of numpy, it will be understood as (type, (1,)) / '(1,)type'.\n",
      "  _np_qint16 = np.dtype([(\"qint16\", np.int16, 1)])\n",
      "/Users/leswing/miniconda3/envs/ligand_ml/lib/python3.6/site-packages/tensorboard/compat/tensorflow_stub/dtypes.py:544: FutureWarning: Passing (type, 1) or '1type' as a synonym of type is deprecated; in a future version of numpy, it will be understood as (type, (1,)) / '(1,)type'.\n",
      "  _np_quint16 = np.dtype([(\"quint16\", np.uint16, 1)])\n",
      "/Users/leswing/miniconda3/envs/ligand_ml/lib/python3.6/site-packages/tensorboard/compat/tensorflow_stub/dtypes.py:545: FutureWarning: Passing (type, 1) or '1type' as a synonym of type is deprecated; in a future version of numpy, it will be understood as (type, (1,)) / '(1,)type'.\n",
      "  _np_qint32 = np.dtype([(\"qint32\", np.int32, 1)])\n",
      "/Users/leswing/miniconda3/envs/ligand_ml/lib/python3.6/site-packages/tensorboard/compat/tensorflow_stub/dtypes.py:550: FutureWarning: Passing (type, 1) or '1type' as a synonym of type is deprecated; in a future version of numpy, it will be understood as (type, (1,)) / '(1,)type'.\n",
      "  np_resource = np.dtype([(\"resource\", np.ubyte, 1)])\n"
     ]
    },
    {
     "name": "stdout",
     "output_type": "stream",
     "text": [
      "WARNING:tensorflow:\n",
      "The TensorFlow contrib module will not be included in TensorFlow 2.0.\n",
      "For more information, please see:\n",
      "  * https://github.com/tensorflow/community/blob/master/rfcs/20180907-contrib-sunset.md\n",
      "  * https://github.com/tensorflow/addons\n",
      "  * https://github.com/tensorflow/io (for I/O related ops)\n",
      "If you depend on functionality not listed there, please file an issue.\n",
      "\n"
     ]
    },
    {
     "name": "stderr",
     "output_type": "stream",
     "text": [
      "\n",
      "--------------------------------------------------------------------------------\n",
      "Note: Automatically supressing non-fatal tensorflow log output.\n",
      "      (To re-enable, set the TF_CPP_MIN_LOG_LEVEL environment variable.)\n",
      "--------------------------------------------------------------------------------\n",
      "\n"
     ]
    },
    {
     "name": "stdout",
     "output_type": "stream",
     "text": [
      "Fort+Wayne&y=2017\n",
      "Savannah+St.&y=2017\n",
      "Savannah+St.&y=2017\n",
      "Louisiana+Lafayette&y=2018\n",
      "Louisville&y=2018\n",
      "Savannah+St.&y=2019\n",
      "Fort+Wayne&y=2017\n",
      "Appalachian+St.&y=2017\n",
      "Louisiana+Lafayette&y=2017\n",
      "Louisiana+Lafayette&y=2017\n",
      "Appalachian+St.&y=2017\n",
      "Savannah+St.&y=2018\n",
      "Louisville&y=2018\n",
      "Savannah+St.&y=2017\n",
      "LIU+Brooklyn&y=2017\n",
      "LIU+Brooklyn&y=2017\n",
      "Savannah+St.&y=2017\n",
      "Louisiana+Lafayette&y=2017\n",
      "Appalachian+St.&y=2017\n",
      "Louisiana+Lafayette&y=2017\n",
      "Louisiana+Lafayette&y=2018\n",
      "Savannah+St.&y=2017\n",
      "Savannah+St.&y=2017\n",
      "Appalachian+St.&y=2017\n",
      "Fort+Wayne&y=2018\n",
      "Fort+Wayne&y=2018\n",
      "Louisiana+Lafayette&y=2018\n",
      "Louisville&y=2018\n",
      "LIU+Brooklyn&y=2018\n",
      "Seton+Hall&y=2020\n",
      "LIU+Brooklyn&y=2017\n",
      "Louisville&y=2018\n",
      "Savannah+St.&y=2019\n",
      "Savannah+St.&y=2017\n",
      "Louisville&y=2018\n",
      "Fort+Wayne&y=2017\n",
      "LIU+Brooklyn&y=2018\n",
      "Louisiana+Lafayette&y=2017\n",
      "Appalachian+St.&y=2017\n",
      "Appalachian+St.&y=2017\n",
      "LIU+Brooklyn&y=2017\n",
      "Savannah+St.&y=2017\n",
      "Appalachian+St.&y=2017\n",
      "Savannah+St.&y=2018\n",
      "LIU+Brooklyn&y=2018\n",
      "LIU+Brooklyn&y=2017\n",
      "Fort+Wayne&y=2017\n",
      "Fort+Wayne&y=2017\n",
      "LIU+Brooklyn&y=2019\n",
      "Savannah+St.&y=2019\n",
      "Savannah+St.&y=2019\n",
      "Savannah+St.&y=2017\n",
      "Louisiana+Lafayette&y=2018\n",
      "Appalachian+St.&y=2017\n",
      "Savannah+St.&y=2019\n",
      "College+of+Charleston&y=2017\n",
      "LIU+Brooklyn&y=2017\n",
      "LIU+Brooklyn&y=2017\n",
      "College+of+Charleston&y=2018\n",
      "LIU+Brooklyn&y=2018\n",
      "Fort+Wayne&y=2018\n",
      "Appalachian+St.&y=2017\n",
      "Fort+Wayne&y=2018\n",
      "Appalachian+St.&y=2017\n",
      "Louisiana+Lafayette&y=2017\n",
      "Appalachian+St.&y=2017\n",
      "Savannah+St.&y=2018\n",
      "Savannah+St.&y=2017\n",
      "College+of+Charleston&y=2017\n",
      "College+of+Charleston&y=2017\n",
      "Fort+Wayne&y=2017\n",
      "Fort+Wayne&y=2017\n",
      "Louisiana+Lafayette&y=2017\n",
      "LIU+Brooklyn&y=2017\n",
      "College+of+Charleston&y=2017\n",
      "College+of+Charleston&y=2018\n",
      "Savannah+St.&y=2018\n",
      "Fort+Wayne&y=2017\n",
      "Seton+Hall&y=2020\n",
      "Seton+Hall&y=2020\n",
      "LIU+Brooklyn&y=2019\n",
      "LIU+Brooklyn&y=2019\n",
      "LIU+Brooklyn&y=2017\n",
      "Fort+Wayne&y=2017\n",
      "LIU+Brooklyn&y=2019\n",
      "College+of+Charleston&y=2018\n",
      "Louisiana+Lafayette&y=2017\n",
      "LIU+Brooklyn&y=2017\n",
      "LIU+Brooklyn&y=2018\n",
      "Appalachian+St.&y=2017\n",
      "College+of+Charleston&y=2018\n",
      "Louisville&y=2018\n",
      "LIU+Brooklyn&y=2018\n",
      "Savannah+St.&y=2018\n",
      "Savannah+St.&y=2017\n",
      "College+of+Charleston&y=2017\n",
      "College+of+Charleston&y=2018\n",
      "Fort+Wayne&y=2017\n",
      "College+of+Charleston&y=2017\n",
      "Savannah+St.&y=2019\n",
      "Louisiana+Lafayette&y=2018\n",
      "Savannah+St.&y=2019\n",
      "LIU+Brooklyn&y=2019\n",
      "Savannah+St.&y=2019\n",
      "Savannah+St.&y=2017\n",
      "LIU+Brooklyn&y=2017\n",
      "Savannah+St.&y=2017\n",
      "Savannah+St.&y=2018\n",
      "College+of+Charleston&y=2018\n",
      "LIU+Brooklyn&y=2019\n",
      "Savannah+St.&y=2018\n",
      "Savannah+St.&y=2019\n",
      "Louisville&y=2018\n",
      "Seton+Hall&y=2020\n",
      "Savannah+St.&y=2019\n",
      "Fort+Wayne&y=2018\n",
      "Louisville&y=2018\n",
      "Savannah+St.&y=2019\n",
      "Savannah+St.&y=2019\n",
      "Savannah+St.&y=2019\n",
      "Savannah+St.&y=2018\n",
      "Louisiana+Lafayette&y=2017\n",
      "Appalachian+St.&y=2017\n",
      "Louisiana+Lafayette&y=2017\n",
      "Louisiana+Lafayette&y=2017\n",
      "LIU+Brooklyn&y=2019\n",
      "LIU+Brooklyn&y=2019\n",
      "LIU+Brooklyn&y=2018\n",
      "Appalachian+St.&y=2017\n",
      "LIU+Brooklyn&y=2019\n",
      "Seton+Hall&y=2020\n",
      "Louisiana+Lafayette&y=2017\n",
      "LIU+Brooklyn&y=2017\n",
      "LIU+Brooklyn&y=2019\n",
      "Louisiana+Lafayette&y=2018\n",
      "Savannah+St.&y=2018\n",
      "Savannah+St.&y=2018\n",
      "Fort+Wayne&y=2018\n",
      "Fort+Wayne&y=2018\n",
      "College+of+Charleston&y=2018\n",
      "Savannah+St.&y=2017\n",
      "Seton+Hall&y=2020\n",
      "Fort+Wayne&y=2017\n",
      "College+of+Charleston&y=2017\n",
      "LIU+Brooklyn&y=2018\n",
      "LIU+Brooklyn&y=2018\n",
      "LIU+Brooklyn&y=2018\n",
      "Fort+Wayne&y=2018\n",
      "Fort+Wayne&y=2017\n",
      "Savannah+St.&y=2017\n",
      "Louisiana+Lafayette&y=2018\n",
      "LIU+Brooklyn&y=2018\n",
      "Fort+Wayne&y=2018\n",
      "Fort+Wayne&y=2018\n",
      "LIU+Brooklyn&y=2018\n",
      "Savannah+St.&y=2019\n",
      "LIU+Brooklyn&y=2018\n",
      "Seton+Hall&y=2020\n",
      "LIU+Brooklyn&y=2019\n",
      "LIU+Brooklyn&y=2019\n",
      "LIU+Brooklyn&y=2019\n",
      "Savannah+St.&y=2019\n",
      "Seton+Hall&y=2020\n",
      "College+of+Charleston&y=2017\n",
      "Fort+Wayne&y=2018\n",
      "Louisville&y=2018\n",
      "Seton+Hall&y=2020\n",
      "Savannah+St.&y=2018\n",
      "LIU+Brooklyn&y=2019\n",
      "LIU+Brooklyn&y=2019\n",
      "Fort+Wayne&y=2018\n",
      "Appalachian+St.&y=2017\n",
      "Appalachian+St.&y=2017\n",
      "Appalachian+St.&y=2017\n",
      "Fort+Wayne&y=2018\n",
      "Savannah+St.&y=2019\n",
      "Fort+Wayne&y=2017\n",
      "Savannah+St.&y=2019\n",
      "Savannah+St.&y=2018\n",
      "Louisville&y=2018\n",
      "Louisville&y=2018\n",
      "Louisville&y=2018\n",
      "LIU+Brooklyn&y=2018\n",
      "LIU+Brooklyn&y=2019\n",
      "Fort+Wayne&y=2018\n",
      "Savannah+St.&y=2018\n",
      "LIU+Brooklyn&y=2018\n",
      "College+of+Charleston&y=2017\n",
      "Louisville&y=2018\n",
      "Savannah+St.&y=2017\n",
      "Louisville&y=2018\n",
      "Savannah+St.&y=2019\n",
      "Savannah+St.&y=2019\n",
      "Appalachian+St.&y=2017\n",
      "College+of+Charleston&y=2017\n",
      "Savannah+St.&y=2018\n",
      "Fort+Wayne&y=2018\n",
      "LIU+Brooklyn&y=2018\n",
      "Savannah+St.&y=2018\n",
      "Appalachian+St.&y=2017\n",
      "Appalachian+St.&y=2017\n",
      "Savannah+St.&y=2018\n",
      "Savannah+St.&y=2019\n",
      "College+of+Charleston&y=2018\n",
      "LIU+Brooklyn&y=2018\n"
     ]
    },
    {
     "data": {
      "text/plain": [
       "<ligand_ml.data.datasets.DiskDataset at 0x1a589f7748>"
      ]
     },
     "execution_count": 21,
     "metadata": {},
     "output_type": "execute_result"
    }
   ],
   "source": [
    "from ligand_ml.data import DiskDataset \n",
    "import numpy as np\n",
    "\n",
    "X = []\n",
    "ys = []\n",
    "for k, v in d.items():\n",
    "    my_fv = v[0]\n",
    "    oppenents = v[1]\n",
    "    for opp in oppenents:\n",
    "        if opp[0].find(\"&y\") == -1:\n",
    "            opp_name = opp[0] + \"&y=2020\"\n",
    "            opp = (opp_name, opp[1])\n",
    "        if opp[0] not in d:\n",
    "            print(opp[0])\n",
    "            continue\n",
    "        their_fv = d[opp[0]][0]\n",
    "        fv = my_fv + their_fv\n",
    "        y = opp[1]\n",
    "        X.append(fv)\n",
    "        ys.append(y)\n",
    "DiskDataset.from_numpy(np.array(X), np.array(ys), None, None, data_dir='datasets/combined')"
   ]
  },
  {
   "cell_type": "code",
   "execution_count": 22,
   "metadata": {},
   "outputs": [],
   "source": [
    "# Now we have a DeepChem DiskDataset, with this we have to do the feature engineering\n",
    "# In order to make it easy for the model to learn"
   ]
  },
  {
   "cell_type": "code",
   "execution_count": 23,
   "metadata": {},
   "outputs": [],
   "source": [
    "from ligand_ml.data import NumpyDataset\n",
    "def to_numpy(ds):\n",
    "    return NumpyDataset(ds.X, ds.y, ds.w, ds.ids)"
   ]
  },
  {
   "cell_type": "code",
   "execution_count": 24,
   "metadata": {},
   "outputs": [],
   "source": [
    "ds = to_numpy(DiskDataset('datasets/combined'))"
   ]
  },
  {
   "cell_type": "code",
   "execution_count": 25,
   "metadata": {},
   "outputs": [],
   "source": [
    "# Lets normalize all variables to have a mean of 0 and a std of 1"
   ]
  },
  {
   "cell_type": "code",
   "execution_count": 26,
   "metadata": {},
   "outputs": [
    {
     "data": {
      "text/plain": [
       "(array([1.0000e+00, 2.2000e+01, 3.9500e+02, 3.8000e+03, 1.7169e+04,\n",
       "        1.7169e+04, 3.8000e+03, 3.9500e+02, 2.2000e+01, 1.0000e+00]),\n",
       " array([-94. , -75.2, -56.4, -37.6, -18.8,   0. ,  18.8,  37.6,  56.4,\n",
       "         75.2,  94. ]),\n",
       " <a list of 10 Patch objects>)"
      ]
     },
     "execution_count": 26,
     "metadata": {},
     "output_type": "execute_result"
    },
    {
     "data": {
      "image/png": "[encoded data removed]",
      "text/plain": [
       "<Figure size 432x288 with 1 Axes>"
      ]
     },
     "metadata": {
      "needs_background": "light"
     },
     "output_type": "display_data"
    }
   ],
   "source": [
    "# Create full y value to construct transformer on.  \n",
    "# We should have both wins and losses setting the mean to 0\n",
    "import matplotlib.pyplot as plt\n",
    "from matplotlib.pyplot import savefig\n",
    "from matplotlib.pyplot import clf\n",
    "%matplotlib inline\n",
    "\n",
    "\n",
    "win_loss_y = np.concatenate([ds.y, ds.y*-1], axis=0)\n",
    "win_loss_x = np.concatenate([ds.X, ds.X], axis=0)\n",
    "win_loss_ds = NumpyDataset(win_loss_x, win_loss_y)\n",
    "plt.hist(np.squeeze(win_loss_y))"
   ]
  },
  {
   "cell_type": "code",
   "execution_count": 27,
   "metadata": {},
   "outputs": [],
   "source": [
    "from ligand_ml.trans.transformers import NormalizationTransformer\n",
    "transformers = [\n",
    "    NormalizationTransformer(transform_X=True, dataset=ds),\n",
    "    NormalizationTransformer(transform_y=True, dataset=win_loss_ds)\n",
    "]\n",
    "for trans in transformers:\n",
    "    ds = trans.transform(ds)"
   ]
  },
  {
   "cell_type": "code",
   "execution_count": 28,
   "metadata": {},
   "outputs": [],
   "source": [
    "# These normalization params are important if we need to do inference later\n",
    "# So lets save them"
   ]
  },
  {
   "cell_type": "code",
   "execution_count": 29,
   "metadata": {},
   "outputs": [],
   "source": [
    "import pickle"
   ]
  },
  {
   "cell_type": "code",
   "execution_count": 30,
   "metadata": {},
   "outputs": [],
   "source": [
    "pickle.dump(transformers, open('transformers.pkl', 'wb'))"
   ]
  },
  {
   "cell_type": "code",
   "execution_count": 31,
   "metadata": {},
   "outputs": [],
   "source": [
    "import numpy as np"
   ]
  },
  {
   "cell_type": "code",
   "execution_count": 32,
   "metadata": {},
   "outputs": [],
   "source": [
    "# Lets do a visual inspection of the features to see if they are relatively normal or if we have to clip"
   ]
  },
  {
   "cell_type": "code",
   "execution_count": 33,
   "metadata": {},
   "outputs": [],
   "source": [
    "import matplotlib.pyplot as plt\n",
    "from matplotlib.pyplot import savefig\n",
    "from matplotlib.pyplot import clf"
   ]
  },
  {
   "cell_type": "code",
   "execution_count": 35,
   "metadata": {},
   "outputs": [
    {
     "data": {
      "image/png": "[encoded data removed]",
      "text/plain": [
       "<Figure size 432x288 with 1 Axes>"
      ]
     },
     "metadata": {
      "needs_background": "light"
     },
     "output_type": "display_data"
    }
   ],
   "source": [
    "if not os.path.exists('img'):\n",
    "    os.mkdir('img')\n",
    "for i in range(ds.X.shape[-1]):\n",
    "    clf()\n",
    "    plt.hist(ds.X[:,i])\n",
    "    savefig('img/%s.png' % i)"
   ]
  },
  {
   "cell_type": "code",
   "execution_count": 36,
   "metadata": {},
   "outputs": [
    {
     "data": {
      "text/plain": [
       "(array([1.1464e+04, 6.1560e+03, 2.4440e+03, 9.6100e+02, 2.5900e+02,\n",
       "        8.0000e+01, 1.8000e+01, 4.0000e+00, 0.0000e+00, 1.0000e+00]),\n",
       " array([0.0662676 , 0.68255632, 1.29884504, 1.91513376, 2.53142248,\n",
       "        3.14771119, 3.76399991, 4.38028863, 4.99657735, 5.61286607,\n",
       "        6.22915479]),\n",
       " <a list of 10 Patch objects>)"
      ]
     },
     "execution_count": 36,
     "metadata": {},
     "output_type": "execute_result"
    },
    {
     "data": {
      "image/png": "[encoded data removed]",
      "text/plain": [
       "<Figure size 432x288 with 1 Axes>"
      ]
     },
     "metadata": {
      "needs_background": "light"
     },
     "output_type": "display_data"
    }
   ],
   "source": [
    "%matplotlib inline\n",
    "plt.hist(ds.y)"
   ]
  },
  {
   "cell_type": "code",
   "execution_count": 37,
   "metadata": {},
   "outputs": [],
   "source": [
    "# Seems like clipping is not neccessary yet"
   ]
  },
  {
   "cell_type": "code",
   "execution_count": 38,
   "metadata": {},
   "outputs": [],
   "source": [
    "# I like 5 folds of data.  Random Split is bad we should do time or team split\n",
    "# This will lead to overpredicting our real world perf"
   ]
  },
  {
   "cell_type": "code",
   "execution_count": 39,
   "metadata": {},
   "outputs": [],
   "source": [
    "from ligand_ml.data.splitters import RandomSplitter\n",
    "\n",
    "splitter = RandomSplitter()\n",
    "folds = splitter.k_fold_split(ds, 5)"
   ]
  },
  {
   "cell_type": "code",
   "execution_count": 40,
   "metadata": {},
   "outputs": [],
   "source": [
    "# Lets make sure we save these folds to disk in case we want them later"
   ]
  },
  {
   "cell_type": "code",
   "execution_count": 41,
   "metadata": {},
   "outputs": [],
   "source": [
    "for i, fold in enumerate(folds):\n",
    "    train, valid = fold\n",
    "    train_folder = 'datasets/full_folds/train%s' % i\n",
    "    DiskDataset.from_numpy(train.X, train.y, train.w, train.ids, data_dir=train_folder)\n",
    "    \n",
    "    valid_folder = 'datasets/full_folds/valid%s' % i\n",
    "    DiskDataset.from_numpy(valid.X, valid.y, valid.w, valid.ids, data_dir=valid_folder)"
   ]
  },
  {
   "cell_type": "code",
   "execution_count": 42,
   "metadata": {},
   "outputs": [],
   "source": [
    "# We have to augment the data with reverse of each game\n",
    "def augment_ds(ds):\n",
    "    X = ds.X\n",
    "    y = ds.y\n",
    "    rev_y = ds.y * -1\n",
    "    \n",
    "    n_features = X.shape[1] // 2\n",
    "    t1 = X[:,:n_features]\n",
    "    t2 = X[:, n_features:]\n",
    "    rev_x = np.concatenate([t2,t2], axis=1)\n",
    "    \n",
    "    full_x = np.concatenate([X,rev_x], axis=0)\n",
    "    full_y = np.concatenate([y, rev_y], axis=0)\n",
    "    return NumpyDataset(full_x, full_y)\n",
    "\n",
    "\n",
    "for i in range(5):\n",
    "    fname = 'datasets/full_folds/train%s' % i\n",
    "    ds = DiskDataset(fname)\n",
    "    ds = augment_ds(ds)\n",
    "    DiskDataset.from_numpy(ds.X, ds.y, ds.w, ds.ids, data_dir=fname)\n",
    "    \n",
    "    fname = 'datasets/full_folds/valid%s' % i\n",
    "    ds = DiskDataset(fname)\n",
    "    ds = augment_ds(ds)\n",
    "    DiskDataset.from_numpy(ds.X, ds.y, ds.w, ds.ids, data_dir=fname)"
   ]
  },
  {
   "cell_type": "code",
   "execution_count": 43,
   "metadata": {},
   "outputs": [],
   "source": [
    "# Now to train a dummy model to see vaguely how well we are going"
   ]
  },
  {
   "cell_type": "code",
   "execution_count": 44,
   "metadata": {},
   "outputs": [],
   "source": [
    "train = DiskDataset('datasets/full_folds/train0')\n",
    "valid = DiskDataset('datasets/full_folds/valid0')"
   ]
  },
  {
   "cell_type": "code",
   "execution_count": 45,
   "metadata": {},
   "outputs": [
    {
     "name": "stdout",
     "output_type": "stream",
     "text": [
      "WARNING:tensorflow:From /Users/leswing/miniconda3/envs/ligand_ml/lib/python3.6/site-packages/ligand_ml-0.0.0-py3.6.egg/ligand_ml/models/tensorflow/tensor_graph.py:83: The name tf.ConfigProto is deprecated. Please use tf.compat.v1.ConfigProto instead.\n",
      "\n"
     ]
    }
   ],
   "source": [
    "from ligand_ml.models.tensorflow.fcnet import MultitaskRegressor\n",
    "model = MultitaskRegressor(1, train.X.shape[-1])"
   ]
  },
  {
   "cell_type": "code",
   "execution_count": 46,
   "metadata": {},
   "outputs": [],
   "source": [
    "train, valid = to_numpy(train), to_numpy(valid)"
   ]
  },
  {
   "cell_type": "code",
   "execution_count": 47,
   "metadata": {},
   "outputs": [
    {
     "name": "stdout",
     "output_type": "stream",
     "text": [
      "WARNING:tensorflow:From /Users/leswing/miniconda3/envs/ligand_ml/lib/python3.6/site-packages/ligand_ml-0.0.0-py3.6.egg/ligand_ml/models/tensorflow/tensor_graph.py:678: The name tf.placeholder is deprecated. Please use tf.compat.v1.placeholder instead.\n",
      "\n",
      "WARNING:tensorflow:From /Users/leswing/miniconda3/envs/ligand_ml/lib/python3.6/site-packages/ligand_ml-0.0.0-py3.6.egg/ligand_ml/models/tensorflow/layers.py:2463: The name tf.FIFOQueue is deprecated. Please use tf.queue.FIFOQueue instead.\n",
      "\n",
      "WARNING:tensorflow:From /Users/leswing/miniconda3/envs/ligand_ml/lib/python3.6/site-packages/ligand_ml-0.0.0-py3.6.egg/ligand_ml/models/tensorflow/layers.py:1156: The name tf.placeholder_with_default is deprecated. Please use tf.compat.v1.placeholder_with_default instead.\n",
      "\n",
      "WARNING:tensorflow:From /Users/leswing/miniconda3/envs/ligand_ml/lib/python3.6/site-packages/ligand_ml-0.0.0-py3.6.egg/ligand_ml/models/tensorflow/layers.py:616: The name tf.layers.Dense is deprecated. Please use tf.compat.v1.layers.Dense instead.\n",
      "\n",
      "WARNING:tensorflow:Entity <bound method Dense.call of <tensorflow.python.layers.core.Dense object at 0x1a58d44908>> could not be transformed and will be executed as-is. Please report this to the AutgoGraph team. When filing the bug, set the verbosity to 10 (on Linux, `export AUTOGRAPH_VERBOSITY=10`) and attach the full output. Cause: converting <bound method Dense.call of <tensorflow.python.layers.core.Dense object at 0x1a58d44908>>: AssertionError: Bad argument number for Name: 3, expecting 4\n",
      "WARNING: Entity <bound method Dense.call of <tensorflow.python.layers.core.Dense object at 0x1a58d44908>> could not be transformed and will be executed as-is. Please report this to the AutgoGraph team. When filing the bug, set the verbosity to 10 (on Linux, `export AUTOGRAPH_VERBOSITY=10`) and attach the full output. Cause: converting <bound method Dense.call of <tensorflow.python.layers.core.Dense object at 0x1a58d44908>>: AssertionError: Bad argument number for Name: 3, expecting 4\n",
      "WARNING:tensorflow:From /Users/leswing/miniconda3/envs/ligand_ml/lib/python3.6/site-packages/ligand_ml-0.0.0-py3.6.egg/ligand_ml/models/tensorflow/layers.py:175: The name tf.get_variable_scope is deprecated. Please use tf.compat.v1.get_variable_scope instead.\n",
      "\n",
      "WARNING:tensorflow:From /Users/leswing/miniconda3/envs/ligand_ml/lib/python3.6/site-packages/ligand_ml-0.0.0-py3.6.egg/ligand_ml/models/tensorflow/layers.py:3568: calling dropout (from tensorflow.python.ops.nn_ops) with keep_prob is deprecated and will be removed in a future version.\n",
      "Instructions for updating:\n",
      "Please use `rate` instead of `keep_prob`. Rate should be set to `rate = 1 - keep_prob`.\n",
      "WARNING:tensorflow:Entity <bound method Dense.call of <tensorflow.python.layers.core.Dense object at 0x1a58d44668>> could not be transformed and will be executed as-is. Please report this to the AutgoGraph team. When filing the bug, set the verbosity to 10 (on Linux, `export AUTOGRAPH_VERBOSITY=10`) and attach the full output. Cause: converting <bound method Dense.call of <tensorflow.python.layers.core.Dense object at 0x1a58d44668>>: AssertionError: Bad argument number for Name: 3, expecting 4\n",
      "WARNING: Entity <bound method Dense.call of <tensorflow.python.layers.core.Dense object at 0x1a58d44668>> could not be transformed and will be executed as-is. Please report this to the AutgoGraph team. When filing the bug, set the verbosity to 10 (on Linux, `export AUTOGRAPH_VERBOSITY=10`) and attach the full output. Cause: converting <bound method Dense.call of <tensorflow.python.layers.core.Dense object at 0x1a58d44668>>: AssertionError: Bad argument number for Name: 3, expecting 4\n",
      "WARNING:tensorflow:From /Users/leswing/miniconda3/envs/ligand_ml/lib/python3.6/site-packages/ligand_ml-0.0.0-py3.6.egg/ligand_ml/models/tensorflow/optimizers.py:88: The name tf.train.AdamOptimizer is deprecated. Please use tf.compat.v1.train.AdamOptimizer instead.\n",
      "\n",
      "WARNING:tensorflow:From /Users/leswing/miniconda3/envs/ligand_ml/lib/python3.6/site-packages/ligand_ml-0.0.0-py3.6.egg/ligand_ml/models/tensorflow/tensor_graph.py:712: The name tf.summary.scalar is deprecated. Please use tf.compat.v1.summary.scalar instead.\n",
      "\n",
      "WARNING:tensorflow:From /Users/leswing/miniconda3/envs/ligand_ml/lib/python3.6/site-packages/ligand_ml-0.0.0-py3.6.egg/ligand_ml/models/tensorflow/tensor_graph.py:214: The name tf.train.Saver is deprecated. Please use tf.compat.v1.train.Saver instead.\n",
      "\n"
     ]
    },
    {
     "data": {
      "text/plain": [
       "58.39284708992235"
      ]
     },
     "execution_count": 47,
     "metadata": {},
     "output_type": "execute_result"
    }
   ],
   "source": [
    "model.fit(train, nb_epoch=10)"
   ]
  },
  {
   "cell_type": "code",
   "execution_count": 48,
   "metadata": {},
   "outputs": [],
   "source": [
    "from sklearn.metrics import r2_score\n",
    "def p_r2(y_true, y_pred):\n",
    "    return r2_score(y_true, y_pred)"
   ]
  },
  {
   "cell_type": "code",
   "execution_count": 49,
   "metadata": {},
   "outputs": [
    {
     "name": "stdout",
     "output_type": "stream",
     "text": [
      "0.5427715469568997\n"
     ]
    }
   ],
   "source": [
    "y_pred = model.predict(valid)\n",
    "print(p_r2(valid.y, np.squeeze(y_pred)))\n"
   ]
  },
  {
   "cell_type": "code",
   "execution_count": 50,
   "metadata": {},
   "outputs": [
    {
     "data": {
      "text/plain": [
       "Text(0, 0.5, 'y_true')"
      ]
     },
     "execution_count": 50,
     "metadata": {},
     "output_type": "execute_result"
    },
    {
     "data": {
      "image/png": "[encoded data removed]",
      "text/plain": [
       "<Figure size 432x288 with 1 Axes>"
      ]
     },
     "metadata": {
      "needs_background": "light"
     },
     "output_type": "display_data"
    }
   ],
   "source": [
    "plt.scatter(np.squeeze(y_pred), np.squeeze(valid.y))\n",
    "plt.xlabel('y_pred')\n",
    "plt.ylabel('y_true')"
   ]
  },
  {
   "cell_type": "code",
   "execution_count": 51,
   "metadata": {},
   "outputs": [],
   "source": [
    "# Scatter plot agrees that we have signal.  But the vertical band is still quite wide\n",
    "# More important than determining score difference is how many games we call correct"
   ]
  },
  {
   "cell_type": "code",
   "execution_count": 52,
   "metadata": {},
   "outputs": [],
   "source": [
    "def p_correct_cat(y_true, y_pred):\n",
    "    n_correct = 0\n",
    "    for yt, yp in zip(y_true, y_pred):\n",
    "        if yt * yp > 0:\n",
    "            n_correct += 1\n",
    "    return n_correct / len(y_true)\n",
    "        "
   ]
  },
  {
   "cell_type": "code",
   "execution_count": 53,
   "metadata": {},
   "outputs": [
    {
     "data": {
      "text/plain": [
       "0.9599018003273322"
      ]
     },
     "execution_count": 53,
     "metadata": {},
     "output_type": "execute_result"
    }
   ],
   "source": [
    "p_correct_cat(valid.y, np.squeeze(y_pred))"
   ]
  },
  {
   "cell_type": "code",
   "execution_count": 54,
   "metadata": {},
   "outputs": [],
   "source": [
    "# So our unoptimized Neural Network is doing as well as the benchmark model of picking the higher ranked team\n",
    "# What happens now that we hyper parameter smash?"
   ]
  },
  {
   "cell_type": "code",
   "execution_count": 55,
   "metadata": {},
   "outputs": [],
   "source": [
    "# will create a list of hparams and then lay out models in\n",
    "# models/{key}/{fold_id}\n",
    "def eval_hprams(model, epochs, train_ds, valid_ds):\n",
    "    model.fit(train_ds, nb_epoch=epochs)\n",
    "    model.save()\n",
    "    y_pred = model.predict(valid_ds)\n",
    "    return p_r2(valid_ds.y, np.squeeze(y_pred))\n",
    "\n",
    "def eval_model(hps, key, folds):\n",
    "    vals = []\n",
    "    layer_sizes, dropout, epochs = hps[key]['layer_sizes'], hps[key]['dropout'], hps[key]['epochs']\n",
    "    for i, fold in enumerate(folds):\n",
    "        train, valid = fold\n",
    "        model_path = 'models/%s/%s' % (key, i)\n",
    "        model = MultitaskRegressor(1, n_features=train.X.shape[-1],\n",
    "                                             layer_sizes=layer_sizes, dropout=dropout,\n",
    "                                            model_dir=model_path)\n",
    "        retval = eval_hprams(model, epochs, train, valid)\n",
    "        vals.append(retval)\n",
    "    return np.mean(vals), np.std(vals)\n",
    "\n",
    "\n",
    "\n",
    "    "
   ]
  },
  {
   "cell_type": "code",
   "execution_count": null,
   "metadata": {},
   "outputs": [],
   "source": [
    "folds = [\n",
    "    (DiskDataset(data_dir='datasets/full_folds/train%s' % x),\n",
    "     DiskDataset(data_dir='datasets/full_folds/valid%s' % x)\n",
    "    ) for x in range(5)\n",
    "]\n",
    "folds = [(to_numpy(x[0]), to_numpy(x[1])) for x in folds]"
   ]
  },
  {
   "cell_type": "code",
   "execution_count": null,
   "metadata": {},
   "outputs": [],
   "source": [
    "import itertools\n",
    "hps = {}\n",
    "layer_sizes = [\n",
    "    [1000],\n",
    "    [64, 64],\n",
    "    [64, 32],\n",
    "    [64, 32, 16],\n",
    "    [256, 128]\n",
    "]\n",
    "\n",
    "dropouts = [\n",
    "    0.25, 0.35, 0.5, 0.0\n",
    "]\n",
    "\n",
    "epochs = [\n",
    "    25, 50, 100\n",
    "]\n",
    "index = 0\n",
    "for ls, dr, ep in itertools.product(layer_sizes, dropouts, epochs):\n",
    "    hps[index] = {\n",
    "        'layer_sizes': ls,\n",
    "        'dropout': dr,\n",
    "        'epochs': ep\n",
    "    }\n",
    "    index += 1\n"
   ]
  },
  {
   "cell_type": "code",
   "execution_count": null,
   "metadata": {},
   "outputs": [],
   "source": [
    "import random\n",
    "import numpy as np\n",
    "key_order = list(hps.keys())\n",
    "random.shuffle(key_order)\n",
    "print(key_order)\n",
    "\n",
    "for key in key_order:\n",
    "    retval = eval_model(hps, key, folds)\n",
    "    print(key, retval)\n",
    "    with open('metrics/results.txt', 'a') as fout:\n",
    "        fout.write(\"%s,%s,%s\\n\" % (key, retval[0], retval[1]))"
   ]
  },
  {
   "cell_type": "code",
   "execution_count": null,
   "metadata": {},
   "outputs": [],
   "source": [
    "import json\n",
    "with open('metrics/hps_0.json', 'w') as fout:\n",
    "    fout.write(json.dumps(hps))"
   ]
  },
  {
   "cell_type": "code",
   "execution_count": null,
   "metadata": {},
   "outputs": [],
   "source": [
    "# Start here for analysis of best model"
   ]
  },
  {
   "cell_type": "code",
   "execution_count": null,
   "metadata": {},
   "outputs": [],
   "source": [
    "results = [x.strip().split(',') for x in open('metrics/results.txt').readlines()]\n",
    "results = [[x[0], float(x[1]), float(x[2])] for x in results]\n",
    "results = sorted(results, key=lambda x: x[1] - 1.96 * x[2], reverse=True)\n",
    "results[:5]"
   ]
  },
  {
   "cell_type": "code",
   "execution_count": null,
   "metadata": {},
   "outputs": [],
   "source": [
    "import json\n",
    "hps = json.load(open('metrics/hps_0.json'))\n",
    "for result in results[:5]:\n",
    "    print(result[0], hps[result[0]])\n",
    "best_keys = [x[0] for x in results[:3]]"
   ]
  },
  {
   "cell_type": "code",
   "execution_count": null,
   "metadata": {},
   "outputs": [],
   "source": [
    "import pickle\n",
    "transformers = pickle.load(open('transformers.pkl', 'rb'))"
   ]
  },
  {
   "cell_type": "code",
   "execution_count": null,
   "metadata": {},
   "outputs": [],
   "source": [
    "d = json.load(open('team_fvs.json'))"
   ]
  },
  {
   "cell_type": "code",
   "execution_count": null,
   "metadata": {},
   "outputs": [],
   "source": [
    "bracket = [\n",
    "    'Duke',\n",
    "    'North+Dakota+St.',\n",
    "    'VCU',\n",
    "    'UCF',\n",
    "    'Mississippi+St.',\n",
    "    'Liberty',\n",
    "    'Virginia+Tech',\n",
    "    'Saint+Louis',\n",
    "    'Maryland',\n",
    "    'Temple',\n",
    "    'LSU',\n",
    "    'Yale',\n",
    "    'Louisville',\n",
    "    'Minnesota',\n",
    "    'Michigan+St.',\n",
    "    'Bradley',\n",
    "    \n",
    "    'Gonzaga',\n",
    "    'Fairleigh+Dickinson',\n",
    "    'Syracuse',\n",
    "    'Baylor',\n",
    "    'Marquette',\n",
    "    'Murray+St.',\n",
    "    'Florida+St.',\n",
    "    'Vermont',\n",
    "    'Buffalo',\n",
    "    'Arizona+St.',\n",
    "    'Texas+Tech',\n",
    "    'Northern+Kentucky',\n",
    "    'Nevada',\n",
    "    'Florida',\n",
    "    'Michigan',\n",
    "    'Montana',\n",
    "    \n",
    "    'Virginia',\n",
    "    'Gardner+Webb',\n",
    "    'Mississippi',\n",
    "    'Oklahoma',\n",
    "    'Wisconsin',\n",
    "    'Oregon',\n",
    "    'Kansas+St.',\n",
    "    'UC+Irvine',\n",
    "    'Villanova',\n",
    "    'Saint+Mary%27s',\n",
    "    'Purdue',\n",
    "    'Old+Dominion',\n",
    "    'Cincinnati',\n",
    "    'Iowa',\n",
    "    'Tennessee',\n",
    "    'Colgate',\n",
    "    \n",
    "    'North+Carolina',\n",
    "    'Iona',\n",
    "    'Utah+St.',\n",
    "    'Washington',\n",
    "    'Auburn',\n",
    "    'New+Mexico+St.',\n",
    "    'Kansas',\n",
    "    'Northeastern',\n",
    "    'Iowa+St.',\n",
    "    'Ohio+St.',\n",
    "    'Houston',\n",
    "    'Georgia+St.',\n",
    "    'Wofford',\n",
    "    'Seton+Hall',\n",
    "    'Kentucky',\n",
    "    'Abilene+Christian'\n",
    "]\n",
    "bracket = [\"%s&y=2019\" % x for x in bracket]\n",
    "for team in bracket:\n",
    "    if team not in d:\n",
    "        print(team)"
   ]
  },
  {
   "cell_type": "code",
   "execution_count": null,
   "metadata": {},
   "outputs": [],
   "source": [
    "from ligand_ml.models.tensorflow.tensor_graph import TensorGraph\n",
    "from ligand_ml.models.tensorflow.fcnet import MultitaskRegressor\n",
    "from ligand_ml.data import DiskDataset, NumpyDataset\n",
    "from sklearn.metrics import r2_score\n",
    "import numpy as np\n",
    "import os\n",
    "\n",
    "def eval_model(model_paths, ds):\n",
    "    retval = []\n",
    "    for model_path in model_paths:\n",
    "        for i in range(5):\n",
    "            my_path = os.path.join(model_path, str(i))\n",
    "            model = TensorGraph.load_from_dir(my_path)\n",
    "            model_preds = np.array(model.predict(ds))\n",
    "            model_preds = np.reshape(model_preds, newshape=(-1,1))\n",
    "            retval.append(model_preds)\n",
    "    grid = np.concatenate(retval, axis=1)\n",
    "    return np.mean(grid, axis=1)\n",
    "\n",
    "def load_fvs():\n",
    "    with open('team_fvs.json') as fin:\n",
    "        d = json.loads(fin.read())\n",
    "        return {k:v[0] for k,v in d.items()}\n",
    "\n",
    "def load_transformers():\n",
    "    with open('transformers.pkl', 'rb') as fin:\n",
    "        return pickle.load(fin)\n",
    "    \n",
    "def ds_from_bracket(bracket, transformers, all_teams):\n",
    "    X = []\n",
    "    index = []\n",
    "    for i in range(len(bracket)):\n",
    "        for j in range(i+1, len(bracket)):\n",
    "            t1 = bracket[i]\n",
    "            t2 = bracket[j]\n",
    "            fv1 = d[t1][0] + d[t2][0]\n",
    "            fv2 = d[t2][0] + d[t1][0]\n",
    "            index.append((t1,t2))\n",
    "            X.append(fv1)\n",
    "            X.append(fv2)\n",
    "    X = np.array(X)\n",
    "    y = np.ones(shape=(len(X),))\n",
    "    ds = NumpyDataset(X, y)\n",
    "    for transformer in transformers:\n",
    "        ds = transformer.transform(ds)\n",
    "    return ds, index\n",
    "            \n",
    "def conjoin_games(l):\n",
    "    true_scores = []\n",
    "    for i in range(0, len(l), 2):\n",
    "        my_score = (l[i] + l[i+1] * -1) / 2\n",
    "        true_scores.append(my_score)\n",
    "    return true_scores\n",
    "    \n",
    "def play_tourney(bracket, best_models=[36]):\n",
    "    model_paths = ['models/%s' % i for i in best_models]\n",
    "    transformers = load_transformers()\n",
    "    all_teams = load_fvs()\n",
    "    ds, games = ds_from_bracket(bracket, transformers, all_teams)\n",
    "    retval = eval_model(model_paths, ds)\n",
    "    true_scores = conjoin_games(retval)\n",
    "    return {x:y for x,y in zip(games, true_scores)}\n",
    "    "
   ]
  },
  {
   "cell_type": "code",
   "execution_count": null,
   "metadata": {},
   "outputs": [],
   "source": [
    "bracket_results = play_tourney(bracket, best_models=[str(x) for x in best_keys])"
   ]
  },
  {
   "cell_type": "code",
   "execution_count": null,
   "metadata": {},
   "outputs": [],
   "source": [
    "def print_pretty(team_names):\n",
    "    l = [x.split('&y')[0] for x in team_names]\n",
    "    print(l)\n",
    "\n",
    "def print_winners(bracket, bracket_results):\n",
    "    l = list(bracket)\n",
    "    new_l = []\n",
    "    while len(l) > 1:\n",
    "        for i in range(0, len(l), 2):\n",
    "            key = l[i], l[i+1]\n",
    "            game_result = bracket_results[key]\n",
    "            if game_result > 0:\n",
    "                new_l.append(l[i])\n",
    "            else:\n",
    "                new_l.append(l[i+1])\n",
    "        print(\"Round of %s\" % len(new_l))\n",
    "        print_pretty(new_l)\n",
    "        l = new_l\n",
    "        new_l = []"
   ]
  },
  {
   "cell_type": "code",
   "execution_count": null,
   "metadata": {},
   "outputs": [],
   "source": [
    "print_winners(bracket, bracket_results)"
   ]
  },
  {
   "cell_type": "code",
   "execution_count": null,
   "metadata": {},
   "outputs": [],
   "source": []
  }
 ],
 "metadata": {
  "kernelspec": {
   "display_name": "Python 3",
   "language": "python",
   "name": "python3"
  },
  "language_info": {
   "codemirror_mode": {
    "name": "ipython",
    "version": 3
   },
   "file_extension": ".py",
   "mimetype": "text/x-python",
   "name": "python",
   "nbconvert_exporter": "python",
   "pygments_lexer": "ipython3",
   "version": "3.6.7"
  }
 },
 "nbformat": 4,
 "nbformat_minor": 4
}
