{
 "cells": [
  {
   "cell_type": "code",
   "execution_count": 88,
   "metadata": {},
   "outputs": [],
   "source": [
    "# %load source/run_bracket.py\n",
    "import deepchem as dc\n",
    "import numpy as np\n",
    "import pickle\n",
    "import json\n",
    "import os\n",
    "import re\n",
    "\n",
    "keywords = [\n",
    "    'RankAdjOE',\n",
    "    'RankAdjDE',\n",
    "    'RankAdjTempo',\n",
    "    'RankAPL_Off',\n",
    "    'RankAPL_Def',\n",
    "    'RankeFG_Pct',\n",
    "    'RankDeFG_Pct',\n",
    "    'RankTO_Pct',\n",
    "    'RankDTO_Pct',\n",
    "    'RankOR_Pct',\n",
    "    'RankDOR_Pct',\n",
    "    'RankFT_Rate',\n",
    "    'RankDFT_Rate',\n",
    "    'RankDFT_Rate',\n",
    "    'RankFG3Pct',\n",
    "    'RankFG3Pct&od=d',\n",
    "    'RankFG2Pct',\n",
    "    'RankFG2Pct&od=d',\n",
    "    'RankFTPct',\n",
    "    'RankFTPct&od=d',\n",
    "    'RankBlockPct',\n",
    "    'RankBlockPct&od=d',\n",
    "    'RankStlRate',\n",
    "    'RankStlRate&od=d',\n",
    "    'RankF3GRate',\n",
    "    'RankF3GRate&od=d',\n",
    "    'RankARate',\n",
    "    'RankARate&od=d',\n",
    "    'RankOff_3',\n",
    "    'RankDef_3',\n",
    "    'RankOff_2',\n",
    "    'RankDef_2',\n",
    "    'RankOff_1',\n",
    "    'RankDef_1',\n",
    "    'RankSOSO',\n",
    "    'RankSOSD',\n",
    "    'ExpRank',\n",
    "    'SizeRank',\n",
    "]\n",
    "\n",
    "def get_feature_vector(html_str):\n",
    "    fv = []\n",
    "    for keyword in keywords:\n",
    "        pattern = '%s.*>(\\d+\\.\\d+)' % keyword\n",
    "        val = re.findall(pattern, html_str)[-1]\n",
    "        fv.append(float(val))\n",
    "    return fv\n",
    "\n",
    "def score_to_diff(s, neg=False):\n",
    "    s = [float(x) for x in s.split('-')]\n",
    "    v = abs(s[0] - s[1])\n",
    "    if neg:\n",
    "        return -1 * v\n",
    "    return v\n",
    "\n",
    "def get_wins_losses(html_str):\n",
    "    pat = 'team.php.*?=(.*?)\".*>W<.* (\\d+-\\d+).*\\n'\n",
    "    wins = re.findall(pat, html_str)\n",
    "    wins = [(x[0], score_to_diff(x[1])) for x in wins]\n",
    "\n",
    "    pat = 'team.php.*?=(.*?)\".*>L<.* (\\d+-\\d+).*\\n'\n",
    "    losses = re.findall(pat, html_str)\n",
    "    losses = [(x[0], score_to_diff(x[1], True)) for x in losses]\n",
    "    return wins + losses\n",
    "\n",
    "def parse_html_file(html_str):\n",
    "    \"\"\"\n",
    "    return feature_vector, list of (oppenent, +- score)\n",
    "    \"\"\"\n",
    "    fv = get_feature_vector(html_str)\n",
    "    wl = get_wins_losses(html_str)\n",
    "    return fv, wl\n",
    "\n",
    "def get_team_dict():\n",
    "    html_files = os.listdir('raw_data')\n",
    "    html_files = list(filter(lambda x: x.find('2017') == -1, html_files))\n",
    "    d = {}\n",
    "    for html_file in html_files:\n",
    "        html_str = open('raw_data/%s' % html_file).read()\n",
    "        team_name = html_file[:-5]\n",
    "        d[team_name] = parse_html_file(html_str)\n",
    "    return d\n",
    "\n",
    "def get_transformers():\n",
    "    transformers = pickle.load(open('transformers.pkl', 'rb'))\n",
    "    return transformers\n",
    "\n",
    "def play_game(t1, t2, team_dict, keys=['27_all_data']):\n",
    "    fv1 = team_dict[t1][0]\n",
    "    fv2 = team_dict[t2][0]\n",
    "    g1 = fv1 + fv2\n",
    "    g2 = fv2 + fv1\n",
    "    ds = dc.data.NumpyDataset(np.array([g1,g2]))\n",
    "    for trans in get_transformers():\n",
    "        ds = trans.transform(ds)\n",
    "    y_pred = max_min_ensemble(predict(keys, ds))[:,0]\n",
    "    final_score = y_pred[0] + -1 * y_pred[1]\n",
    "    print(final_score)\n",
    "    if final_score > 0:\n",
    "        return t1, abs(final_score)\n",
    "    return t2, abs(final_score)\n",
    "\n",
    "def play_tourney(bracket):\n",
    "    team_dict = get_team_dict()\n",
    "    teams_left = bracket\n",
    "    all_winners, all_scores = list(), list()\n",
    "    while len(teams_left) > 1:\n",
    "        print(len(teams_left))\n",
    "        winners = []\n",
    "        scores = []\n",
    "        for i in range(0, len(teams_left), 2):\n",
    "            t1, t2 = teams_left[i], teams_left[i+1]\n",
    "            winner, score = play_game(t1, t2, team_dict)\n",
    "            winners.append(winner)\n",
    "            scores.append(score)\n",
    "        teams_left = winners\n",
    "        all_winners.append(winners)\n",
    "        all_scores.append(scores)\n",
    "    return all_winners, all_scores\n",
    "\n",
    "def predict(keys, ds):\n",
    "    retval = None\n",
    "    for key in keys:\n",
    "        for fold in range(5):\n",
    "            model_dir = 'models/%s/%s' % (key, fold)\n",
    "            print(model_dir)\n",
    "            model = dc.models.TensorGraph.load_from_dir(model_dir)\n",
    "            y_pred = model.predict(ds)\n",
    "            y_pred = np.reshape(y_pred, newshape=(y_pred.shape[0], 1))\n",
    "            if retval is None:\n",
    "                retval = y_pred\n",
    "            else:\n",
    "                retval = np.concatenate([retval, y_pred], axis=1)\n",
    "    return retval\n",
    "\n",
    "def max_min_ensemble(y_pred):\n",
    "  results = []\n",
    "  for row in range(y_pred.shape[0]):\n",
    "    r_dat = y_pred[row, :].tolist()\n",
    "    r_dat.remove(max(r_dat))\n",
    "    r_dat.remove(min(r_dat))\n",
    "    mean = np.mean(r_dat)\n",
    "    std = np.std(r_dat)\n",
    "    results.append((mean, std))\n",
    "  return np.array(results)\n",
    "\n",
    "def get_bracket(year=208):\n",
    "    bracket = [\n",
    "        'Virginia',\n",
    "        'UMBC',\n",
    "        'Creighton',\n",
    "        'Kansas+St.',\n",
    "        'Kentucky',\n",
    "        'Davidson',\n",
    "        'Arizona',\n",
    "        'Buffalo',\n",
    "        'Miami+FL',\n",
    "        \"Loyola+Chicago\",\n",
    "        'Tennessee',\n",
    "        'Wright+St.',\n",
    "        'Nevada',\n",
    "        'Texas',\n",
    "        'Cincinnati',\n",
    "        'Georgia+St.',\n",
    "\n",
    "        'Xavier',\n",
    "        'Texas+Southern',\n",
    "        'Missouri',\n",
    "        'Florida+St.',\n",
    "        'Ohio+St.',\n",
    "        'South+Dakota+St.',\n",
    "        'Gonzaga',\n",
    "        'UNC+Greensboro',\n",
    "        'Houston',\n",
    "        'San+Diego+St.',\n",
    "        'Michigan',\n",
    "        'Montana',\n",
    "        'Texas+A%26M',\n",
    "        'Providence',\n",
    "        'North+Carolina',\n",
    "        'Lipscomb',\n",
    "\n",
    "        'Villanova',\n",
    "        'Radford',\n",
    "        'Virginia+Tech',\n",
    "        'Alabama',\n",
    "        'West+Virginia',\n",
    "        'Murray+St.',\n",
    "        'Wichita+St.',\n",
    "        'Marshall',\n",
    "        'Florida',\n",
    "        'UCLA',\n",
    "        'Texas+Tech',\n",
    "        'Stephen+F.+Austin',\n",
    "        'Arkansas',\n",
    "        'Butler',\n",
    "        'Purdue',\n",
    "        'Cal+St.+Fullerton',\n",
    "\n",
    "        'Kansas',\n",
    "        'Penn',\n",
    "        'Seton+Hall',\n",
    "        'North+Carolina+St.',\n",
    "        'Clemson',\n",
    "        'New+Mexico+St.',\n",
    "        'Auburn',\n",
    "        'College+of+Charleston',\n",
    "        'TCU',\n",
    "        'Arizona+St.',\n",
    "        'Michigan+St.',\n",
    "        'Bucknell',\n",
    "        'Rhode+Island',\n",
    "        'Oklahoma',\n",
    "        'Duke',\n",
    "        'Iona'\n",
    "    ]\n",
    "    return bracket\n",
    "\n",
    "def run_full_bracket():\n",
    "    bracket = get_bracket()\n",
    "    all_winners, all_scores = play_tourney(bracket)\n",
    "    print(all_winners)\n",
    "    print(all_scores)\n",
    "    with open('2018_final_winners.json', 'w') as fout:\n",
    "        s = json.dumps(all_winners)\n",
    "        fout.write(s)\n",
    "    with open('2018_final_scores.json', 'w') as fout:\n",
    "        s = json.dumps(all_scores)\n",
    "        fout.write(s)\n",
    "\n",
    "def play_one_game(t1, t2):\n",
    "    team_dict = get_team_dict()\n",
    "    retval = play_game(t1, t2, team_dict)\n",
    "    return retval[0], retval[1] * 16.0\n",
    "\n",
    "\n",
    "if __name__ == \"__main__\":\n",
    "    pass\n",
    "    #run_full_bracket()\n",
    "    #print(play_one_game('Virginia', 'Arizona'))\n",
    "    #print(play_one_game('Virginia', 'Kentucky'))\n",
    "    #print(play_one_game('Duke', 'Michigan+St.'))\n",
    "    #print(play_one_game('Duke', 'Kansas'))\n",
    "    #print(play_one_game('Radford', 'LIU+Brooklyn'))\n",
    "    #print(play_one_game('Arizona+St.', 'Syracuse'))\n",
    "    #print(play_one_game('St.+Bonaventure', 'UCLA'))\n",
    "    #print(play_one_game('North+Carolina+Central', 'Texas+Southern'))\n",
    "\n",
    "\n"
   ]
  },
  {
   "cell_type": "code",
   "execution_count": 10,
   "metadata": {},
   "outputs": [],
   "source": [
    "transformers = pickle.load(open('transformers.pkl', 'rb'))\n",
    "    "
   ]
  },
  {
   "cell_type": "code",
   "execution_count": 15,
   "metadata": {},
   "outputs": [
    {
     "name": "stdout",
     "output_type": "stream",
     "text": [
      "Loading dataset from disk.\n",
      "INFO:tensorflow:Restoring parameters from models/27_all_data/0/model-4375\n",
      "Loading dataset from disk.\n",
      "INFO:tensorflow:Restoring parameters from models/27_all_data/0/model-4375\n",
      "Loading dataset from disk.\n",
      "INFO:tensorflow:Restoring parameters from models/27_all_data/0/model-4375\n",
      "Loading dataset from disk.\n",
      "INFO:tensorflow:Restoring parameters from models/27_all_data/0/model-4375\n",
      "Loading dataset from disk.\n",
      "INFO:tensorflow:Restoring parameters from models/27_all_data/0/model-4375\n"
     ]
    }
   ],
   "source": [
    "def reverse_ds(ds):\n",
    "    X = ds.X\n",
    "    y = ds.y\n",
    "    y = y * -1\n",
    "    l = X.shape[-1] //2\n",
    "    t1 = X[:,0:l]\n",
    "    t2 = X[:,l:]\n",
    "    new_x = np.concatenate([t2,t1], axis=1)\n",
    "    return dc.data.NumpyDataset(new_x,  y, ds.w, ds.ids)\n",
    "\n",
    "def get_y_pred_for_fold(fold):\n",
    "    fold=0\n",
    "    ds = dc.data.DiskDataset('datasets/2018_2017_folds/valid%s' % fold)\n",
    "    model_dir = 'models/27_all_data/%s' %  fold\n",
    "    model = dc.models.TensorGraph.load_from_dir(model_dir)\n",
    "    y_pred1 = model.predict(ds)\n",
    "    y_pred2 = model.predict(reverse_ds(ds)) * -1\n",
    "    y_pred = y_pred1 + y_pred2\n",
    "    y_pred = y_pred * 0.5\n",
    "    y_pred = np.squeeze(y_pred)\n",
    "    return y_pred, np.squeeze(ds.y)\n",
    "\n",
    "cv_scores = []\n",
    "for i in range(5):\n",
    "    cv_scores.append(get_y_pred_for_fold(i))\n",
    "full_pred = np.concatenate([x[0] for x in cv_scores]) * transformers[-1].y_stds[0]\n",
    "full_true = np.concatenate([x[1] for x in cv_scores]) * transformers[-1].y_stds[0]"
   ]
  },
  {
   "cell_type": "code",
   "execution_count": 17,
   "metadata": {},
   "outputs": [],
   "source": [
    "def kround(number):\n",
    "    return round(number * 2) / 2\n",
    "\n",
    "diff_buckets = [kround(x) for x in full_pred.tolist()]\n",
    "\n",
    "\n"
   ]
  },
  {
   "cell_type": "code",
   "execution_count": 20,
   "metadata": {},
   "outputs": [],
   "source": [
    "# I want to give p(win|X==x) for each bucket\n",
    "d = {}\n",
    "for diff, t in zip(diff_buckets, full_true):\n",
    "    if diff not in d:\n",
    "        d[diff] = np.array([0,0])\n",
    "    if t > 0:\n",
    "        d[diff][1] += 1\n",
    "    else:\n",
    "        d[diff][0] += 1\n",
    "    "
   ]
  },
  {
   "cell_type": "code",
   "execution_count": 47,
   "metadata": {},
   "outputs": [],
   "source": [
    "keys = sorted(set([abs(x) for x in d.keys()]))\n",
    "p_win = []\n",
    "for k in keys:\n",
    "    if k not in d or -k not in d:\n",
    "        p_win.append(1.0)\n",
    "        continue\n",
    "    floss, cwin = d[k][0], d[k][1]\n",
    "    closs, fwin = d[-1*k][0], d[-1*k][1]\n",
    "    prob = (closs + cwin) / (floss + cwin + closs + fwin)\n",
    "    p_win.append(prob)\n",
    "total_games = []\n",
    "for k in keys:\n",
    "    total = 0\n",
    "    if k in d:\n",
    "        total = total + d[k][0] + d[k][1]\n",
    "    if -k in d:\n",
    "        total = total + d[-1*k][0] + d[-1*k][1]\n",
    "    total_games.append(total)"
   ]
  },
  {
   "cell_type": "code",
   "execution_count": 48,
   "metadata": {},
   "outputs": [
    {
     "data": {
      "text/plain": [
       "<matplotlib.collections.PathCollection at 0x13244fe10>"
      ]
     },
     "execution_count": 48,
     "metadata": {},
     "output_type": "execute_result"
    },
    {
     "data": {
      "image/png": "[encoded data removed]",
      "text/plain": [
       "<matplotlib.figure.Figure at 0x1323ad4a8>"
      ]
     },
     "metadata": {},
     "output_type": "display_data"
    }
   ],
   "source": [
    "plt.scatter(keys, p_win)"
   ]
  },
  {
   "cell_type": "code",
   "execution_count": 49,
   "metadata": {},
   "outputs": [
    {
     "data": {
      "text/plain": [
       "<matplotlib.collections.PathCollection at 0x132516c18>"
      ]
     },
     "execution_count": 49,
     "metadata": {},
     "output_type": "execute_result"
    },
    {
     "data": {
      "image/png": "[encoded data removed]",
      "text/plain": [
       "<matplotlib.figure.Figure at 0x13246fc88>"
      ]
     },
     "metadata": {},
     "output_type": "display_data"
    }
   ],
   "source": [
    "plt.scatter(keys, total_games)"
   ]
  },
  {
   "cell_type": "code",
   "execution_count": 19,
   "metadata": {
    "scrolled": true
   },
   "outputs": [
    {
     "data": {
      "text/plain": [
       "(array([  210.,   785.,  1195.,  3415.,  5635.,  5810.,  3085.,  1000.,\n",
       "          565.,   130.]),\n",
       " array([-33.5, -26.7, -19.9, -13.1,  -6.3,   0.5,   7.3,  14.1,  20.9,\n",
       "         27.7,  34.5]),\n",
       " <a list of 10 Patch objects>)"
      ]
     },
     "execution_count": 19,
     "metadata": {},
     "output_type": "execute_result"
    },
    {
     "data": {
      "image/png": "[encoded data removed]",
      "text/plain": [
       "<matplotlib.figure.Figure at 0x13046d940>"
      ]
     },
     "metadata": {},
     "output_type": "display_data"
    }
   ],
   "source": [
    "plt.hist(diff_buckets)"
   ]
  },
  {
   "cell_type": "code",
   "execution_count": 50,
   "metadata": {},
   "outputs": [
    {
     "data": {
      "text/plain": [
       "<matplotlib.collections.PathCollection at 0x1325e1c88>"
      ]
     },
     "execution_count": 50,
     "metadata": {},
     "output_type": "execute_result"
    },
    {
     "data": {
      "image/png": "[encoded data removed]",
      "text/plain": [
       "<matplotlib.figure.Figure at 0x132421320>"
      ]
     },
     "metadata": {},
     "output_type": "display_data"
    }
   ],
   "source": [
    "# pin and turn into sliding window to smooth out the probabilities\n",
    "mp_win = [p_win[0]]\n",
    "for i in range(1, len(p_win)-1):\n",
    "    prob = p_win[i-1] + p_win[i] + p_win[i+1]\n",
    "    prob = prob / 3.0\n",
    "    mp_win.append(prob)\n",
    "mp_win.append(p_win[-1])\n",
    "plt.scatter(keys, mp_win)"
   ]
  },
  {
   "cell_type": "code",
   "execution_count": 51,
   "metadata": {},
   "outputs": [],
   "source": [
    "import json\n",
    "probabilities_keys = {k:v for k,v in zip(keys, mp_win)}\n",
    "with open('probabilities.json', 'w') as fout:\n",
    "    fout.write(json.dumps(probabilities_keys))\n",
    "        "
   ]
  },
  {
   "cell_type": "code",
   "execution_count": 52,
   "metadata": {},
   "outputs": [],
   "source": [
    "bracket = get_bracket()\n"
   ]
  },
  {
   "cell_type": "code",
   "execution_count": 57,
   "metadata": {},
   "outputs": [],
   "source": [
    "t_ids = [x.strip().split(',') for x in open('kaggle/Teams.csv').readlines()][1:]"
   ]
  },
  {
   "cell_type": "code",
   "execution_count": 145,
   "metadata": {},
   "outputs": [],
   "source": [
    "import re\n",
    "def to_my_format(s):\n",
    "    d1 = {\n",
    "        \"S Dakota St\": \"South+Dakota+St.\",\n",
    "        \"TX Southern\": \"Texas+Southern\",\n",
    "        \"SF Austin\": \"Stephen+F.+Austin\",\n",
    "        \"CS Fullerton\": \"Cal+St.+Fullerton\",\n",
    "        \"NC State\": \"North+Carolina+St.\",\n",
    "        \"Col Charleston\": \"College+of+Charleston\",\n",
    "        \"Long Island\": \"LIU+Brooklyn\",\n",
    "        \"NC Central\": 'North+Carolina+Central',\n",
    "    }\n",
    "    if s in d1:\n",
    "        return d1[s]\n",
    "    s = s.replace(' ', '+')\n",
    "    s = s.replace('-', '+')\n",
    "    s = s.replace('St', 'St.')\n",
    "    s = s.replace('&', '%26')\n",
    "    return s\n",
    "\n",
    "def formated_ids(t_ids):\n",
    "    retval = []\n",
    "    for k, v in t_ids:\n",
    "        retval.append([k, to_my_format(v)])\n",
    "    return retval\n",
    "\n",
    "def find_missing(t_ids, bracket):\n",
    "    ft_ids = [x[1] for x in formated_ids(t_ids)]\n",
    "    for team in bracket:\n",
    "        if team not in ft_ids:\n",
    "            print(team)\n",
    "    \n",
    "find_missing(t_ids, bracket)"
   ]
  },
  {
   "cell_type": "code",
   "execution_count": 146,
   "metadata": {},
   "outputs": [],
   "source": [
    "first_four = [\n",
    "    'Radford',\n",
    "    \"LIU+Brooklyn\",\n",
    "    'Arizona+St.', \n",
    "    'Syracuse',\n",
    "    'St.+Bonaventure', \n",
    "    'UCLA',\n",
    "    'North+Carolina+Central',\n",
    "    'Texas+Southern'\n",
    "]\n",
    "find_missing(t_ids, first_four)"
   ]
  },
  {
   "cell_type": "code",
   "execution_count": 147,
   "metadata": {},
   "outputs": [],
   "source": [
    "def create_name_map(k_ids, m_ids):\n",
    "    ft_ids = [x[1] for x in formated_ids(t_ids)]\n",
    "    d = {k: v for k,v in zip (ft_ids, [x[0] for x in t_ids])}\n",
    "    return d\n",
    "name_map = create_name_map(t_ids, bracket+first_four)"
   ]
  },
  {
   "cell_type": "code",
   "execution_count": 185,
   "metadata": {},
   "outputs": [
    {
     "name": "stdout",
     "output_type": "stream",
     "text": [
      "68\n"
     ]
    }
   ],
   "source": [
    "def create_game_vector(t1, t2, team_dict):\n",
    "    fv1 = team_dict[t1][0]\n",
    "    fv2 = team_dict[t2][0]\n",
    "    return fv1 + fv2\n",
    "\n",
    "def create_all_games_ds(team_list):\n",
    "    team_list = list(set(team_list))\n",
    "    print(len(team_list))\n",
    "    team_dict = get_team_dict()\n",
    "    ids = []\n",
    "    fvs = []\n",
    "    for i in range(len(team_list)):\n",
    "        for j in range(i+1, len(team_list)):\n",
    "            t1 = team_list[i]\n",
    "            t2 = team_list[j]\n",
    "            fv = create_game_vector(t1, t2, team_dict)\n",
    "            fvs.append(fv)\n",
    "            ids.append(\"%s,%s\" % (t1,t2))\n",
    "    ds = dc.data.NumpyDataset(np.array(fvs), None, None, ids)\n",
    "    for trans in transformers:\n",
    "        ds = trans.transform(ds)\n",
    "    return ds\n",
    "\n",
    "ds = create_all_games_ds(bracket + first_four)\n",
    "    "
   ]
  },
  {
   "cell_type": "code",
   "execution_count": 186,
   "metadata": {},
   "outputs": [],
   "source": [
    "def run_ds(ds):\n",
    "    keys = ['27_all_data']\n",
    "    y_pred1 = max_min_ensemble(predict(keys, ds))[:,0]\n",
    "    y_pred2 = max_min_ensemble(predict(keys, reverse_ds(ds)))[:,0] * -1\n",
    "    y_pred = y_pred1 + y_pred2\n",
    "    y_pred = y_pred * 0.5\n",
    "    return np.squeeze(y_pred)\n"
   ]
  },
  {
   "cell_type": "code",
   "execution_count": 187,
   "metadata": {},
   "outputs": [
    {
     "name": "stdout",
     "output_type": "stream",
     "text": [
      "models/27_all_data/0\n",
      "INFO:tensorflow:Restoring parameters from models/27_all_data/0/model-4375\n",
      "models/27_all_data/1\n",
      "INFO:tensorflow:Restoring parameters from models/27_all_data/1/model-4375\n",
      "models/27_all_data/2\n",
      "INFO:tensorflow:Restoring parameters from models/27_all_data/2/model-4375\n",
      "models/27_all_data/3\n",
      "INFO:tensorflow:Restoring parameters from models/27_all_data/3/model-4375\n",
      "models/27_all_data/4\n",
      "INFO:tensorflow:Restoring parameters from models/27_all_data/4/model-4375\n",
      "models/27_all_data/0\n",
      "INFO:tensorflow:Restoring parameters from models/27_all_data/0/model-4375\n",
      "models/27_all_data/1\n",
      "INFO:tensorflow:Restoring parameters from models/27_all_data/1/model-4375\n",
      "models/27_all_data/2\n",
      "INFO:tensorflow:Restoring parameters from models/27_all_data/2/model-4375\n",
      "models/27_all_data/3\n",
      "INFO:tensorflow:Restoring parameters from models/27_all_data/3/model-4375\n",
      "models/27_all_data/4\n",
      "INFO:tensorflow:Restoring parameters from models/27_all_data/4/model-4375\n"
     ]
    }
   ],
   "source": [
    "y_pred = run_ds(ds)"
   ]
  },
  {
   "cell_type": "code",
   "execution_count": 188,
   "metadata": {},
   "outputs": [
    {
     "data": {
      "text/plain": [
       "array([ 1.05731906, -0.0974022 ,  0.10632914, ...,  0.72114081,\n",
       "        0.41854328, -0.30462901])"
      ]
     },
     "execution_count": 188,
     "metadata": {},
     "output_type": "execute_result"
    }
   ],
   "source": [
    "y_pred"
   ]
  },
  {
   "cell_type": "code",
   "execution_count": 189,
   "metadata": {},
   "outputs": [
    {
     "data": {
      "text/plain": [
       "array(['Wichita+St.,Wright+St.', 'Wichita+St.,Gonzaga',\n",
       "       'Wichita+St.,Texas+A%26M', ..., 'Houston,Marshall',\n",
       "       'Houston,South+Dakota+St.', 'Marshall,South+Dakota+St.'], dtype=object)"
      ]
     },
     "execution_count": 189,
     "metadata": {},
     "output_type": "execute_result"
    }
   ],
   "source": [
    "ds.ids"
   ]
  },
  {
   "cell_type": "code",
   "execution_count": 190,
   "metadata": {},
   "outputs": [],
   "source": [
    "def points_to_prob(points, probabilities_keys):\n",
    "    points = kround(points)\n",
    "    is_neg = False\n",
    "    if points < 0:\n",
    "        is_neg = True\n",
    "        points *= -1\n",
    "    if points not in probabilities_keys:\n",
    "        return 1.0\n",
    "    my_prob = probabilities_keys[points]\n",
    "    if is_neg:\n",
    "        return 1.0 - my_prob\n",
    "    return my_prob\n",
    "        \n",
    "\n",
    "def format_kaggle(y_pred, ids, probabilities_keys, name_map):\n",
    "    assert len(y_pred) == len(ids)\n",
    "    retval = []\n",
    "    for i in range(len(y_pred)):\n",
    "        pred = y_pred[i] * transformers[-1].y_stds[0]\n",
    "        t1, t2 = ids[i].split(',')\n",
    "        t1, t2 = name_map[t1], name_map[t2]\n",
    "        if t1 > t2:\n",
    "            t1,t2 = t2,t1\n",
    "            pred *= -1\n",
    "        pred = points_to_prob(pred, probabilities_keys)\n",
    "        retval.append([t1,t2,pred])\n",
    "    return retval\n",
    "\n",
    "final_answer = format_kaggle(y_pred, ds.ids, probabilities_keys, name_map)\n",
    "    "
   ]
  },
  {
   "cell_type": "code",
   "execution_count": 191,
   "metadata": {},
   "outputs": [
    {
     "data": {
      "text/plain": [
       "(array([ 293.,  198.,  196.,  211.,  248.,  275.,  200.,  175.,  161.,  321.]),\n",
       " array([ 0. ,  0.1,  0.2,  0.3,  0.4,  0.5,  0.6,  0.7,  0.8,  0.9,  1. ]),\n",
       " <a list of 10 Patch objects>)"
      ]
     },
     "execution_count": 191,
     "metadata": {},
     "output_type": "execute_result"
    },
    {
     "data": {
      "image/png": "[encoded data removed]",
      "text/plain": [
       "<matplotlib.figure.Figure at 0x137662320>"
      ]
     },
     "metadata": {},
     "output_type": "display_data"
    }
   ],
   "source": [
    "plt.hist([x[2] for x in final_answer])"
   ]
  },
  {
   "cell_type": "code",
   "execution_count": 192,
   "metadata": {},
   "outputs": [],
   "source": [
    "def juice_prob(p):\n",
    "    if p < 0.5:\n",
    "        return max(p - 0.2, 0.0)\n",
    "    return min(p + 0.2, 1.0)\n",
    "juiced_answers = [[x[0], x[1], juice_prob(x[2])] for x in final_answer]"
   ]
  },
  {
   "cell_type": "code",
   "execution_count": 193,
   "metadata": {},
   "outputs": [
    {
     "data": {
      "text/plain": [
       "(array([ 687.,  211.,  248.,    0.,    0.,    0.,   45.,  230.,  200.,  657.]),\n",
       " array([ 0. ,  0.1,  0.2,  0.3,  0.4,  0.5,  0.6,  0.7,  0.8,  0.9,  1. ]),\n",
       " <a list of 10 Patch objects>)"
      ]
     },
     "execution_count": 193,
     "metadata": {},
     "output_type": "execute_result"
    },
    {
     "data": {
      "image/png": "[encoded data removed]",
      "text/plain": [
       "<matplotlib.figure.Figure at 0x1370aaf60>"
      ]
     },
     "metadata": {},
     "output_type": "display_data"
    }
   ],
   "source": [
    "plt.hist([x[2] for x in juiced_answers])"
   ]
  },
  {
   "cell_type": "code",
   "execution_count": 205,
   "metadata": {},
   "outputs": [],
   "source": [
    "with open('kaggle/submission_with_juice.csv', 'w') as fout:\n",
    "    fout.write('id,pred\\n')\n",
    "    for t1,t2,pred in juiced_answers:\n",
    "        s = \"2018_%s_%s,%s\\n\" % (t1,t2,pred)\n",
    "        fout.write(s)"
   ]
  },
  {
   "cell_type": "code",
   "execution_count": 206,
   "metadata": {},
   "outputs": [],
   "source": [
    "with open('kaggle/submission_no_juice.csv', 'w') as fout:\n",
    "    fout.write('id,pred\\n')\n",
    "    for t1,t2,pred in final_answer:\n",
    "        s = \"2018_%s_%s,%s\\n\" % (t1,t2,pred)\n",
    "        fout.write(s)"
   ]
  },
  {
   "cell_type": "code",
   "execution_count": 196,
   "metadata": {},
   "outputs": [
    {
     "name": "stdout",
     "output_type": "stream",
     "text": [
      "0.0\n"
     ]
    }
   ],
   "source": [
    "rev_name_map = {v:k for k,v in name_map.items()}\n",
    "for t1,t2,pred in final_answer:\n",
    "    t1, t2 = rev_name_map[t1], rev_name_map[t2]\n",
    "    if t1=='UMBC' and t2 =='Virginia':\n",
    "        print(pred)"
   ]
  },
  {
   "cell_type": "code",
   "execution_count": 197,
   "metadata": {},
   "outputs": [
    {
     "name": "stdout",
     "output_type": "stream",
     "text": [
      "LIU+Brooklyn Radford\n",
      "0.144457671958\n"
     ]
    }
   ],
   "source": [
    "for t1,t2,pred in juiced_answers:\n",
    "    t1, t2 = rev_name_map[t1], rev_name_map[t2]\n",
    "    if t1 == \"LIU+Brooklyn\" and t2=='Radford':\n",
    "        print(t1,t2)\n",
    "        print(pred)"
   ]
  },
  {
   "cell_type": "code",
   "execution_count": 198,
   "metadata": {},
   "outputs": [],
   "source": [
    "# Time to do the monte_carlo"
   ]
  },
  {
   "cell_type": "code",
   "execution_count": 199,
   "metadata": {},
   "outputs": [],
   "source": [
    "prob_dict = {}\n",
    "for t1, t2, pred in final_answer:\n",
    "    t1, t2 = rev_name_map[t1], rev_name_map[t2]\n",
    "    if t1 not in prob_dict:\n",
    "        prob_dict[t1] = {}\n",
    "    if t2 not in prob_dict:\n",
    "        prob_dict[t2] = {}\n",
    "    prob_dict[t1][t2] = pred\n",
    "    prob_dict[t2][t1] = 1 - pred"
   ]
  },
  {
   "cell_type": "code",
   "execution_count": 204,
   "metadata": {},
   "outputs": [
    {
     "data": {
      "text/plain": [
       "0.20072571334322953"
      ]
     },
     "execution_count": 204,
     "metadata": {},
     "output_type": "execute_result"
    }
   ],
   "source": [
    "prob_dict['Auburn']['Villanova']"
   ]
  },
  {
   "cell_type": "code",
   "execution_count": 201,
   "metadata": {},
   "outputs": [
    {
     "data": {
      "text/plain": [
       "0.0"
      ]
     },
     "execution_count": 201,
     "metadata": {},
     "output_type": "execute_result"
    }
   ],
   "source": [
    "prob_dict['UMBC']['Virginia']"
   ]
  },
  {
   "cell_type": "code",
   "execution_count": 181,
   "metadata": {},
   "outputs": [
    {
     "data": {
      "text/plain": [
       "831"
      ]
     },
     "execution_count": 181,
     "metadata": {},
     "output_type": "execute_result"
    }
   ],
   "source": [
    "ds.ids.tolist().index(\"%s,%s\" % ('Virginia', 'Villanova'))"
   ]
  },
  {
   "cell_type": "code",
   "execution_count": 182,
   "metadata": {},
   "outputs": [
    {
     "data": {
      "text/plain": [
       "-0.33877038955688432"
      ]
     },
     "execution_count": 182,
     "metadata": {},
     "output_type": "execute_result"
    }
   ],
   "source": [
    "y_pred[831]"
   ]
  },
  {
   "cell_type": "code",
   "execution_count": 184,
   "metadata": {},
   "outputs": [
    {
     "name": "stdout",
     "output_type": "stream",
     "text": [
      "models/27_all_data/0\n",
      "INFO:tensorflow:Restoring parameters from models/27_all_data/0/model-4375\n",
      "models/27_all_data/1\n",
      "INFO:tensorflow:Restoring parameters from models/27_all_data/1/model-4375\n",
      "models/27_all_data/2\n",
      "INFO:tensorflow:Restoring parameters from models/27_all_data/2/model-4375\n",
      "models/27_all_data/3\n",
      "INFO:tensorflow:Restoring parameters from models/27_all_data/3/model-4375\n",
      "models/27_all_data/4\n",
      "INFO:tensorflow:Restoring parameters from models/27_all_data/4/model-4375\n",
      "0.0198142031829\n"
     ]
    },
    {
     "data": {
      "text/plain": [
       "0.30423245677046162"
      ]
     },
     "execution_count": 184,
     "metadata": {},
     "output_type": "execute_result"
    }
   ],
   "source": [
    "play_game('Virginia', 'Villanova', get_team_dict())[1] * transformers[-1].y_stds[0]"
   ]
  },
  {
   "cell_type": "code",
   "execution_count": 219,
   "metadata": {},
   "outputs": [],
   "source": [
    "import random\n",
    "def monte_play_game(t1, t2, prob_dict):\n",
    "    r = random.random()\n",
    "    p = prob_dict[t1][t2]\n",
    "    if r < p:\n",
    "        return t1\n",
    "    return t2\n",
    "\n",
    "def monte_carlo_run(bracket, prob_dict):\n",
    "    teams_left = bracket\n",
    "    results = []\n",
    "    while len(teams_left) > 1:\n",
    "        round_winners = {}\n",
    "        winners = []\n",
    "        for i in range(0, len(teams_left), 2):\n",
    "            t1, t2 = teams_left[i], teams_left[i+1]\n",
    "            winner = monte_play_game(t1, t2, prob_dict)\n",
    "            winners.append(winner)\n",
    "            round_winners[t1] = 1\n",
    "        teams_left = winners\n",
    "        results.append(round_winners)\n",
    "    return results\n",
    "\n",
    "def many_monte_carlo(bracket, prob_dict, num_runs=100):\n",
    "    results = []\n",
    "    for around in [32,16,8,4,2,1]:\n",
    "        d = {}\n",
    "        for team in bracket:\n",
    "            d[team] = 0\n",
    "        results.append(d)\n",
    "    for i in range(num_runs):\n",
    "        l = monte_carlo_run(bracket, prob_dict)\n",
    "        for i, d in enumerate(l):\n",
    "            for k, v in d.items():\n",
    "                results[i][k] += 1\n",
    "    return results\n",
    "                \n",
    "        "
   ]
  },
  {
   "cell_type": "code",
   "execution_count": null,
   "metadata": {},
   "outputs": [],
   "source": [
    "runs = many_monte_carlo(bracket, prob_dict, 1000000)"
   ]
  },
  {
   "cell_type": "code",
   "execution_count": 208,
   "metadata": {},
   "outputs": [],
   "source": [
    "import random"
   ]
  },
  {
   "cell_type": "code",
   "execution_count": 209,
   "metadata": {},
   "outputs": [
    {
     "data": {
      "text/plain": [
       "0.8557417857552075"
      ]
     },
     "execution_count": 209,
     "metadata": {},
     "output_type": "execute_result"
    }
   ],
   "source": [
    "random.random()"
   ]
  },
  {
   "cell_type": "code",
   "execution_count": 221,
   "metadata": {},
   "outputs": [
    {
     "data": {
      "text/plain": [
       "[{'Alabama': 0,\n",
       "  'Arizona': 100,\n",
       "  'Arizona+St.': 0,\n",
       "  'Arkansas': 100,\n",
       "  'Auburn': 100,\n",
       "  'Bucknell': 0,\n",
       "  'Buffalo': 0,\n",
       "  'Butler': 0,\n",
       "  'Cal+St.+Fullerton': 0,\n",
       "  'Cincinnati': 100,\n",
       "  'Clemson': 100,\n",
       "  'College+of+Charleston': 0,\n",
       "  'Creighton': 100,\n",
       "  'Davidson': 0,\n",
       "  'Duke': 100,\n",
       "  'Florida': 100,\n",
       "  'Florida+St.': 0,\n",
       "  'Georgia+St.': 0,\n",
       "  'Gonzaga': 100,\n",
       "  'Houston': 100,\n",
       "  'Iona': 0,\n",
       "  'Kansas': 100,\n",
       "  'Kansas+St.': 0,\n",
       "  'Kentucky': 100,\n",
       "  'Lipscomb': 0,\n",
       "  'Loyola+Chicago': 0,\n",
       "  'Marshall': 0,\n",
       "  'Miami+FL': 100,\n",
       "  'Michigan': 100,\n",
       "  'Michigan+St.': 100,\n",
       "  'Missouri': 100,\n",
       "  'Montana': 0,\n",
       "  'Murray+St.': 0,\n",
       "  'Nevada': 100,\n",
       "  'New+Mexico+St.': 0,\n",
       "  'North+Carolina': 100,\n",
       "  'North+Carolina+St.': 0,\n",
       "  'Ohio+St.': 100,\n",
       "  'Oklahoma': 0,\n",
       "  'Penn': 0,\n",
       "  'Providence': 0,\n",
       "  'Purdue': 100,\n",
       "  'Radford': 0,\n",
       "  'Rhode+Island': 100,\n",
       "  'San+Diego+St.': 0,\n",
       "  'Seton+Hall': 100,\n",
       "  'South+Dakota+St.': 0,\n",
       "  'Stephen+F.+Austin': 0,\n",
       "  'TCU': 100,\n",
       "  'Tennessee': 100,\n",
       "  'Texas': 0,\n",
       "  'Texas+A%26M': 100,\n",
       "  'Texas+Southern': 0,\n",
       "  'Texas+Tech': 100,\n",
       "  'UCLA': 0,\n",
       "  'UMBC': 0,\n",
       "  'UNC+Greensboro': 0,\n",
       "  'Villanova': 100,\n",
       "  'Virginia': 100,\n",
       "  'Virginia+Tech': 100,\n",
       "  'West+Virginia': 100,\n",
       "  'Wichita+St.': 100,\n",
       "  'Wright+St.': 0,\n",
       "  'Xavier': 100},\n",
       " {'Alabama': 0,\n",
       "  'Arizona': 0,\n",
       "  'Arizona+St.': 40,\n",
       "  'Arkansas': 52,\n",
       "  'Auburn': 0,\n",
       "  'Bucknell': 0,\n",
       "  'Buffalo': 0,\n",
       "  'Butler': 48,\n",
       "  'Cal+St.+Fullerton': 0,\n",
       "  'Cincinnati': 0,\n",
       "  'Clemson': 77,\n",
       "  'College+of+Charleston': 0,\n",
       "  'Creighton': 0,\n",
       "  'Davidson': 27,\n",
       "  'Duke': 0,\n",
       "  'Florida': 63,\n",
       "  'Florida+St.': 0,\n",
       "  'Georgia+St.': 0,\n",
       "  'Gonzaga': 0,\n",
       "  'Houston': 70,\n",
       "  'Iona': 0,\n",
       "  'Kansas': 90,\n",
       "  'Kansas+St.': 0,\n",
       "  'Kentucky': 73,\n",
       "  'Lipscomb': 0,\n",
       "  'Loyola+Chicago': 42,\n",
       "  'Marshall': 0,\n",
       "  'Miami+FL': 58,\n",
       "  'Michigan': 0,\n",
       "  'Michigan+St.': 0,\n",
       "  'Missouri': 0,\n",
       "  'Montana': 0,\n",
       "  'Murray+St.': 27,\n",
       "  'Nevada': 59,\n",
       "  'New+Mexico+St.': 23,\n",
       "  'North+Carolina': 0,\n",
       "  'North+Carolina+St.': 0,\n",
       "  'Ohio+St.': 82,\n",
       "  'Oklahoma': 66,\n",
       "  'Penn': 10,\n",
       "  'Providence': 36,\n",
       "  'Purdue': 0,\n",
       "  'Radford': 0,\n",
       "  'Rhode+Island': 34,\n",
       "  'San+Diego+St.': 30,\n",
       "  'Seton+Hall': 0,\n",
       "  'South+Dakota+St.': 18,\n",
       "  'Stephen+F.+Austin': 0,\n",
       "  'TCU': 60,\n",
       "  'Tennessee': 0,\n",
       "  'Texas': 41,\n",
       "  'Texas+A%26M': 64,\n",
       "  'Texas+Southern': 0,\n",
       "  'Texas+Tech': 0,\n",
       "  'UCLA': 37,\n",
       "  'UMBC': 0,\n",
       "  'UNC+Greensboro': 0,\n",
       "  'Villanova': 100,\n",
       "  'Virginia': 100,\n",
       "  'Virginia+Tech': 0,\n",
       "  'West+Virginia': 73,\n",
       "  'Wichita+St.': 0,\n",
       "  'Wright+St.': 0,\n",
       "  'Xavier': 100},\n",
       " {'Alabama': 11,\n",
       "  'Arizona': 0,\n",
       "  'Arizona+St.': 9,\n",
       "  'Arkansas': 0,\n",
       "  'Auburn': 0,\n",
       "  'Bucknell': 2,\n",
       "  'Buffalo': 0,\n",
       "  'Butler': 0,\n",
       "  'Cal+St.+Fullerton': 0,\n",
       "  'Cincinnati': 0,\n",
       "  'Clemson': 0,\n",
       "  'College+of+Charleston': 0,\n",
       "  'Creighton': 9,\n",
       "  'Davidson': 0,\n",
       "  'Duke': 0,\n",
       "  'Florida': 23,\n",
       "  'Florida+St.': 21,\n",
       "  'Georgia+St.': 0,\n",
       "  'Gonzaga': 0,\n",
       "  'Houston': 30,\n",
       "  'Iona': 0,\n",
       "  'Kansas': 67,\n",
       "  'Kansas+St.': 8,\n",
       "  'Kentucky': 0,\n",
       "  'Lipscomb': 0,\n",
       "  'Loyola+Chicago': 11,\n",
       "  'Marshall': 0,\n",
       "  'Miami+FL': 21,\n",
       "  'Michigan': 61,\n",
       "  'Michigan+St.': 64,\n",
       "  'Missouri': 21,\n",
       "  'Montana': 4,\n",
       "  'Murray+St.': 0,\n",
       "  'Nevada': 0,\n",
       "  'New+Mexico+St.': 0,\n",
       "  'North+Carolina': 0,\n",
       "  'North+Carolina+St.': 14,\n",
       "  'Ohio+St.': 0,\n",
       "  'Oklahoma': 0,\n",
       "  'Penn': 1,\n",
       "  'Providence': 0,\n",
       "  'Purdue': 0,\n",
       "  'Radford': 0,\n",
       "  'Rhode+Island': 0,\n",
       "  'San+Diego+St.': 5,\n",
       "  'Seton+Hall': 18,\n",
       "  'South+Dakota+St.': 0,\n",
       "  'Stephen+F.+Austin': 1,\n",
       "  'TCU': 25,\n",
       "  'Tennessee': 68,\n",
       "  'Texas': 0,\n",
       "  'Texas+A%26M': 0,\n",
       "  'Texas+Southern': 0,\n",
       "  'Texas+Tech': 69,\n",
       "  'UCLA': 7,\n",
       "  'UMBC': 0,\n",
       "  'UNC+Greensboro': 0,\n",
       "  'Villanova': 84,\n",
       "  'Virginia': 83,\n",
       "  'Virginia+Tech': 5,\n",
       "  'West+Virginia': 0,\n",
       "  'Wichita+St.': 0,\n",
       "  'Wright+St.': 0,\n",
       "  'Xavier': 58},\n",
       " {'Alabama': 4,\n",
       "  'Arizona': 11,\n",
       "  'Arizona+St.': 0,\n",
       "  'Arkansas': 0,\n",
       "  'Auburn': 27,\n",
       "  'Bucknell': 0,\n",
       "  'Buffalo': 1,\n",
       "  'Butler': 0,\n",
       "  'Cal+St.+Fullerton': 0,\n",
       "  'Cincinnati': 0,\n",
       "  'Clemson': 16,\n",
       "  'College+of+Charleston': 0,\n",
       "  'Creighton': 4,\n",
       "  'Davidson': 1,\n",
       "  'Duke': 0,\n",
       "  'Florida': 0,\n",
       "  'Florida+St.': 8,\n",
       "  'Georgia+St.': 0,\n",
       "  'Gonzaga': 29,\n",
       "  'Houston': 0,\n",
       "  'Iona': 0,\n",
       "  'Kansas': 39,\n",
       "  'Kansas+St.': 3,\n",
       "  'Kentucky': 10,\n",
       "  'Lipscomb': 0,\n",
       "  'Loyola+Chicago': 0,\n",
       "  'Marshall': 0,\n",
       "  'Miami+FL': 0,\n",
       "  'Michigan': 0,\n",
       "  'Michigan+St.': 0,\n",
       "  'Missouri': 10,\n",
       "  'Montana': 0,\n",
       "  'Murray+St.': 0,\n",
       "  'Nevada': 0,\n",
       "  'New+Mexico+St.': 3,\n",
       "  'North+Carolina': 0,\n",
       "  'North+Carolina+St.': 6,\n",
       "  'Ohio+St.': 21,\n",
       "  'Oklahoma': 0,\n",
       "  'Penn': 0,\n",
       "  'Providence': 0,\n",
       "  'Purdue': 0,\n",
       "  'Radford': 0,\n",
       "  'Rhode+Island': 0,\n",
       "  'San+Diego+St.': 0,\n",
       "  'Seton+Hall': 9,\n",
       "  'South+Dakota+St.': 0,\n",
       "  'Stephen+F.+Austin': 0,\n",
       "  'TCU': 0,\n",
       "  'Tennessee': 0,\n",
       "  'Texas': 0,\n",
       "  'Texas+A%26M': 0,\n",
       "  'Texas+Southern': 0,\n",
       "  'Texas+Tech': 0,\n",
       "  'UCLA': 0,\n",
       "  'UMBC': 0,\n",
       "  'UNC+Greensboro': 1,\n",
       "  'Villanova': 62,\n",
       "  'Virginia': 70,\n",
       "  'Virginia+Tech': 3,\n",
       "  'West+Virginia': 10,\n",
       "  'Wichita+St.': 21,\n",
       "  'Wright+St.': 0,\n",
       "  'Xavier': 31},\n",
       " {'Alabama': 1,\n",
       "  'Arizona': 5,\n",
       "  'Arizona+St.': 0,\n",
       "  'Arkansas': 1,\n",
       "  'Auburn': 0,\n",
       "  'Bucknell': 0,\n",
       "  'Buffalo': 0,\n",
       "  'Butler': 1,\n",
       "  'Cal+St.+Fullerton': 0,\n",
       "  'Cincinnati': 20,\n",
       "  'Clemson': 0,\n",
       "  'College+of+Charleston': 0,\n",
       "  'Creighton': 3,\n",
       "  'Davidson': 0,\n",
       "  'Duke': 0,\n",
       "  'Florida': 2,\n",
       "  'Florida+St.': 0,\n",
       "  'Georgia+St.': 0,\n",
       "  'Gonzaga': 0,\n",
       "  'Houston': 0,\n",
       "  'Iona': 0,\n",
       "  'Kansas': 0,\n",
       "  'Kansas+St.': 0,\n",
       "  'Kentucky': 5,\n",
       "  'Lipscomb': 0,\n",
       "  'Loyola+Chicago': 1,\n",
       "  'Marshall': 0,\n",
       "  'Miami+FL': 2,\n",
       "  'Michigan': 0,\n",
       "  'Michigan+St.': 0,\n",
       "  'Missouri': 0,\n",
       "  'Montana': 0,\n",
       "  'Murray+St.': 0,\n",
       "  'Nevada': 1,\n",
       "  'New+Mexico+St.': 0,\n",
       "  'North+Carolina': 0,\n",
       "  'North+Carolina+St.': 0,\n",
       "  'Ohio+St.': 0,\n",
       "  'Oklahoma': 0,\n",
       "  'Penn': 0,\n",
       "  'Providence': 0,\n",
       "  'Purdue': 33,\n",
       "  'Radford': 0,\n",
       "  'Rhode+Island': 0,\n",
       "  'San+Diego+St.': 0,\n",
       "  'Seton+Hall': 0,\n",
       "  'South+Dakota+St.': 0,\n",
       "  'Stephen+F.+Austin': 0,\n",
       "  'TCU': 0,\n",
       "  'Tennessee': 11,\n",
       "  'Texas': 0,\n",
       "  'Texas+A%26M': 0,\n",
       "  'Texas+Southern': 0,\n",
       "  'Texas+Tech': 12,\n",
       "  'UCLA': 0,\n",
       "  'UMBC': 0,\n",
       "  'UNC+Greensboro': 0,\n",
       "  'Villanova': 46,\n",
       "  'Virginia': 52,\n",
       "  'Virginia+Tech': 0,\n",
       "  'West+Virginia': 1,\n",
       "  'Wichita+St.': 3,\n",
       "  'Wright+St.': 0,\n",
       "  'Xavier': 0},\n",
       " {'Alabama': 0,\n",
       "  'Arizona': 2,\n",
       "  'Arizona+St.': 0,\n",
       "  'Arkansas': 0,\n",
       "  'Auburn': 0,\n",
       "  'Bucknell': 0,\n",
       "  'Buffalo': 0,\n",
       "  'Butler': 0,\n",
       "  'Cal+St.+Fullerton': 0,\n",
       "  'Cincinnati': 14,\n",
       "  'Clemson': 0,\n",
       "  'College+of+Charleston': 0,\n",
       "  'Creighton': 0,\n",
       "  'Davidson': 0,\n",
       "  'Duke': 0,\n",
       "  'Florida': 0,\n",
       "  'Florida+St.': 0,\n",
       "  'Georgia+St.': 0,\n",
       "  'Gonzaga': 5,\n",
       "  'Houston': 1,\n",
       "  'Iona': 0,\n",
       "  'Kansas': 0,\n",
       "  'Kansas+St.': 0,\n",
       "  'Kentucky': 2,\n",
       "  'Lipscomb': 0,\n",
       "  'Loyola+Chicago': 0,\n",
       "  'Marshall': 0,\n",
       "  'Miami+FL': 1,\n",
       "  'Michigan': 7,\n",
       "  'Michigan+St.': 0,\n",
       "  'Missouri': 1,\n",
       "  'Montana': 0,\n",
       "  'Murray+St.': 0,\n",
       "  'Nevada': 1,\n",
       "  'New+Mexico+St.': 0,\n",
       "  'North+Carolina': 10,\n",
       "  'North+Carolina+St.': 0,\n",
       "  'Ohio+St.': 5,\n",
       "  'Oklahoma': 0,\n",
       "  'Penn': 0,\n",
       "  'Providence': 0,\n",
       "  'Purdue': 0,\n",
       "  'Radford': 0,\n",
       "  'Rhode+Island': 0,\n",
       "  'San+Diego+St.': 0,\n",
       "  'Seton+Hall': 0,\n",
       "  'South+Dakota+St.': 0,\n",
       "  'Stephen+F.+Austin': 0,\n",
       "  'TCU': 0,\n",
       "  'Tennessee': 6,\n",
       "  'Texas': 0,\n",
       "  'Texas+A%26M': 4,\n",
       "  'Texas+Southern': 0,\n",
       "  'Texas+Tech': 0,\n",
       "  'UCLA': 0,\n",
       "  'UMBC': 0,\n",
       "  'UNC+Greensboro': 0,\n",
       "  'Villanova': 0,\n",
       "  'Virginia': 36,\n",
       "  'Virginia+Tech': 0,\n",
       "  'West+Virginia': 0,\n",
       "  'Wichita+St.': 0,\n",
       "  'Wright+St.': 0,\n",
       "  'Xavier': 5}]"
      ]
     },
     "execution_count": 221,
     "metadata": {},
     "output_type": "execute_result"
    }
   ],
   "source": [
    "runs"
   ]
  },
  {
   "cell_type": "code",
   "execution_count": null,
   "metadata": {},
   "outputs": [],
   "source": []
  }
 ],
 "metadata": {
  "kernelspec": {
   "display_name": "Python 3",
   "language": "python",
   "name": "python3"
  },
  "language_info": {
   "codemirror_mode": {
    "name": "ipython",
    "version": 3
   },
   "file_extension": ".py",
   "mimetype": "text/x-python",
   "name": "python",
   "nbconvert_exporter": "python",
   "pygments_lexer": "ipython3",
   "version": "3.5.4"
  }
 },
 "nbformat": 4,
 "nbformat_minor": 2
}
