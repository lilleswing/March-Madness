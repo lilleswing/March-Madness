{
 "cells": [
  {
   "cell_type": "code",
   "execution_count": 1,
   "metadata": {},
   "outputs": [],
   "source": [
    "import json"
   ]
  },
  {
   "cell_type": "code",
   "execution_count": 3,
   "metadata": {},
   "outputs": [],
   "source": [
    "final_scores = json.loads(open('2018_final_scores.json').read())\n",
    "final_winners = json.loads(open('2018_final_winners.json').read())"
   ]
  },
  {
   "cell_type": "code",
   "execution_count": 12,
   "metadata": {},
   "outputs": [],
   "source": [
    "bracket = [\n",
    "        'Virginia',\n",
    "        'UMBC',\n",
    "        'Creighton',\n",
    "        'Kansas+St.',\n",
    "        'Kentucky',\n",
    "        'Davidson',\n",
    "        'Arizona',\n",
    "        'Buffalo',\n",
    "        'Miami+FL',\n",
    "        \"Loyola+Chicago\",\n",
    "        'Tennessee',\n",
    "        'Wright+St.',\n",
    "        'Nevada',\n",
    "        'Texas',\n",
    "        'Cincinnati',\n",
    "        'Georgia+St.',\n",
    "\n",
    "        'Xavier',\n",
    "        'Texas+Southern',\n",
    "        'Missouri',\n",
    "        'Florida+St.',\n",
    "        'Ohio+St.',\n",
    "        'South+Dakota+St.',\n",
    "        'Gonzaga',\n",
    "        'UNC+Greensboro',\n",
    "        'Houston',\n",
    "        'San+Diego+St.',\n",
    "        'Michigan',\n",
    "        'Montana',\n",
    "        'Texas+A%26M',\n",
    "        'Providence',\n",
    "        'North+Carolina',\n",
    "        'Lipscomb',\n",
    "\n",
    "        'Villanova',\n",
    "        'Radford',\n",
    "        'Virginia+Tech',\n",
    "        'Alabama',\n",
    "        'West+Virginia',\n",
    "        'Murray+St.',\n",
    "        'Wichita+St.',\n",
    "        'Marshall',\n",
    "        'Florida',\n",
    "        'UCLA',\n",
    "        'Texas+Tech',\n",
    "        'Stephen+F.+Austin',\n",
    "        'Arkansas',\n",
    "        'Butler',\n",
    "        'Purdue',\n",
    "        'Cal+St.+Fullerton',\n",
    "\n",
    "        'Kansas',\n",
    "        'Penn',\n",
    "        'Seton+Hall',\n",
    "        'North+Carolina+St.',\n",
    "        'Clemson',\n",
    "        'New+Mexico+St.',\n",
    "        'Auburn',\n",
    "        'College+of+Charleston',\n",
    "        'TCU',\n",
    "        'Arizona+St.',\n",
    "        'Michigan+St.',\n",
    "        'Bucknell',\n",
    "        'Rhode+Island',\n",
    "        'Oklahoma',\n",
    "        'Duke',\n",
    "        'Iona'\n",
    "    ]\n",
    "\n",
    "import pickle\n",
    "transformers = pickle.load(open('transformers.pkl', 'rb'))\n",
    "std = transformers[-1].y_stds[0]\n",
    "def round_to_markdown(teams, scores, winners):\n",
    "    s = \"\"\n",
    "    for i in range(len(scores)):\n",
    "        winner = winners[i]\n",
    "        score = scores[i] * std\n",
    "        t1 = teams[i*2]\n",
    "        t2 = teams[i*2+1]\n",
    "        if winner == t1:\n",
    "            s += \"**%s**,%s,+%s\\n\" % (t1,t2,score)\n",
    "        else:\n",
    "            s += \"%s,**%s**,+%s\\n\" % (t1,t2,score)\n",
    "    return s\n",
    "        \n",
    "    "
   ]
  },
  {
   "cell_type": "code",
   "execution_count": 14,
   "metadata": {},
   "outputs": [
    {
     "name": "stdout",
     "output_type": "stream",
     "text": [
      "**Virginia**,UMBC,+50.04451592108355\n",
      "**Creighton**,Kansas+St.,+3.908303406211406\n",
      "**Kentucky**,Davidson,+10.897582706029711\n",
      "**Arizona**,Buffalo,+18.140865279997122\n",
      "**Miami+FL**,Loyola+Chicago,+4.6991498023253815\n",
      "**Tennessee**,Wright+St.,+37.97860674390514\n",
      "**Nevada**,Texas,+1.6296466716587592\n",
      "**Cincinnati**,Georgia+St.,+33.18235395071431\n",
      "**Xavier**,Texas+Southern,+53.02173634186801\n",
      "Missouri,**Florida+St.**,+0.7446368598679279\n",
      "**Ohio+St.**,South+Dakota+St.,+20.824863990904994\n",
      "**Gonzaga**,UNC+Greensboro,+24.81450266042138\n",
      "**Houston**,San+Diego+St.,+8.105907868467542\n",
      "**Michigan**,Montana,+21.672028144920677\n",
      "**Texas+A%26M**,Providence,+9.095085901651814\n",
      "**North+Carolina**,Lipscomb,+43.74951632510049\n",
      "**Villanova**,Radford,+50.874744571093984\n",
      "**Virginia+Tech**,Alabama,+1.9627672575345292\n",
      "**West+Virginia**,Murray+St.,+23.108640272034535\n",
      "**Wichita+St.**,Marshall,+30.0327492265292\n",
      "**Florida**,UCLA,+10.306061838223519\n",
      "**Texas+Tech**,Stephen+F.+Austin,+36.575208521755265\n",
      "Arkansas,**Butler**,+1.2448602147690788\n",
      "**Purdue**,Cal+St.+Fullerton,+48.65379301536019\n",
      "**Kansas**,Penn,+41.87121014626839\n",
      "**Seton+Hall**,North+Carolina+St.,+2.017437224300789\n",
      "**Clemson**,New+Mexico+St.,+10.553824921393982\n",
      "**Auburn**,College+of+Charleston,+36.3202287448894\n",
      "**TCU**,Arizona+St.,+8.563119344566275\n",
      "**Michigan+St.**,Bucknell,+35.83092858415495\n",
      "Rhode+Island,**Oklahoma**,+4.057165616991521\n",
      "**Duke**,Iona,+48.921869093891296\n",
      "\n"
     ]
    }
   ],
   "source": [
    "\n",
    "print(round_to_markdown(bracket, final_scores[0], final_winners[0]))"
   ]
  },
  {
   "cell_type": "code",
   "execution_count": 16,
   "metadata": {},
   "outputs": [
    {
     "name": "stdout",
     "output_type": "stream",
     "text": [
      "## Round of x\n",
      "**Virginia**,Creighton,+17.2533268112181\n",
      "**Kentucky**,Arizona,+0.41280988841590405\n",
      "Miami+FL,**Tennessee**,+9.399217535508221\n",
      "Nevada,**Cincinnati**,+12.524173116373932\n",
      "**Xavier**,Florida+St.,+7.392531908130084\n",
      "Ohio+St.,**Gonzaga**,+1.5711283506994658\n",
      "Houston,**Michigan**,+9.26761663470071\n",
      "Texas+A%26M,**North+Carolina**,+11.55029332069043\n",
      "**Villanova**,Virginia+Tech,+19.782516437256362\n",
      "**West+Virginia**,Wichita+St.,+5.036144138786303\n",
      "Florida,**Texas+Tech**,+4.623142747846049\n",
      "Butler,**Purdue**,+15.530353660840754\n",
      "**Kansas**,Seton+Hall,+10.71568322104881\n",
      "Clemson,**Auburn**,+1.8494664020168847\n",
      "TCU,**Michigan+St.**,+8.91185894039101\n",
      "Oklahoma,**Duke**,+22.765595874341365\n",
      "\n",
      "## Round of x\n",
      "**Virginia**,Kentucky,+16.109263732784186\n",
      "Tennessee,**Cincinnati**,+5.672054925662727\n",
      "**Xavier**,Gonzaga,+1.0260055473114418\n",
      "Michigan,**North+Carolina**,+2.3533056540444743\n",
      "**Villanova**,West+Virginia,+9.391366389602517\n",
      "Texas+Tech,**Purdue**,+4.656839870649254\n",
      "**Kansas**,Auburn,+3.9922927068908898\n",
      "Michigan+St.,**Duke**,+5.069948109473464\n",
      "\n",
      "## Round of x\n",
      "**Virginia**,Cincinnati,+3.9591254763772836\n",
      "Xavier,**North+Carolina**,+4.826211384037187\n",
      "**Villanova**,Purdue,+3.2962636263517306\n",
      "Kansas,**Duke**,+10.188324621956593\n",
      "\n",
      "## Round of x\n",
      "**Virginia**,North+Carolina,+5.530815293259253\n",
      "**Villanova**,Duke,+0.7090796229393145\n",
      "\n",
      "## Round of x\n",
      "**Virginia**,Villanova,+0.09199991762398306\n",
      "\n"
     ]
    }
   ],
   "source": [
    "for i in range(1, len(final_scores)):\n",
    "    print(\"## Round of x\")\n",
    "    print(round_to_markdown(final_winners[i-1], final_scores[i], final_winners[i]))"
   ]
  },
  {
   "cell_type": "code",
   "execution_count": 18,
   "metadata": {},
   "outputs": [
    {
     "data": {
      "text/plain": [
       "38"
      ]
     },
     "execution_count": 18,
     "metadata": {},
     "output_type": "execute_result"
    }
   ],
   "source": [
    "keywords = [\n",
    "    'RankAdjOE',\n",
    "    'RankAdjDE',\n",
    "    'RankAdjTempo',\n",
    "    'RankAPL_Off',\n",
    "    'RankAPL_Def',\n",
    "    'RankeFG_Pct',\n",
    "    'RankDeFG_Pct',\n",
    "    'RankTO_Pct',\n",
    "    'RankDTO_Pct',\n",
    "    'RankOR_Pct',\n",
    "    'RankDOR_Pct',\n",
    "    'RankFT_Rate',\n",
    "    'RankDFT_Rate',\n",
    "    'RankDFT_Rate',\n",
    "    'RankFG3Pct',\n",
    "    'RankFG3Pct&od=d',\n",
    "    'RankFG2Pct',\n",
    "    'RankFG2Pct&od=d',\n",
    "    'RankFTPct',\n",
    "    'RankFTPct&od=d',\n",
    "    'RankBlockPct',\n",
    "    'RankBlockPct&od=d',\n",
    "    'RankStlRate',\n",
    "    'RankStlRate&od=d',\n",
    "    'RankF3GRate',\n",
    "    'RankF3GRate&od=d',\n",
    "    'RankARate',\n",
    "    'RankARate&od=d',\n",
    "    'RankOff_3',\n",
    "    'RankDef_3',\n",
    "    'RankOff_2',\n",
    "    'RankDef_2',\n",
    "    'RankOff_1',\n",
    "    'RankDef_1',\n",
    "    'RankSOSO',\n",
    "    'RankSOSD',\n",
    "    'ExpRank',\n",
    "    'SizeRank',\n",
    "]\n",
    "len(keywords)"
   ]
  },
  {
   "cell_type": "code",
   "execution_count": 19,
   "metadata": {},
   "outputs": [
    {
     "data": {
      "text/plain": [
       "76"
      ]
     },
     "execution_count": 19,
     "metadata": {},
     "output_type": "execute_result"
    }
   ],
   "source": [
    "38*2"
   ]
  },
  {
   "cell_type": "code",
   "execution_count": null,
   "metadata": {},
   "outputs": [],
   "source": []
  }
 ],
 "metadata": {
  "kernelspec": {
   "display_name": "Python 3",
   "language": "python",
   "name": "python3"
  },
  "language_info": {
   "codemirror_mode": {
    "name": "ipython",
    "version": 3
   },
   "file_extension": ".py",
   "mimetype": "text/x-python",
   "name": "python",
   "nbconvert_exporter": "python",
   "pygments_lexer": "ipython3",
   "version": "3.5.4"
  }
 },
 "nbformat": 4,
 "nbformat_minor": 2
}
